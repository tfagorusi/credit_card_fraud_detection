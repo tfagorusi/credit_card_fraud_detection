{
 "cells": [
  {
   "cell_type": "code",
   "execution_count": 1,
   "id": "98438d0b-1611-41db-a289-1dc064420075",
   "metadata": {},
   "outputs": [],
   "source": [
    "# Necessary imports for this notebook\n",
    "import os\n",
    "\n",
    "import numpy as np\n",
    "import pandas as pd\n",
    "import datetime\n",
    "import time\n",
    "import random\n",
    "\n",
    "# For plotting\n",
    "%matplotlib inline\n",
    "\n",
    "import matplotlib.pyplot as plt\n",
    "import seaborn as sns\n",
    "\n",
    "# Import Unsupervised ML algorithms libraries\n",
    "from pyod.models.knn import KNN          # K nearest Neighbour\n",
    "from pyod.models.lof import LOF          # Local Outilier Factor\n",
    "from pyod.models.pca import PCA          # Principal Component Analysis\n",
    "from pyod.models.iforest import IForest  # Isolation Forest\n",
    "\n",
    "sns.set_style('darkgrid', {'axes.facecolor': '0.9'})\n",
    "pd.set_option('max_colwidth', None)"
   ]
  },
  {
   "cell_type": "markdown",
   "id": "c88e7639-7f11-42e0-901a-4ad1288ec83e",
   "metadata": {},
   "source": [
    "# 1. Load Data"
   ]
  },
  {
   "cell_type": "code",
   "execution_count": 2,
   "id": "f9bc313e-7b67-4d3b-8c5d-5951554de060",
   "metadata": {},
   "outputs": [],
   "source": [
    "# Load a set of pickle files, put them together in a single DataFrame, and order them by time\n",
    "# It takes as input the folder DIR_INPUT where the files are stored, and the BEGIN_DATE and END_DATE\n",
    "def read_from_files(DIR_INPUT, BEGIN_DATE, END_DATE):\n",
    "    \n",
    "    files = [os.path.join(DIR_INPUT, f) for f in os.listdir(DIR_INPUT) if f>=BEGIN_DATE+'.pkl' and f<=END_DATE+'.pkl']\n",
    "\n",
    "    frames = []\n",
    "    for f in files:\n",
    "        df = pd.read_pickle(f)\n",
    "        frames.append(df)\n",
    "        del df\n",
    "    df_final = pd.concat(frames)\n",
    "    \n",
    "    df_final=df_final.sort_values('TRANSACTION_ID')\n",
    "    df_final.reset_index(drop=True,inplace=True)\n",
    "    #  Note: -1 are missing values for real world data \n",
    "    df_final=df_final.replace(-1,0)\n",
    "    \n",
    "    return df_final"
   ]
  },
  {
   "cell_type": "code",
   "execution_count": 3,
   "id": "207cd478-bf55-4018-b0e8-9f9cf7470a21",
   "metadata": {},
   "outputs": [
    {
     "name": "stdout",
     "output_type": "stream",
     "text": [
      "Load  files\n",
      "CPU times: user 562 ms, sys: 152 ms, total: 715 ms\n",
      "Wall time: 930 ms\n",
      "1754155 transactions loaded, containing 14681 fraudulent transactions\n"
     ]
    }
   ],
   "source": [
    "DIR_INPUT='./simulated-data-raw-ccfd/' \n",
    "\n",
    "BEGIN_DATE = \"2021-04-01\"\n",
    "END_DATE = \"2021-09-30\"\n",
    "\n",
    "print(\"Load  files\")\n",
    "%time transactions_df=read_from_files(DIR_INPUT, BEGIN_DATE, END_DATE)\n",
    "print(\"{0} transactions loaded, containing {1} fraudulent transactions\".format(len(transactions_df),transactions_df.TX_FRAUD.sum()))"
   ]
  },
  {
   "cell_type": "code",
   "execution_count": 4,
   "id": "d049e809-7749-4bef-95c7-86e2509ad9b7",
   "metadata": {},
   "outputs": [
    {
     "data": {
      "text/html": [
       "<div>\n",
       "<style scoped>\n",
       "    .dataframe tbody tr th:only-of-type {\n",
       "        vertical-align: middle;\n",
       "    }\n",
       "\n",
       "    .dataframe tbody tr th {\n",
       "        vertical-align: top;\n",
       "    }\n",
       "\n",
       "    .dataframe thead th {\n",
       "        text-align: right;\n",
       "    }\n",
       "</style>\n",
       "<table border=\"1\" class=\"dataframe\">\n",
       "  <thead>\n",
       "    <tr style=\"text-align: right;\">\n",
       "      <th></th>\n",
       "      <th>TRANSACTION_ID</th>\n",
       "      <th>TX_DATETIME</th>\n",
       "      <th>CUSTOMER_ID</th>\n",
       "      <th>TERMINAL_ID</th>\n",
       "      <th>TX_AMOUNT</th>\n",
       "      <th>TX_TIME_SECONDS</th>\n",
       "      <th>TX_TIME_DAYS</th>\n",
       "      <th>TX_FRAUD</th>\n",
       "      <th>TX_FRAUD_SCENARIO</th>\n",
       "    </tr>\n",
       "  </thead>\n",
       "  <tbody>\n",
       "    <tr>\n",
       "      <th>0</th>\n",
       "      <td>0</td>\n",
       "      <td>2021-04-01 00:00:31</td>\n",
       "      <td>596</td>\n",
       "      <td>3156</td>\n",
       "      <td>57.16</td>\n",
       "      <td>31</td>\n",
       "      <td>0</td>\n",
       "      <td>0</td>\n",
       "      <td>0</td>\n",
       "    </tr>\n",
       "    <tr>\n",
       "      <th>1</th>\n",
       "      <td>1</td>\n",
       "      <td>2021-04-01 00:02:10</td>\n",
       "      <td>4961</td>\n",
       "      <td>3412</td>\n",
       "      <td>81.51</td>\n",
       "      <td>130</td>\n",
       "      <td>0</td>\n",
       "      <td>0</td>\n",
       "      <td>0</td>\n",
       "    </tr>\n",
       "    <tr>\n",
       "      <th>2</th>\n",
       "      <td>2</td>\n",
       "      <td>2021-04-01 00:07:56</td>\n",
       "      <td>2</td>\n",
       "      <td>1365</td>\n",
       "      <td>146.00</td>\n",
       "      <td>476</td>\n",
       "      <td>0</td>\n",
       "      <td>0</td>\n",
       "      <td>0</td>\n",
       "    </tr>\n",
       "    <tr>\n",
       "      <th>3</th>\n",
       "      <td>3</td>\n",
       "      <td>2021-04-01 00:09:29</td>\n",
       "      <td>4128</td>\n",
       "      <td>8737</td>\n",
       "      <td>64.49</td>\n",
       "      <td>569</td>\n",
       "      <td>0</td>\n",
       "      <td>0</td>\n",
       "      <td>0</td>\n",
       "    </tr>\n",
       "    <tr>\n",
       "      <th>4</th>\n",
       "      <td>4</td>\n",
       "      <td>2021-04-01 00:10:34</td>\n",
       "      <td>927</td>\n",
       "      <td>9906</td>\n",
       "      <td>50.99</td>\n",
       "      <td>634</td>\n",
       "      <td>0</td>\n",
       "      <td>0</td>\n",
       "      <td>0</td>\n",
       "    </tr>\n",
       "  </tbody>\n",
       "</table>\n",
       "</div>"
      ],
      "text/plain": [
       "   TRANSACTION_ID         TX_DATETIME CUSTOMER_ID TERMINAL_ID  TX_AMOUNT   \n",
       "0               0 2021-04-01 00:00:31         596        3156      57.16  \\\n",
       "1               1 2021-04-01 00:02:10        4961        3412      81.51   \n",
       "2               2 2021-04-01 00:07:56           2        1365     146.00   \n",
       "3               3 2021-04-01 00:09:29        4128        8737      64.49   \n",
       "4               4 2021-04-01 00:10:34         927        9906      50.99   \n",
       "\n",
       "  TX_TIME_SECONDS TX_TIME_DAYS  TX_FRAUD  TX_FRAUD_SCENARIO  \n",
       "0              31            0         0                  0  \n",
       "1             130            0         0                  0  \n",
       "2             476            0         0                  0  \n",
       "3             569            0         0                  0  \n",
       "4             634            0         0                  0  "
      ]
     },
     "execution_count": 4,
     "metadata": {},
     "output_type": "execute_result"
    }
   ],
   "source": [
    "transactions_df.head()"
   ]
  },
  {
   "cell_type": "markdown",
   "id": "6dedb7e8-25be-4b91-a672-64fa64afe830",
   "metadata": {},
   "source": [
    "# 2. EDA"
   ]
  },
  {
   "cell_type": "code",
   "execution_count": 5,
   "id": "a68f79be-f3d8-4e1a-b2d8-d7d3fe0ab872",
   "metadata": {},
   "outputs": [
    {
     "name": "stdout",
     "output_type": "stream",
     "text": [
      "<class 'pandas.core.frame.DataFrame'>\n",
      "RangeIndex: 1754155 entries, 0 to 1754154\n",
      "Data columns (total 9 columns):\n",
      " #   Column             Dtype         \n",
      "---  ------             -----         \n",
      " 0   TRANSACTION_ID     int64         \n",
      " 1   TX_DATETIME        datetime64[ns]\n",
      " 2   CUSTOMER_ID        object        \n",
      " 3   TERMINAL_ID        object        \n",
      " 4   TX_AMOUNT          float64       \n",
      " 5   TX_TIME_SECONDS    object        \n",
      " 6   TX_TIME_DAYS       object        \n",
      " 7   TX_FRAUD           int64         \n",
      " 8   TX_FRAUD_SCENARIO  int64         \n",
      "dtypes: datetime64[ns](1), float64(1), int64(3), object(4)\n",
      "memory usage: 120.4+ MB\n"
     ]
    }
   ],
   "source": [
    "transactions_df.info()"
   ]
  },
  {
   "cell_type": "markdown",
   "id": "dea74ced-a514-4bd6-bd95-064d81e6ad6f",
   "metadata": {},
   "source": [
    "Observations:\n",
    "- no missing values in the data,\n",
    "- the data columns data type are a mix of categorical and numerical features.\n",
    "-  We need to convert the `TX_DATETIME` to a datetime data type"
   ]
  },
  {
   "cell_type": "code",
   "execution_count": 6,
   "id": "403a245d-410b-4c59-9e84-99f75798053e",
   "metadata": {},
   "outputs": [],
   "source": [
    "# Convert 'TX_DATETIME' column to datetime format\n",
    "transactions_df['TX_DATETIME'] = pd.to_datetime(transactions_df['TX_DATETIME'])"
   ]
  },
  {
   "cell_type": "code",
   "execution_count": 7,
   "id": "5eef1b3b-b95a-4780-970d-9d33f025250f",
   "metadata": {},
   "outputs": [
    {
     "data": {
      "text/plain": [
       "dtype('<M8[ns]')"
      ]
     },
     "execution_count": 7,
     "metadata": {},
     "output_type": "execute_result"
    }
   ],
   "source": [
    "transactions_df['TX_DATETIME'].dtype"
   ]
  },
  {
   "cell_type": "code",
   "execution_count": 8,
   "id": "50cc5a5a-c398-428c-bef9-405e25576451",
   "metadata": {},
   "outputs": [
    {
     "data": {
      "text/plain": [
       "(1754155, 9)"
      ]
     },
     "execution_count": 8,
     "metadata": {},
     "output_type": "execute_result"
    }
   ],
   "source": [
    "transactions_df.shape"
   ]
  },
  {
   "cell_type": "markdown",
   "id": "7a2119aa-1b88-43ba-b3dd-eb35beb06a07",
   "metadata": {},
   "source": [
    "- check for duplicates"
   ]
  },
  {
   "cell_type": "code",
   "execution_count": 9,
   "id": "6333706b-a29e-4f6e-ba1a-5b741428b8cf",
   "metadata": {},
   "outputs": [
    {
     "name": "stdout",
     "output_type": "stream",
     "text": [
      "Number of duplicates: 0\n"
     ]
    }
   ],
   "source": [
    "#check data for duplicates\n",
    "duplicates = transactions_df[transactions_df.duplicated()]\n",
    "print(f\"Number of duplicates: {len(duplicates)}\")"
   ]
  },
  {
   "cell_type": "markdown",
   "id": "c7da65a9-664e-44bf-8cfa-9649a25d67ae",
   "metadata": {},
   "source": [
    "- Percentage of fraudulent transactions"
   ]
  },
  {
   "cell_type": "code",
   "execution_count": 10,
   "id": "500ea06e-7a22-4141-94c1-37ef6428a0f2",
   "metadata": {},
   "outputs": [
    {
     "name": "stdout",
     "output_type": "stream",
     "text": [
      "Percentage of fraudulent transactions: 0.8369 %\n"
     ]
    }
   ],
   "source": [
    "p = transactions_df.TX_FRAUD.mean()\n",
    "print(f\"Percentage of fraudulent transactions: {p*100:.4f} %\")"
   ]
  },
  {
   "cell_type": "markdown",
   "id": "7231ced4-2159-411b-8b14-12536bc578fc",
   "metadata": {},
   "source": [
    "- Number of fraudulent transactions:"
   ]
  },
  {
   "cell_type": "code",
   "execution_count": 11,
   "id": "6bef3086-a541-4076-a6ac-7eaa03905a53",
   "metadata": {},
   "outputs": [
    {
     "name": "stdout",
     "output_type": "stream",
     "text": [
      "Number of fraudulent transactions: 14681\n"
     ]
    }
   ],
   "source": [
    "n = transactions_df.TX_FRAUD.sum()\n",
    "print(f\"Number of fraudulent transactions: {n}\")"
   ]
  },
  {
   "cell_type": "markdown",
   "id": "8dc49cb9-1e23-4986-9fb4-ffeee53c13e0",
   "metadata": {},
   "source": [
    "- visualize the distribturion of some features"
   ]
  },
  {
   "cell_type": "code",
   "execution_count": 12,
   "id": "1fc03008-4148-4394-a31f-158e702aeb7d",
   "metadata": {},
   "outputs": [],
   "source": [
    "%%capture\n",
    "\n",
    "distribution_amount_times_fig, ax = plt.subplots(1, 2, figsize=(18,4))\n",
    "\n",
    "amount_val = transactions_df[transactions_df.TX_TIME_DAYS<10]['TX_AMOUNT'].sample(n=1000).values\n",
    "time_val = transactions_df[transactions_df.TX_TIME_DAYS<10]['TX_TIME_SECONDS'].sample(n=1000).values\n",
    "\n",
    "sns.distplot(amount_val, ax=ax[0], color='r', hist = True,kde = False)\n",
    "ax[0].set_title('Distribution of transaction amounts', fontsize=14)\n",
    "ax[0].set_xlim([min(amount_val), max(amount_val)])\n",
    "ax[0].set(xlabel = \"Amount\", ylabel=\"Number of transactions\")\n",
    "\n",
    "# We divide the time variables by 86400 to transform seconds to days in the plot\n",
    "sns.distplot(time_val/86400, ax=ax[1], color='b', bins = 100, hist = True, kde = False)\n",
    "ax[1].set_title('Distribution of transaction times', fontsize=14)\n",
    "ax[1].set_xlim([min(time_val/86400), max(time_val/86400)])\n",
    "ax[1].set_xticks(range(10))\n",
    "ax[1].set(xlabel = \"Time (days)\", ylabel=\"Number of transactions\")"
   ]
  },
  {
   "cell_type": "code",
   "execution_count": 13,
   "id": "f23e9edd-f0f6-40eb-86b5-8959e257f3fc",
   "metadata": {},
   "outputs": [
    {
     "data": {
      "image/png": "[encoded data removed]",
      "text/plain": [
       "<Figure size 1800x400 with 2 Axes>"
      ]
     },
     "execution_count": 13,
     "metadata": {},
     "output_type": "execute_result"
    }
   ],
   "source": [
    "distribution_amount_times_fig"
   ]
  },
  {
   "cell_type": "markdown",
   "id": "32ea0b6b-5e9b-4212-8077-ca1e6b9d42c6",
   "metadata": {},
   "source": [
    "# 3. Feature Engineering"
   ]
  },
  {
   "cell_type": "markdown",
   "id": "f5ef4335-4769-4bca-aa86-537d732100c5",
   "metadata": {},
   "source": [
    "ML algorithms typically require numerical and ordered features as inputs. Thus, since our data comprises non-numrical and categorical features, we have to deal with them. For this project, We'd design new features that are assumed to be relevant for credit card fraud detection using the following methods:\n",
    "\n",
    "- One-hot encoding\n",
    "- RFM (Recency, Frequncy, Monetary value)\n",
    "- Frequency (or Risk) Encoding"
   ]
  },
  {
   "cell_type": "markdown",
   "id": "9435bcd1-a021-41a9-828f-ffb5c74cce7d",
   "metadata": {},
   "source": [
    "## 3.1 Date and Time Transformation\n",
    "\n",
    "Here, we design two features:\n",
    "- First, we'd want to characterise a transaction whether occured during a weekday (0) or a weekend (1). This engineered feature will be called `TX_DURING_WEEKEND`\n",
    "- Second, we'd want to characterise a transaction whether occured during the day (0) or at night (1). This engineered feature will be called `TX_DURING_NIGHT`. Transactions are considered as night if the transaction occured between 0pm and 6am,  otherwise day."
   ]
  },
  {
   "cell_type": "code",
   "execution_count": 14,
   "id": "8c61d386-256e-4445-b0c1-a2c953e6b541",
   "metadata": {},
   "outputs": [],
   "source": [
    "# Function to transform transaction datetime to weekday or weekend\n",
    "def is_weekend(tx_datetime):\n",
    "    \n",
    "    # Transform date into weekday (0 is Monday, 6 is Sunday)\n",
    "    weekday = tx_datetime.weekday()\n",
    "    # Binary value: 0 if weekday, 1 if weekend\n",
    "    is_weekend = weekday>=5\n",
    "    \n",
    "    return int(is_weekend)"
   ]
  },
  {
   "cell_type": "markdown",
   "id": "e2d72c25-cb5e-451f-9bbb-557791ebe556",
   "metadata": {},
   "source": [
    "- compute `TX_DURING_WEEKEND` feature"
   ]
  },
  {
   "cell_type": "code",
   "execution_count": 15,
   "id": "d8ff8333-07af-4db2-9a94-608ec5db0ec1",
   "metadata": {},
   "outputs": [
    {
     "name": "stdout",
     "output_type": "stream",
     "text": [
      "CPU times: user 1.43 s, sys: 47.5 ms, total: 1.48 s\n",
      "Wall time: 1.5 s\n"
     ]
    }
   ],
   "source": [
    "%time transactions_df['TX_DURING_WEEKEND']=transactions_df.TX_DATETIME.apply(is_weekend)"
   ]
  },
  {
   "cell_type": "code",
   "execution_count": 16,
   "id": "2edc181f-7571-4b66-a5d9-75366c414f4c",
   "metadata": {},
   "outputs": [],
   "source": [
    "# Function to transform transaction datetime to night or day \n",
    "def is_night(tx_datetime):\n",
    "    \n",
    "    # Get the hour of the transaction\n",
    "    tx_hour = tx_datetime.hour\n",
    "    # Binary value: 1 if hour less than 6, and 0 otherwise\n",
    "    is_night = tx_hour<=6\n",
    "    \n",
    "    return int(is_night)"
   ]
  },
  {
   "cell_type": "markdown",
   "id": "44e45f6e-70d5-4afc-9828-d06c825af3da",
   "metadata": {},
   "source": [
    "- compute `TX_DURING_NIGHT` feature"
   ]
  },
  {
   "cell_type": "code",
   "execution_count": 17,
   "id": "fa70d2f7-da15-450d-81c3-8b62c6902b6d",
   "metadata": {},
   "outputs": [
    {
     "name": "stdout",
     "output_type": "stream",
     "text": [
      "CPU times: user 1.1 s, sys: 45.4 ms, total: 1.15 s\n",
      "Wall time: 1.15 s\n"
     ]
    }
   ],
   "source": [
    "%time transactions_df['TX_DURING_NIGHT']=transactions_df.TX_DATETIME.apply(is_night)"
   ]
  },
  {
   "cell_type": "markdown",
   "id": "0cf98856-5ea0-498a-96c1-dbde08ecc002",
   "metadata": {},
   "source": [
    "- Test to see if the new coumns were correctly computed"
   ]
  },
  {
   "cell_type": "code",
   "execution_count": 18,
   "id": "2630eec3-cb27-4df2-8e0e-0f8919514196",
   "metadata": {},
   "outputs": [
    {
     "data": {
      "text/html": [
       "<div>\n",
       "<style scoped>\n",
       "    .dataframe tbody tr th:only-of-type {\n",
       "        vertical-align: middle;\n",
       "    }\n",
       "\n",
       "    .dataframe tbody tr th {\n",
       "        vertical-align: top;\n",
       "    }\n",
       "\n",
       "    .dataframe thead th {\n",
       "        text-align: right;\n",
       "    }\n",
       "</style>\n",
       "<table border=\"1\" class=\"dataframe\">\n",
       "  <thead>\n",
       "    <tr style=\"text-align: right;\">\n",
       "      <th></th>\n",
       "      <th>TRANSACTION_ID</th>\n",
       "      <th>TX_DATETIME</th>\n",
       "      <th>CUSTOMER_ID</th>\n",
       "      <th>TERMINAL_ID</th>\n",
       "      <th>TX_AMOUNT</th>\n",
       "      <th>TX_TIME_SECONDS</th>\n",
       "      <th>TX_TIME_DAYS</th>\n",
       "      <th>TX_FRAUD</th>\n",
       "      <th>TX_FRAUD_SCENARIO</th>\n",
       "      <th>TX_DURING_WEEKEND</th>\n",
       "      <th>TX_DURING_NIGHT</th>\n",
       "    </tr>\n",
       "  </thead>\n",
       "  <tbody>\n",
       "    <tr>\n",
       "      <th>863006</th>\n",
       "      <td>863006</td>\n",
       "      <td>2021-06-30 00:00:26</td>\n",
       "      <td>1958</td>\n",
       "      <td>5160</td>\n",
       "      <td>120.20</td>\n",
       "      <td>7776026</td>\n",
       "      <td>90</td>\n",
       "      <td>0</td>\n",
       "      <td>0</td>\n",
       "      <td>0</td>\n",
       "      <td>1</td>\n",
       "    </tr>\n",
       "    <tr>\n",
       "      <th>863007</th>\n",
       "      <td>863007</td>\n",
       "      <td>2021-06-30 00:01:06</td>\n",
       "      <td>3300</td>\n",
       "      <td>7921</td>\n",
       "      <td>16.93</td>\n",
       "      <td>7776066</td>\n",
       "      <td>90</td>\n",
       "      <td>0</td>\n",
       "      <td>0</td>\n",
       "      <td>0</td>\n",
       "      <td>1</td>\n",
       "    </tr>\n",
       "    <tr>\n",
       "      <th>863008</th>\n",
       "      <td>863008</td>\n",
       "      <td>2021-06-30 00:02:57</td>\n",
       "      <td>2707</td>\n",
       "      <td>2630</td>\n",
       "      <td>58.73</td>\n",
       "      <td>7776177</td>\n",
       "      <td>90</td>\n",
       "      <td>0</td>\n",
       "      <td>0</td>\n",
       "      <td>0</td>\n",
       "      <td>1</td>\n",
       "    </tr>\n",
       "    <tr>\n",
       "      <th>863009</th>\n",
       "      <td>863009</td>\n",
       "      <td>2021-06-30 00:04:07</td>\n",
       "      <td>1186</td>\n",
       "      <td>9265</td>\n",
       "      <td>54.23</td>\n",
       "      <td>7776247</td>\n",
       "      <td>90</td>\n",
       "      <td>0</td>\n",
       "      <td>0</td>\n",
       "      <td>0</td>\n",
       "      <td>1</td>\n",
       "    </tr>\n",
       "    <tr>\n",
       "      <th>863010</th>\n",
       "      <td>863010</td>\n",
       "      <td>2021-06-30 00:04:52</td>\n",
       "      <td>3781</td>\n",
       "      <td>1038</td>\n",
       "      <td>83.74</td>\n",
       "      <td>7776292</td>\n",
       "      <td>90</td>\n",
       "      <td>0</td>\n",
       "      <td>0</td>\n",
       "      <td>0</td>\n",
       "      <td>1</td>\n",
       "    </tr>\n",
       "  </tbody>\n",
       "</table>\n",
       "</div>"
      ],
      "text/plain": [
       "        TRANSACTION_ID         TX_DATETIME CUSTOMER_ID TERMINAL_ID  TX_AMOUNT   \n",
       "863006          863006 2021-06-30 00:00:26        1958        5160     120.20  \\\n",
       "863007          863007 2021-06-30 00:01:06        3300        7921      16.93   \n",
       "863008          863008 2021-06-30 00:02:57        2707        2630      58.73   \n",
       "863009          863009 2021-06-30 00:04:07        1186        9265      54.23   \n",
       "863010          863010 2021-06-30 00:04:52        3781        1038      83.74   \n",
       "\n",
       "       TX_TIME_SECONDS TX_TIME_DAYS  TX_FRAUD  TX_FRAUD_SCENARIO   \n",
       "863006         7776026           90         0                  0  \\\n",
       "863007         7776066           90         0                  0   \n",
       "863008         7776177           90         0                  0   \n",
       "863009         7776247           90         0                  0   \n",
       "863010         7776292           90         0                  0   \n",
       "\n",
       "        TX_DURING_WEEKEND  TX_DURING_NIGHT  \n",
       "863006                  0                1  \n",
       "863007                  0                1  \n",
       "863008                  0                1  \n",
       "863009                  0                1  \n",
       "863010                  0                1  "
      ]
     },
     "execution_count": 18,
     "metadata": {},
     "output_type": "execute_result"
    }
   ],
   "source": [
    "transactions_df[transactions_df.TX_TIME_DAYS>=90].head()"
   ]
  },
  {
   "cell_type": "markdown",
   "id": "140d226e-c176-46fc-a964-2b0c98a497a1",
   "metadata": {},
   "source": [
    "## 3.2 Customer ID transformations\n",
    "\n",
    "In this case, we'd use the RFM (Recency, Frequency, Monetary Value) method, to compute two of the features over three time windows.\n",
    "\n",
    "- First feature is **the number of transaction that occurs within a time window (Frequency)**\n",
    "- Second feature is **the average amount spent in these transactions (Monetary Value)**\n",
    "\n",
    "The time windows will be set to 1 day, 7 days, and 30 days. Hence, our transfformation will generate six additional features. The `get_customer_spending_behaviour_features` will be used to compute these features"
   ]
  },
  {
   "cell_type": "code",
   "execution_count": 19,
   "id": "49a67760-bb41-4b2e-9182-05b6750a14a0",
   "metadata": {},
   "outputs": [],
   "source": [
    "def get_customer_spending_behaviour_features(customer_transactions, windows_size_in_days=[1,7,30]):\n",
    "    \n",
    "    # Let us first order transactions chronologically\n",
    "    customer_transactions=customer_transactions.sort_values('TX_DATETIME')\n",
    "    \n",
    "    # The transaction date and time is set as the index, which will allow the use of the rolling function \n",
    "    customer_transactions.index=customer_transactions.TX_DATETIME\n",
    "    \n",
    "    # For each window size\n",
    "    for window_size in windows_size_in_days:\n",
    "        \n",
    "        # Compute the sum of the transaction amounts and the number of transactions for the given window size\n",
    "        SUM_AMOUNT_TX_WINDOW=customer_transactions['TX_AMOUNT'].rolling(str(window_size)+'d').sum()\n",
    "        NB_TX_WINDOW=customer_transactions['TX_AMOUNT'].rolling(str(window_size)+'d').count()\n",
    "    \n",
    "        # Compute the average transaction amount for the given window size\n",
    "        # NB_TX_WINDOW is always >0 since current transaction is always included\n",
    "        AVG_AMOUNT_TX_WINDOW=SUM_AMOUNT_TX_WINDOW/NB_TX_WINDOW\n",
    "    \n",
    "        # Save feature values\n",
    "        customer_transactions['CUSTOMER_ID_NB_TX_'+str(window_size)+'DAY_WINDOW']=list(NB_TX_WINDOW)\n",
    "        customer_transactions['CUSTOMER_ID_AVG_AMOUNT_'+str(window_size)+'DAY_WINDOW']=list(AVG_AMOUNT_TX_WINDOW)\n",
    "    \n",
    "    # Reindex according to transaction IDs\n",
    "    customer_transactions.index=customer_transactions.TRANSACTION_ID\n",
    "        \n",
    "    # And return the dataframe with the new features\n",
    "    return customer_transactions"
   ]
  },
  {
   "cell_type": "markdown",
   "id": "6d39edf6-0fca-4ad1-9750-acd5142a2ecc",
   "metadata": {},
   "source": [
    "- As an example, compute the aggregates for the first customer"
   ]
  },
  {
   "cell_type": "code",
   "execution_count": 20,
   "id": "933faa1a-3157-4685-9ee7-33309b03d1eb",
   "metadata": {},
   "outputs": [
    {
     "data": {
      "text/html": [
       "<div>\n",
       "<style scoped>\n",
       "    .dataframe tbody tr th:only-of-type {\n",
       "        vertical-align: middle;\n",
       "    }\n",
       "\n",
       "    .dataframe tbody tr th {\n",
       "        vertical-align: top;\n",
       "    }\n",
       "\n",
       "    .dataframe thead th {\n",
       "        text-align: right;\n",
       "    }\n",
       "</style>\n",
       "<table border=\"1\" class=\"dataframe\">\n",
       "  <thead>\n",
       "    <tr style=\"text-align: right;\">\n",
       "      <th></th>\n",
       "      <th>TRANSACTION_ID</th>\n",
       "      <th>TX_DATETIME</th>\n",
       "      <th>CUSTOMER_ID</th>\n",
       "      <th>TERMINAL_ID</th>\n",
       "      <th>TX_AMOUNT</th>\n",
       "      <th>TX_TIME_SECONDS</th>\n",
       "      <th>TX_TIME_DAYS</th>\n",
       "      <th>TX_FRAUD</th>\n",
       "      <th>TX_FRAUD_SCENARIO</th>\n",
       "      <th>TX_DURING_WEEKEND</th>\n",
       "      <th>TX_DURING_NIGHT</th>\n",
       "      <th>CUSTOMER_ID_NB_TX_1DAY_WINDOW</th>\n",
       "      <th>CUSTOMER_ID_AVG_AMOUNT_1DAY_WINDOW</th>\n",
       "      <th>CUSTOMER_ID_NB_TX_7DAY_WINDOW</th>\n",
       "      <th>CUSTOMER_ID_AVG_AMOUNT_7DAY_WINDOW</th>\n",
       "      <th>CUSTOMER_ID_NB_TX_30DAY_WINDOW</th>\n",
       "      <th>CUSTOMER_ID_AVG_AMOUNT_30DAY_WINDOW</th>\n",
       "    </tr>\n",
       "    <tr>\n",
       "      <th>TRANSACTION_ID</th>\n",
       "      <th></th>\n",
       "      <th></th>\n",
       "      <th></th>\n",
       "      <th></th>\n",
       "      <th></th>\n",
       "      <th></th>\n",
       "      <th></th>\n",
       "      <th></th>\n",
       "      <th></th>\n",
       "      <th></th>\n",
       "      <th></th>\n",
       "      <th></th>\n",
       "      <th></th>\n",
       "      <th></th>\n",
       "      <th></th>\n",
       "      <th></th>\n",
       "      <th></th>\n",
       "    </tr>\n",
       "  </thead>\n",
       "  <tbody>\n",
       "    <tr>\n",
       "      <th>1758</th>\n",
       "      <td>1758</td>\n",
       "      <td>2021-04-01 07:19:05</td>\n",
       "      <td>0</td>\n",
       "      <td>6076</td>\n",
       "      <td>123.59</td>\n",
       "      <td>26345</td>\n",
       "      <td>0</td>\n",
       "      <td>0</td>\n",
       "      <td>0</td>\n",
       "      <td>0</td>\n",
       "      <td>0</td>\n",
       "      <td>1.0</td>\n",
       "      <td>123.590000</td>\n",
       "      <td>1.0</td>\n",
       "      <td>123.590000</td>\n",
       "      <td>1.0</td>\n",
       "      <td>123.590000</td>\n",
       "    </tr>\n",
       "    <tr>\n",
       "      <th>8275</th>\n",
       "      <td>8275</td>\n",
       "      <td>2021-04-01 18:00:16</td>\n",
       "      <td>0</td>\n",
       "      <td>858</td>\n",
       "      <td>77.34</td>\n",
       "      <td>64816</td>\n",
       "      <td>0</td>\n",
       "      <td>0</td>\n",
       "      <td>0</td>\n",
       "      <td>0</td>\n",
       "      <td>0</td>\n",
       "      <td>2.0</td>\n",
       "      <td>100.465000</td>\n",
       "      <td>2.0</td>\n",
       "      <td>100.465000</td>\n",
       "      <td>2.0</td>\n",
       "      <td>100.465000</td>\n",
       "    </tr>\n",
       "    <tr>\n",
       "      <th>8640</th>\n",
       "      <td>8640</td>\n",
       "      <td>2021-04-01 19:02:02</td>\n",
       "      <td>0</td>\n",
       "      <td>6698</td>\n",
       "      <td>46.51</td>\n",
       "      <td>68522</td>\n",
       "      <td>0</td>\n",
       "      <td>0</td>\n",
       "      <td>0</td>\n",
       "      <td>0</td>\n",
       "      <td>0</td>\n",
       "      <td>3.0</td>\n",
       "      <td>82.480000</td>\n",
       "      <td>3.0</td>\n",
       "      <td>82.480000</td>\n",
       "      <td>3.0</td>\n",
       "      <td>82.480000</td>\n",
       "    </tr>\n",
       "    <tr>\n",
       "      <th>12169</th>\n",
       "      <td>12169</td>\n",
       "      <td>2021-04-02 08:51:06</td>\n",
       "      <td>0</td>\n",
       "      <td>6569</td>\n",
       "      <td>54.72</td>\n",
       "      <td>118266</td>\n",
       "      <td>1</td>\n",
       "      <td>0</td>\n",
       "      <td>0</td>\n",
       "      <td>0</td>\n",
       "      <td>0</td>\n",
       "      <td>3.0</td>\n",
       "      <td>59.523333</td>\n",
       "      <td>4.0</td>\n",
       "      <td>75.540000</td>\n",
       "      <td>4.0</td>\n",
       "      <td>75.540000</td>\n",
       "    </tr>\n",
       "    <tr>\n",
       "      <th>15764</th>\n",
       "      <td>15764</td>\n",
       "      <td>2021-04-02 14:05:38</td>\n",
       "      <td>0</td>\n",
       "      <td>7707</td>\n",
       "      <td>63.30</td>\n",
       "      <td>137138</td>\n",
       "      <td>1</td>\n",
       "      <td>0</td>\n",
       "      <td>0</td>\n",
       "      <td>0</td>\n",
       "      <td>0</td>\n",
       "      <td>4.0</td>\n",
       "      <td>60.467500</td>\n",
       "      <td>5.0</td>\n",
       "      <td>73.092000</td>\n",
       "      <td>5.0</td>\n",
       "      <td>73.092000</td>\n",
       "    </tr>\n",
       "    <tr>\n",
       "      <th>...</th>\n",
       "      <td>...</td>\n",
       "      <td>...</td>\n",
       "      <td>...</td>\n",
       "      <td>...</td>\n",
       "      <td>...</td>\n",
       "      <td>...</td>\n",
       "      <td>...</td>\n",
       "      <td>...</td>\n",
       "      <td>...</td>\n",
       "      <td>...</td>\n",
       "      <td>...</td>\n",
       "      <td>...</td>\n",
       "      <td>...</td>\n",
       "      <td>...</td>\n",
       "      <td>...</td>\n",
       "      <td>...</td>\n",
       "      <td>...</td>\n",
       "    </tr>\n",
       "    <tr>\n",
       "      <th>1750390</th>\n",
       "      <td>1750390</td>\n",
       "      <td>2021-09-30 13:38:41</td>\n",
       "      <td>0</td>\n",
       "      <td>3096</td>\n",
       "      <td>38.23</td>\n",
       "      <td>15773921</td>\n",
       "      <td>182</td>\n",
       "      <td>0</td>\n",
       "      <td>0</td>\n",
       "      <td>0</td>\n",
       "      <td>0</td>\n",
       "      <td>5.0</td>\n",
       "      <td>64.388000</td>\n",
       "      <td>28.0</td>\n",
       "      <td>57.306429</td>\n",
       "      <td>89.0</td>\n",
       "      <td>63.097640</td>\n",
       "    </tr>\n",
       "    <tr>\n",
       "      <th>1750758</th>\n",
       "      <td>1750758</td>\n",
       "      <td>2021-09-30 14:10:21</td>\n",
       "      <td>0</td>\n",
       "      <td>9441</td>\n",
       "      <td>43.60</td>\n",
       "      <td>15775821</td>\n",
       "      <td>182</td>\n",
       "      <td>0</td>\n",
       "      <td>0</td>\n",
       "      <td>0</td>\n",
       "      <td>0</td>\n",
       "      <td>6.0</td>\n",
       "      <td>60.923333</td>\n",
       "      <td>29.0</td>\n",
       "      <td>56.833793</td>\n",
       "      <td>89.0</td>\n",
       "      <td>62.433933</td>\n",
       "    </tr>\n",
       "    <tr>\n",
       "      <th>1751039</th>\n",
       "      <td>1751039</td>\n",
       "      <td>2021-09-30 14:34:30</td>\n",
       "      <td>0</td>\n",
       "      <td>1138</td>\n",
       "      <td>69.69</td>\n",
       "      <td>15777270</td>\n",
       "      <td>182</td>\n",
       "      <td>0</td>\n",
       "      <td>0</td>\n",
       "      <td>0</td>\n",
       "      <td>0</td>\n",
       "      <td>7.0</td>\n",
       "      <td>62.175714</td>\n",
       "      <td>29.0</td>\n",
       "      <td>57.872414</td>\n",
       "      <td>90.0</td>\n",
       "      <td>62.514556</td>\n",
       "    </tr>\n",
       "    <tr>\n",
       "      <th>1751272</th>\n",
       "      <td>1751272</td>\n",
       "      <td>2021-09-30 14:54:59</td>\n",
       "      <td>0</td>\n",
       "      <td>9441</td>\n",
       "      <td>91.26</td>\n",
       "      <td>15778499</td>\n",
       "      <td>182</td>\n",
       "      <td>0</td>\n",
       "      <td>0</td>\n",
       "      <td>0</td>\n",
       "      <td>0</td>\n",
       "      <td>8.0</td>\n",
       "      <td>65.811250</td>\n",
       "      <td>30.0</td>\n",
       "      <td>58.985333</td>\n",
       "      <td>90.0</td>\n",
       "      <td>61.882333</td>\n",
       "    </tr>\n",
       "    <tr>\n",
       "      <th>1751455</th>\n",
       "      <td>1751455</td>\n",
       "      <td>2021-09-30 15:11:37</td>\n",
       "      <td>0</td>\n",
       "      <td>2746</td>\n",
       "      <td>27.90</td>\n",
       "      <td>15779497</td>\n",
       "      <td>182</td>\n",
       "      <td>0</td>\n",
       "      <td>0</td>\n",
       "      <td>0</td>\n",
       "      <td>0</td>\n",
       "      <td>9.0</td>\n",
       "      <td>61.598889</td>\n",
       "      <td>31.0</td>\n",
       "      <td>57.982581</td>\n",
       "      <td>91.0</td>\n",
       "      <td>61.508901</td>\n",
       "    </tr>\n",
       "  </tbody>\n",
       "</table>\n",
       "<p>384 rows × 17 columns</p>\n",
       "</div>"
      ],
      "text/plain": [
       "                TRANSACTION_ID         TX_DATETIME CUSTOMER_ID TERMINAL_ID   \n",
       "TRANSACTION_ID                                                               \n",
       "1758                      1758 2021-04-01 07:19:05           0        6076  \\\n",
       "8275                      8275 2021-04-01 18:00:16           0         858   \n",
       "8640                      8640 2021-04-01 19:02:02           0        6698   \n",
       "12169                    12169 2021-04-02 08:51:06           0        6569   \n",
       "15764                    15764 2021-04-02 14:05:38           0        7707   \n",
       "...                        ...                 ...         ...         ...   \n",
       "1750390                1750390 2021-09-30 13:38:41           0        3096   \n",
       "1750758                1750758 2021-09-30 14:10:21           0        9441   \n",
       "1751039                1751039 2021-09-30 14:34:30           0        1138   \n",
       "1751272                1751272 2021-09-30 14:54:59           0        9441   \n",
       "1751455                1751455 2021-09-30 15:11:37           0        2746   \n",
       "\n",
       "                TX_AMOUNT TX_TIME_SECONDS TX_TIME_DAYS  TX_FRAUD   \n",
       "TRANSACTION_ID                                                     \n",
       "1758               123.59           26345            0         0  \\\n",
       "8275                77.34           64816            0         0   \n",
       "8640                46.51           68522            0         0   \n",
       "12169               54.72          118266            1         0   \n",
       "15764               63.30          137138            1         0   \n",
       "...                   ...             ...          ...       ...   \n",
       "1750390             38.23        15773921          182         0   \n",
       "1750758             43.60        15775821          182         0   \n",
       "1751039             69.69        15777270          182         0   \n",
       "1751272             91.26        15778499          182         0   \n",
       "1751455             27.90        15779497          182         0   \n",
       "\n",
       "                TX_FRAUD_SCENARIO  TX_DURING_WEEKEND  TX_DURING_NIGHT   \n",
       "TRANSACTION_ID                                                          \n",
       "1758                            0                  0                0  \\\n",
       "8275                            0                  0                0   \n",
       "8640                            0                  0                0   \n",
       "12169                           0                  0                0   \n",
       "15764                           0                  0                0   \n",
       "...                           ...                ...              ...   \n",
       "1750390                         0                  0                0   \n",
       "1750758                         0                  0                0   \n",
       "1751039                         0                  0                0   \n",
       "1751272                         0                  0                0   \n",
       "1751455                         0                  0                0   \n",
       "\n",
       "                CUSTOMER_ID_NB_TX_1DAY_WINDOW   \n",
       "TRANSACTION_ID                                  \n",
       "1758                                      1.0  \\\n",
       "8275                                      2.0   \n",
       "8640                                      3.0   \n",
       "12169                                     3.0   \n",
       "15764                                     4.0   \n",
       "...                                       ...   \n",
       "1750390                                   5.0   \n",
       "1750758                                   6.0   \n",
       "1751039                                   7.0   \n",
       "1751272                                   8.0   \n",
       "1751455                                   9.0   \n",
       "\n",
       "                CUSTOMER_ID_AVG_AMOUNT_1DAY_WINDOW   \n",
       "TRANSACTION_ID                                       \n",
       "1758                                    123.590000  \\\n",
       "8275                                    100.465000   \n",
       "8640                                     82.480000   \n",
       "12169                                    59.523333   \n",
       "15764                                    60.467500   \n",
       "...                                            ...   \n",
       "1750390                                  64.388000   \n",
       "1750758                                  60.923333   \n",
       "1751039                                  62.175714   \n",
       "1751272                                  65.811250   \n",
       "1751455                                  61.598889   \n",
       "\n",
       "                CUSTOMER_ID_NB_TX_7DAY_WINDOW   \n",
       "TRANSACTION_ID                                  \n",
       "1758                                      1.0  \\\n",
       "8275                                      2.0   \n",
       "8640                                      3.0   \n",
       "12169                                     4.0   \n",
       "15764                                     5.0   \n",
       "...                                       ...   \n",
       "1750390                                  28.0   \n",
       "1750758                                  29.0   \n",
       "1751039                                  29.0   \n",
       "1751272                                  30.0   \n",
       "1751455                                  31.0   \n",
       "\n",
       "                CUSTOMER_ID_AVG_AMOUNT_7DAY_WINDOW   \n",
       "TRANSACTION_ID                                       \n",
       "1758                                    123.590000  \\\n",
       "8275                                    100.465000   \n",
       "8640                                     82.480000   \n",
       "12169                                    75.540000   \n",
       "15764                                    73.092000   \n",
       "...                                            ...   \n",
       "1750390                                  57.306429   \n",
       "1750758                                  56.833793   \n",
       "1751039                                  57.872414   \n",
       "1751272                                  58.985333   \n",
       "1751455                                  57.982581   \n",
       "\n",
       "                CUSTOMER_ID_NB_TX_30DAY_WINDOW   \n",
       "TRANSACTION_ID                                   \n",
       "1758                                       1.0  \\\n",
       "8275                                       2.0   \n",
       "8640                                       3.0   \n",
       "12169                                      4.0   \n",
       "15764                                      5.0   \n",
       "...                                        ...   \n",
       "1750390                                   89.0   \n",
       "1750758                                   89.0   \n",
       "1751039                                   90.0   \n",
       "1751272                                   90.0   \n",
       "1751455                                   91.0   \n",
       "\n",
       "                CUSTOMER_ID_AVG_AMOUNT_30DAY_WINDOW  \n",
       "TRANSACTION_ID                                       \n",
       "1758                                     123.590000  \n",
       "8275                                     100.465000  \n",
       "8640                                      82.480000  \n",
       "12169                                     75.540000  \n",
       "15764                                     73.092000  \n",
       "...                                             ...  \n",
       "1750390                                   63.097640  \n",
       "1750758                                   62.433933  \n",
       "1751039                                   62.514556  \n",
       "1751272                                   61.882333  \n",
       "1751455                                   61.508901  \n",
       "\n",
       "[384 rows x 17 columns]"
      ]
     },
     "execution_count": 20,
     "metadata": {},
     "output_type": "execute_result"
    }
   ],
   "source": [
    "spending_behaviour_customer_0=get_customer_spending_behaviour_features(transactions_df[transactions_df.CUSTOMER_ID==0])\n",
    "spending_behaviour_customer_0"
   ]
  },
  {
   "cell_type": "markdown",
   "id": "f85a4007-0a01-453c-9ac5-1fbb0d8ed316",
   "metadata": {},
   "source": [
    "- Now generate features for all customers"
   ]
  },
  {
   "cell_type": "code",
   "execution_count": 21,
   "id": "854ad9f2-b590-4083-abf2-baa4a891f92d",
   "metadata": {},
   "outputs": [
    {
     "name": "stdout",
     "output_type": "stream",
     "text": [
      "CPU times: user 8.32 s, sys: 242 ms, total: 8.56 s\n",
      "Wall time: 8.71 s\n"
     ]
    }
   ],
   "source": [
    "%time transactions_df=transactions_df.groupby('CUSTOMER_ID').apply(lambda x: get_customer_spending_behaviour_features(x, windows_size_in_days=[1,7,30]))\n",
    "transactions_df=transactions_df.sort_values('TX_DATETIME').reset_index(drop=True)"
   ]
  },
  {
   "cell_type": "code",
   "execution_count": 22,
   "id": "a6387840-08cd-4d5f-88a9-138a0bdd0491",
   "metadata": {},
   "outputs": [
    {
     "data": {
      "text/plain": [
       "(1754155, 17)"
      ]
     },
     "execution_count": 22,
     "metadata": {},
     "output_type": "execute_result"
    }
   ],
   "source": [
    "transactions_df.shape"
   ]
  },
  {
   "cell_type": "markdown",
   "id": "da7e1940-a1a7-457d-b384-d4fa356d777e",
   "metadata": {},
   "source": [
    "## 3.3 Terminal ID transformations\n",
    "\n",
    "In this case, the goal will be to extract a *risk* score. This assesses the exposure of a given terminal ID to fradulent transactions.\n",
    "\n",
    "The risk score will be defined as **the average number of fraudulaent transactions that occured on a terminal ID over a time window**\n",
    "\n",
    "`get_count_risk_rolling_window function` takes as inputs the DataFrame of transactions for a given terminal ID, the delay period, and a list of window sizes. In the first stage, the number of transactions and fraudulent transactions are computed for the delay period (NB_TX_DELAY and NB_FRAUD_DELAY). In the second stage, the number of transactions and fraudulent transactions are computed for each window size plus the delay period (NB_TX_DELAY_WINDOW and NB_FRAUD_DELAY_WINDOW). The number of transactions and fraudulent transactions that occurred for a given window size, shifted back by the delay period, is then obtained by simply computing the differences of the quantities obtained for the delay period, and the window size plus delay period:\n",
    "\n",
    "NB_FRAUD_WINDOW=NB_FRAUD_DELAY_WINDOW-NB_FRAUD_DELAY\n",
    "\n",
    "NB_TX_WINDOW=NB_TX_DELAY_WINDOW-NB_TX_DELAY\n",
    "\n",
    "To a first approximation, this delay period will be set to one week. The risk score is finally obtained by computing the proportion of fraudulent transactions for each window size (or 0 if no transaction occurred for the given window):\n",
    "\n",
    "RISK_WINDOW=NB_FRAUD_WINDOW/NB_TX_WINDOW"
   ]
  },
  {
   "cell_type": "code",
   "execution_count": 23,
   "id": "0372e851-0f22-4ca9-84be-d970061d2858",
   "metadata": {},
   "outputs": [],
   "source": [
    "def get_count_risk_rolling_window(terminal_transactions, delay_period=7, windows_size_in_days=[1,7,30], feature=\"TERMINAL_ID\"):\n",
    "    \n",
    "    terminal_transactions=terminal_transactions.sort_values('TX_DATETIME')\n",
    "    \n",
    "    terminal_transactions.index=terminal_transactions.TX_DATETIME\n",
    "    \n",
    "    NB_FRAUD_DELAY=terminal_transactions['TX_FRAUD'].rolling(str(delay_period)+'d').sum()\n",
    "    NB_TX_DELAY=terminal_transactions['TX_FRAUD'].rolling(str(delay_period)+'d').count()\n",
    "    \n",
    "    for window_size in windows_size_in_days:\n",
    "    \n",
    "        NB_FRAUD_DELAY_WINDOW=terminal_transactions['TX_FRAUD'].rolling(str(delay_period+window_size)+'d').sum()\n",
    "        NB_TX_DELAY_WINDOW=terminal_transactions['TX_FRAUD'].rolling(str(delay_period+window_size)+'d').count()\n",
    "    \n",
    "        NB_FRAUD_WINDOW=NB_FRAUD_DELAY_WINDOW-NB_FRAUD_DELAY\n",
    "        NB_TX_WINDOW=NB_TX_DELAY_WINDOW-NB_TX_DELAY\n",
    "    \n",
    "        RISK_WINDOW=NB_FRAUD_WINDOW/NB_TX_WINDOW\n",
    "        \n",
    "        terminal_transactions[feature+'_NB_TX_'+str(window_size)+'DAY_WINDOW']=list(NB_TX_WINDOW)\n",
    "        terminal_transactions[feature+'_RISK_'+str(window_size)+'DAY_WINDOW']=list(RISK_WINDOW)\n",
    "        \n",
    "    terminal_transactions.index=terminal_transactions.TRANSACTION_ID\n",
    "    \n",
    "    # Replace NA values with 0 (all undefined risk scores where NB_TX_WINDOW is 0) \n",
    "    terminal_transactions.fillna(0,inplace=True)\n",
    "    \n",
    "    return terminal_transactions"
   ]
  },
  {
   "cell_type": "code",
   "execution_count": 24,
   "id": "7416f5b4-a459-405e-9bc3-e1193518fd02",
   "metadata": {},
   "outputs": [
    {
     "name": "stdout",
     "output_type": "stream",
     "text": [
      "CPU times: user 18 s, sys: 356 ms, total: 18.3 s\n",
      "Wall time: 18.5 s\n"
     ]
    }
   ],
   "source": [
    "%time transactions_df=transactions_df.groupby('TERMINAL_ID').apply(lambda x: get_count_risk_rolling_window(x, delay_period=7, windows_size_in_days=[1,7,30], feature=\"TERMINAL_ID\"))\n",
    "transactions_df=transactions_df.sort_values('TX_DATETIME').reset_index(drop=True)"
   ]
  },
  {
   "cell_type": "code",
   "execution_count": 25,
   "id": "b5eae36b-c2dc-4aa9-93db-894a2656a584",
   "metadata": {},
   "outputs": [
    {
     "data": {
      "text/html": [
       "<div>\n",
       "<style scoped>\n",
       "    .dataframe tbody tr th:only-of-type {\n",
       "        vertical-align: middle;\n",
       "    }\n",
       "\n",
       "    .dataframe tbody tr th {\n",
       "        vertical-align: top;\n",
       "    }\n",
       "\n",
       "    .dataframe thead th {\n",
       "        text-align: right;\n",
       "    }\n",
       "</style>\n",
       "<table border=\"1\" class=\"dataframe\">\n",
       "  <thead>\n",
       "    <tr style=\"text-align: right;\">\n",
       "      <th></th>\n",
       "      <th>TRANSACTION_ID</th>\n",
       "      <th>TX_DATETIME</th>\n",
       "      <th>CUSTOMER_ID</th>\n",
       "      <th>TERMINAL_ID</th>\n",
       "      <th>TX_AMOUNT</th>\n",
       "      <th>TX_TIME_SECONDS</th>\n",
       "      <th>TX_TIME_DAYS</th>\n",
       "      <th>TX_FRAUD</th>\n",
       "      <th>TX_FRAUD_SCENARIO</th>\n",
       "      <th>TX_DURING_WEEKEND</th>\n",
       "      <th>...</th>\n",
       "      <th>CUSTOMER_ID_NB_TX_7DAY_WINDOW</th>\n",
       "      <th>CUSTOMER_ID_AVG_AMOUNT_7DAY_WINDOW</th>\n",
       "      <th>CUSTOMER_ID_NB_TX_30DAY_WINDOW</th>\n",
       "      <th>CUSTOMER_ID_AVG_AMOUNT_30DAY_WINDOW</th>\n",
       "      <th>TERMINAL_ID_NB_TX_1DAY_WINDOW</th>\n",
       "      <th>TERMINAL_ID_RISK_1DAY_WINDOW</th>\n",
       "      <th>TERMINAL_ID_NB_TX_7DAY_WINDOW</th>\n",
       "      <th>TERMINAL_ID_RISK_7DAY_WINDOW</th>\n",
       "      <th>TERMINAL_ID_NB_TX_30DAY_WINDOW</th>\n",
       "      <th>TERMINAL_ID_RISK_30DAY_WINDOW</th>\n",
       "    </tr>\n",
       "  </thead>\n",
       "  <tbody>\n",
       "    <tr>\n",
       "      <th>0</th>\n",
       "      <td>0</td>\n",
       "      <td>2021-04-01 00:00:31</td>\n",
       "      <td>596</td>\n",
       "      <td>3156</td>\n",
       "      <td>57.16</td>\n",
       "      <td>31</td>\n",
       "      <td>0</td>\n",
       "      <td>0</td>\n",
       "      <td>0</td>\n",
       "      <td>0</td>\n",
       "      <td>...</td>\n",
       "      <td>1.0</td>\n",
       "      <td>57.16</td>\n",
       "      <td>1.0</td>\n",
       "      <td>57.16</td>\n",
       "      <td>0.0</td>\n",
       "      <td>0.0</td>\n",
       "      <td>0.0</td>\n",
       "      <td>0.0</td>\n",
       "      <td>0.0</td>\n",
       "      <td>0.0</td>\n",
       "    </tr>\n",
       "    <tr>\n",
       "      <th>1</th>\n",
       "      <td>1</td>\n",
       "      <td>2021-04-01 00:02:10</td>\n",
       "      <td>4961</td>\n",
       "      <td>3412</td>\n",
       "      <td>81.51</td>\n",
       "      <td>130</td>\n",
       "      <td>0</td>\n",
       "      <td>0</td>\n",
       "      <td>0</td>\n",
       "      <td>0</td>\n",
       "      <td>...</td>\n",
       "      <td>1.0</td>\n",
       "      <td>81.51</td>\n",
       "      <td>1.0</td>\n",
       "      <td>81.51</td>\n",
       "      <td>0.0</td>\n",
       "      <td>0.0</td>\n",
       "      <td>0.0</td>\n",
       "      <td>0.0</td>\n",
       "      <td>0.0</td>\n",
       "      <td>0.0</td>\n",
       "    </tr>\n",
       "    <tr>\n",
       "      <th>2</th>\n",
       "      <td>2</td>\n",
       "      <td>2021-04-01 00:07:56</td>\n",
       "      <td>2</td>\n",
       "      <td>1365</td>\n",
       "      <td>146.00</td>\n",
       "      <td>476</td>\n",
       "      <td>0</td>\n",
       "      <td>0</td>\n",
       "      <td>0</td>\n",
       "      <td>0</td>\n",
       "      <td>...</td>\n",
       "      <td>1.0</td>\n",
       "      <td>146.00</td>\n",
       "      <td>1.0</td>\n",
       "      <td>146.00</td>\n",
       "      <td>0.0</td>\n",
       "      <td>0.0</td>\n",
       "      <td>0.0</td>\n",
       "      <td>0.0</td>\n",
       "      <td>0.0</td>\n",
       "      <td>0.0</td>\n",
       "    </tr>\n",
       "    <tr>\n",
       "      <th>3</th>\n",
       "      <td>3</td>\n",
       "      <td>2021-04-01 00:09:29</td>\n",
       "      <td>4128</td>\n",
       "      <td>8737</td>\n",
       "      <td>64.49</td>\n",
       "      <td>569</td>\n",
       "      <td>0</td>\n",
       "      <td>0</td>\n",
       "      <td>0</td>\n",
       "      <td>0</td>\n",
       "      <td>...</td>\n",
       "      <td>1.0</td>\n",
       "      <td>64.49</td>\n",
       "      <td>1.0</td>\n",
       "      <td>64.49</td>\n",
       "      <td>0.0</td>\n",
       "      <td>0.0</td>\n",
       "      <td>0.0</td>\n",
       "      <td>0.0</td>\n",
       "      <td>0.0</td>\n",
       "      <td>0.0</td>\n",
       "    </tr>\n",
       "    <tr>\n",
       "      <th>4</th>\n",
       "      <td>4</td>\n",
       "      <td>2021-04-01 00:10:34</td>\n",
       "      <td>927</td>\n",
       "      <td>9906</td>\n",
       "      <td>50.99</td>\n",
       "      <td>634</td>\n",
       "      <td>0</td>\n",
       "      <td>0</td>\n",
       "      <td>0</td>\n",
       "      <td>0</td>\n",
       "      <td>...</td>\n",
       "      <td>1.0</td>\n",
       "      <td>50.99</td>\n",
       "      <td>1.0</td>\n",
       "      <td>50.99</td>\n",
       "      <td>0.0</td>\n",
       "      <td>0.0</td>\n",
       "      <td>0.0</td>\n",
       "      <td>0.0</td>\n",
       "      <td>0.0</td>\n",
       "      <td>0.0</td>\n",
       "    </tr>\n",
       "  </tbody>\n",
       "</table>\n",
       "<p>5 rows × 23 columns</p>\n",
       "</div>"
      ],
      "text/plain": [
       "   TRANSACTION_ID         TX_DATETIME CUSTOMER_ID TERMINAL_ID  TX_AMOUNT   \n",
       "0               0 2021-04-01 00:00:31         596        3156      57.16  \\\n",
       "1               1 2021-04-01 00:02:10        4961        3412      81.51   \n",
       "2               2 2021-04-01 00:07:56           2        1365     146.00   \n",
       "3               3 2021-04-01 00:09:29        4128        8737      64.49   \n",
       "4               4 2021-04-01 00:10:34         927        9906      50.99   \n",
       "\n",
       "  TX_TIME_SECONDS TX_TIME_DAYS  TX_FRAUD  TX_FRAUD_SCENARIO   \n",
       "0              31            0         0                  0  \\\n",
       "1             130            0         0                  0   \n",
       "2             476            0         0                  0   \n",
       "3             569            0         0                  0   \n",
       "4             634            0         0                  0   \n",
       "\n",
       "   TX_DURING_WEEKEND  ...  CUSTOMER_ID_NB_TX_7DAY_WINDOW   \n",
       "0                  0  ...                            1.0  \\\n",
       "1                  0  ...                            1.0   \n",
       "2                  0  ...                            1.0   \n",
       "3                  0  ...                            1.0   \n",
       "4                  0  ...                            1.0   \n",
       "\n",
       "   CUSTOMER_ID_AVG_AMOUNT_7DAY_WINDOW  CUSTOMER_ID_NB_TX_30DAY_WINDOW   \n",
       "0                               57.16                             1.0  \\\n",
       "1                               81.51                             1.0   \n",
       "2                              146.00                             1.0   \n",
       "3                               64.49                             1.0   \n",
       "4                               50.99                             1.0   \n",
       "\n",
       "   CUSTOMER_ID_AVG_AMOUNT_30DAY_WINDOW  TERMINAL_ID_NB_TX_1DAY_WINDOW   \n",
       "0                                57.16                            0.0  \\\n",
       "1                                81.51                            0.0   \n",
       "2                               146.00                            0.0   \n",
       "3                                64.49                            0.0   \n",
       "4                                50.99                            0.0   \n",
       "\n",
       "   TERMINAL_ID_RISK_1DAY_WINDOW  TERMINAL_ID_NB_TX_7DAY_WINDOW   \n",
       "0                           0.0                            0.0  \\\n",
       "1                           0.0                            0.0   \n",
       "2                           0.0                            0.0   \n",
       "3                           0.0                            0.0   \n",
       "4                           0.0                            0.0   \n",
       "\n",
       "   TERMINAL_ID_RISK_7DAY_WINDOW  TERMINAL_ID_NB_TX_30DAY_WINDOW   \n",
       "0                           0.0                             0.0  \\\n",
       "1                           0.0                             0.0   \n",
       "2                           0.0                             0.0   \n",
       "3                           0.0                             0.0   \n",
       "4                           0.0                             0.0   \n",
       "\n",
       "   TERMINAL_ID_RISK_30DAY_WINDOW  \n",
       "0                            0.0  \n",
       "1                            0.0  \n",
       "2                            0.0  \n",
       "3                            0.0  \n",
       "4                            0.0  \n",
       "\n",
       "[5 rows x 23 columns]"
      ]
     },
     "execution_count": 25,
     "metadata": {},
     "output_type": "execute_result"
    }
   ],
   "source": [
    "transactions_df.head()"
   ]
  },
  {
   "cell_type": "markdown",
   "id": "904c6075-a25c-473c-9c62-a804f246c275",
   "metadata": {},
   "source": [
    "# 4. Model Training"
   ]
  },
  {
   "cell_type": "markdown",
   "id": "bb6d5338-b76e-4934-836a-eaff4eb4ad42",
   "metadata": {},
   "source": [
    "## 4.1 Split data into train and test set"
   ]
  },
  {
   "cell_type": "code",
   "execution_count": 26,
   "id": "4db59f3a-30e5-4676-b3ab-939ac4cfec1e",
   "metadata": {},
   "outputs": [],
   "source": [
    "def get_train_test_set(transactions_df,\n",
    "                       start_date_training,\n",
    "                       delta_train=7,delta_delay=7,delta_test=7):\n",
    "    \n",
    "    # Get the training set data\n",
    "    train_df = transactions_df[(transactions_df.TX_DATETIME>=start_date_training) &\n",
    "                               (transactions_df.TX_DATETIME<start_date_training+datetime.timedelta(days=delta_train))]\n",
    "    \n",
    "    # Get the test set data\n",
    "    test_df = []\n",
    "    \n",
    "    # Note: Cards known to be compromised after the delay period are removed from the test set\n",
    "    # That is, for each test day, all frauds known at (test_day-delay_period) are removed\n",
    "    \n",
    "    # First, get known defrauded customers from the training set\n",
    "    known_defrauded_customers = set(train_df[train_df.TX_FRAUD==1].CUSTOMER_ID)\n",
    "    \n",
    "    # Get the relative starting day of training set (easier than TX_DATETIME to collect test data)\n",
    "    start_tx_time_days_training = train_df.TX_TIME_DAYS.min()\n",
    "    \n",
    "    # Then, for each day of the test set\n",
    "    for day in range(delta_test):\n",
    "    \n",
    "        # Get test data for that day\n",
    "        test_df_day = transactions_df[transactions_df.TX_TIME_DAYS==start_tx_time_days_training+\n",
    "                                                                    delta_train+delta_delay+\n",
    "                                                                    day]\n",
    "        \n",
    "        # Compromised cards from that test day, minus the delay period, are added to the pool of known defrauded customers\n",
    "        test_df_day_delay_period = transactions_df[transactions_df.TX_TIME_DAYS==start_tx_time_days_training+\n",
    "                                                                                delta_train+\n",
    "                                                                                day-1]\n",
    "        \n",
    "        new_defrauded_customers = set(test_df_day_delay_period[test_df_day_delay_period.TX_FRAUD==1].CUSTOMER_ID)\n",
    "        known_defrauded_customers = known_defrauded_customers.union(new_defrauded_customers)\n",
    "        \n",
    "        test_df_day = test_df_day[~test_df_day.CUSTOMER_ID.isin(known_defrauded_customers)]\n",
    "        \n",
    "        test_df.append(test_df_day)\n",
    "        \n",
    "    test_df = pd.concat(test_df)\n",
    "    \n",
    "    # Sort data sets by ascending order of transaction ID\n",
    "    train_df=train_df.sort_values('TRANSACTION_ID')\n",
    "    test_df=test_df.sort_values('TRANSACTION_ID')\n",
    "    \n",
    "    return (train_df, test_df)"
   ]
  },
  {
   "cell_type": "markdown",
   "id": "faf3e4b5-480c-45a6-93ea-048b66a7842b",
   "metadata": {},
   "source": [
    "- To reduce computation load, we can use a sample of the data. For example, we could use 14 days transactions from 2021-06-14 to the 2021-06-27 for the training set, and from the 2021-08-05 to the 2021-08-11 (7 days) for the test set. The test data is taken just 7 days after the training data to account for the delay period."
   ]
  },
  {
   "cell_type": "code",
   "execution_count": 27,
   "id": "e4042e41-56f8-435c-9f23-af43ecc950ef",
   "metadata": {},
   "outputs": [],
   "source": [
    "# Define the start date for train data\n",
    "train_start_date = datetime.datetime.strptime(\"2021-07-01\", \"%Y-%m-%d\")\n",
    "filtered_train, filtered_test=get_train_test_set(transactions_df,train_start_date,\n",
    "                                       delta_train=14,delta_delay=7,delta_test=7)"
   ]
  },
  {
   "cell_type": "code",
   "execution_count": 28,
   "id": "bf740fe1-6293-42ff-9534-48e467b3356f",
   "metadata": {},
   "outputs": [
    {
     "data": {
      "text/plain": [
       "(134189, 23)"
      ]
     },
     "execution_count": 28,
     "metadata": {},
     "output_type": "execute_result"
    }
   ],
   "source": [
    "filtered_train.shape"
   ]
  },
  {
   "cell_type": "code",
   "execution_count": 29,
   "id": "cbe81ae5-0569-4df9-bbe0-eed4f8af95da",
   "metadata": {},
   "outputs": [
    {
     "data": {
      "text/plain": [
       "(1185, 23)"
      ]
     },
     "execution_count": 29,
     "metadata": {},
     "output_type": "execute_result"
    }
   ],
   "source": [
    "filtered_train[filtered_train.TX_FRAUD==1].shape"
   ]
  },
  {
   "cell_type": "code",
   "execution_count": 30,
   "id": "78a81021-6b8d-4151-8424-ca0012d5e5ca",
   "metadata": {},
   "outputs": [
    {
     "data": {
      "text/plain": [
       "(53723, 23)"
      ]
     },
     "execution_count": 30,
     "metadata": {},
     "output_type": "execute_result"
    }
   ],
   "source": [
    "filtered_test.shape"
   ]
  },
  {
   "cell_type": "code",
   "execution_count": 31,
   "id": "8e684d7e-d6e2-4b3b-89f9-b55d44756601",
   "metadata": {},
   "outputs": [
    {
     "data": {
      "text/plain": [
       "(317, 23)"
      ]
     },
     "execution_count": 31,
     "metadata": {},
     "output_type": "execute_result"
    }
   ],
   "source": [
    "filtered_test[filtered_test.TX_FRAUD==1].shape"
   ]
  },
  {
   "cell_type": "code",
   "execution_count": 32,
   "id": "d7d04da3-e0f4-4c87-b83e-d7aa8604094e",
   "metadata": {},
   "outputs": [
    {
     "data": {
      "text/plain": [
       "0.008830828160281395"
      ]
     },
     "execution_count": 32,
     "metadata": {},
     "output_type": "execute_result"
    }
   ],
   "source": [
    "1185/134189"
   ]
  },
  {
   "cell_type": "markdown",
   "id": "a4fb95a9-f775-462a-969c-9d20bd445ce2",
   "metadata": {},
   "source": [
    "- The train set contains 134189 transactions, among which 1185 are fraudulent. That is a proportion of 0.0088 fraudulent transactions. Thus, the class balance for non-fraudulent and fraudulent transactions is preserved.\n",
    "- Next, we define the output and input features for our model."
   ]
  },
  {
   "cell_type": "code",
   "execution_count": 33,
   "id": "c5207cf8-3fd0-4638-a13b-0ef5d571a5e7",
   "metadata": {},
   "outputs": [],
   "source": [
    "output_feature=\"TX_FRAUD\"\n",
    "\n",
    "input_features=['TX_AMOUNT','TX_DURING_WEEKEND', 'TX_DURING_NIGHT', 'CUSTOMER_ID_NB_TX_1DAY_WINDOW',\n",
    "       'CUSTOMER_ID_AVG_AMOUNT_1DAY_WINDOW', 'CUSTOMER_ID_NB_TX_7DAY_WINDOW',\n",
    "       'CUSTOMER_ID_AVG_AMOUNT_7DAY_WINDOW', 'CUSTOMER_ID_NB_TX_30DAY_WINDOW',\n",
    "       'CUSTOMER_ID_AVG_AMOUNT_30DAY_WINDOW', 'TERMINAL_ID_NB_TX_1DAY_WINDOW',\n",
    "       'TERMINAL_ID_RISK_1DAY_WINDOW', 'TERMINAL_ID_NB_TX_7DAY_WINDOW',\n",
    "       'TERMINAL_ID_RISK_7DAY_WINDOW', 'TERMINAL_ID_NB_TX_30DAY_WINDOW',\n",
    "       'TERMINAL_ID_RISK_30DAY_WINDOW']"
   ]
  },
  {
   "cell_type": "code",
   "execution_count": 34,
   "id": "0d75ba2c-8c06-4c99-9457-28b70fe04f41",
   "metadata": {},
   "outputs": [],
   "source": [
    "X_train = filtered_train[input_features]\n",
    "y_train = filtered_train[output_feature]\n",
    "\n",
    "X_test = filtered_test[input_features]\n",
    "y_test = filtered_test[output_feature]"
   ]
  },
  {
   "cell_type": "markdown",
   "id": "1d6ce4f8-ba8b-4143-b925-a702b1a010d1",
   "metadata": {},
   "source": [
    "## 4.2 Train Baseline Model using Unsupervised pyOD anomaly detectors"
   ]
  },
  {
   "cell_type": "code",
   "execution_count": 35,
   "id": "45129c63-1b44-4f93-810e-6ebe0ff573f0",
   "metadata": {},
   "outputs": [],
   "source": [
    "from sklearn.preprocessing import RobustScaler, StandardScaler, MinMaxScaler\n",
    "from sklearn.metrics import roc_auc_score, accuracy_score\n",
    "\n",
    "def train_model(model,train,test,scale = False):\n",
    "    if scale == True:\n",
    "        sc = RobustScaler()\n",
    "        train = sc.fit_transform(train)\n",
    "        test = sc.transform(test)\n",
    "        \n",
    "    \n",
    "    # Train model\n",
    "    start_time=time.time()\n",
    "    model.fit(train)\n",
    "    training_execution_time= round(time.time()-start_time,4)\n",
    "\n",
    "    # Predict anomalies on the test set\n",
    "    start_time=time.time()\n",
    "    predictions_test= model.predict_proba(test, method = 'linear')[:,1] # probability of outlier [:,1] & normal [:,0]\n",
    "    prediction_execution_time= round(time.time()-start_time,4)\n",
    "\n",
    "    predictions_train = model.predict_proba(train, method = 'linear')[:,1]\n",
    "    \n",
    "\n",
    "    # store results \n",
    "    model_and_predictions_dictionary = {'model': model,\n",
    "                                    'predictions_test': predictions_test,\n",
    "                                    'predictions_train': predictions_train,\n",
    "                                    'training_execution_time': training_execution_time,\n",
    "                                    'prediction_execution_time': prediction_execution_time\n",
    "                                   }\n",
    "    print(f\"Model Training... Done!\")\n",
    "    return model_and_predictions_dictionary \n",
    "    "
   ]
  },
  {
   "cell_type": "code",
   "execution_count": 36,
   "id": "41706ab2-f5ce-4cd4-a987-5c1ff3fe5d2f",
   "metadata": {},
   "outputs": [
    {
     "name": "stdout",
     "output_type": "stream",
     "text": [
      "Model Training... Done!\n"
     ]
    }
   ],
   "source": [
    "# train an Isolation Forest classifier\n",
    "model = IForest()\n",
    "model_and_predictions_dictionary = train_model(model, X_train.values, X_test.values,scale=True)"
   ]
  },
  {
   "cell_type": "markdown",
   "id": "3ec52980-f841-4931-8bd3-5f5d04a0dc94",
   "metadata": {},
   "source": [
    "- Let's take a look at the predictions for the first five transactions of the test data"
   ]
  },
  {
   "cell_type": "code",
   "execution_count": 37,
   "id": "9330b0db-9e55-4753-8a07-a1f08864f2c9",
   "metadata": {},
   "outputs": [
    {
     "data": {
      "text/html": [
       "<div>\n",
       "<style scoped>\n",
       "    .dataframe tbody tr th:only-of-type {\n",
       "        vertical-align: middle;\n",
       "    }\n",
       "\n",
       "    .dataframe tbody tr th {\n",
       "        vertical-align: top;\n",
       "    }\n",
       "\n",
       "    .dataframe thead th {\n",
       "        text-align: right;\n",
       "    }\n",
       "</style>\n",
       "<table border=\"1\" class=\"dataframe\">\n",
       "  <thead>\n",
       "    <tr style=\"text-align: right;\">\n",
       "      <th></th>\n",
       "      <th>TRANSACTION_ID</th>\n",
       "      <th>TX_DATETIME</th>\n",
       "      <th>CUSTOMER_ID</th>\n",
       "      <th>TERMINAL_ID</th>\n",
       "      <th>TX_AMOUNT</th>\n",
       "      <th>TX_TIME_SECONDS</th>\n",
       "      <th>TX_TIME_DAYS</th>\n",
       "      <th>TX_FRAUD</th>\n",
       "      <th>TX_FRAUD_SCENARIO</th>\n",
       "      <th>TX_DURING_WEEKEND</th>\n",
       "      <th>...</th>\n",
       "      <th>CUSTOMER_ID_AVG_AMOUNT_7DAY_WINDOW</th>\n",
       "      <th>CUSTOMER_ID_NB_TX_30DAY_WINDOW</th>\n",
       "      <th>CUSTOMER_ID_AVG_AMOUNT_30DAY_WINDOW</th>\n",
       "      <th>TERMINAL_ID_NB_TX_1DAY_WINDOW</th>\n",
       "      <th>TERMINAL_ID_RISK_1DAY_WINDOW</th>\n",
       "      <th>TERMINAL_ID_NB_TX_7DAY_WINDOW</th>\n",
       "      <th>TERMINAL_ID_RISK_7DAY_WINDOW</th>\n",
       "      <th>TERMINAL_ID_NB_TX_30DAY_WINDOW</th>\n",
       "      <th>TERMINAL_ID_RISK_30DAY_WINDOW</th>\n",
       "      <th>TX_FRAUD_PREDICTED</th>\n",
       "    </tr>\n",
       "  </thead>\n",
       "  <tbody>\n",
       "    <tr>\n",
       "      <th>1074026</th>\n",
       "      <td>1074026</td>\n",
       "      <td>2021-07-22 00:00:22</td>\n",
       "      <td>1391</td>\n",
       "      <td>2530</td>\n",
       "      <td>21.48</td>\n",
       "      <td>9676822</td>\n",
       "      <td>112</td>\n",
       "      <td>0</td>\n",
       "      <td>0</td>\n",
       "      <td>0</td>\n",
       "      <td>...</td>\n",
       "      <td>17.546250</td>\n",
       "      <td>125.0</td>\n",
       "      <td>17.751680</td>\n",
       "      <td>0.0</td>\n",
       "      <td>0.0</td>\n",
       "      <td>2.0</td>\n",
       "      <td>0.0</td>\n",
       "      <td>28.0</td>\n",
       "      <td>0.000000</td>\n",
       "      <td>0.371648</td>\n",
       "    </tr>\n",
       "    <tr>\n",
       "      <th>1074027</th>\n",
       "      <td>1074027</td>\n",
       "      <td>2021-07-22 00:01:18</td>\n",
       "      <td>4616</td>\n",
       "      <td>4831</td>\n",
       "      <td>45.46</td>\n",
       "      <td>9676878</td>\n",
       "      <td>112</td>\n",
       "      <td>0</td>\n",
       "      <td>0</td>\n",
       "      <td>0</td>\n",
       "      <td>...</td>\n",
       "      <td>46.297857</td>\n",
       "      <td>32.0</td>\n",
       "      <td>51.623750</td>\n",
       "      <td>2.0</td>\n",
       "      <td>0.0</td>\n",
       "      <td>7.0</td>\n",
       "      <td>0.0</td>\n",
       "      <td>39.0</td>\n",
       "      <td>0.025641</td>\n",
       "      <td>0.294023</td>\n",
       "    </tr>\n",
       "    <tr>\n",
       "      <th>1074028</th>\n",
       "      <td>1074028</td>\n",
       "      <td>2021-07-22 00:01:36</td>\n",
       "      <td>2833</td>\n",
       "      <td>3893</td>\n",
       "      <td>24.85</td>\n",
       "      <td>9676896</td>\n",
       "      <td>112</td>\n",
       "      <td>0</td>\n",
       "      <td>0</td>\n",
       "      <td>0</td>\n",
       "      <td>...</td>\n",
       "      <td>18.486250</td>\n",
       "      <td>92.0</td>\n",
       "      <td>19.409674</td>\n",
       "      <td>0.0</td>\n",
       "      <td>0.0</td>\n",
       "      <td>9.0</td>\n",
       "      <td>0.0</td>\n",
       "      <td>45.0</td>\n",
       "      <td>0.000000</td>\n",
       "      <td>0.345834</td>\n",
       "    </tr>\n",
       "    <tr>\n",
       "      <th>1074029</th>\n",
       "      <td>1074029</td>\n",
       "      <td>2021-07-22 00:01:55</td>\n",
       "      <td>1714</td>\n",
       "      <td>5745</td>\n",
       "      <td>66.48</td>\n",
       "      <td>9676915</td>\n",
       "      <td>112</td>\n",
       "      <td>0</td>\n",
       "      <td>0</td>\n",
       "      <td>0</td>\n",
       "      <td>...</td>\n",
       "      <td>34.326923</td>\n",
       "      <td>67.0</td>\n",
       "      <td>33.681940</td>\n",
       "      <td>3.0</td>\n",
       "      <td>0.0</td>\n",
       "      <td>6.0</td>\n",
       "      <td>0.0</td>\n",
       "      <td>23.0</td>\n",
       "      <td>0.000000</td>\n",
       "      <td>0.272570</td>\n",
       "    </tr>\n",
       "    <tr>\n",
       "      <th>1074030</th>\n",
       "      <td>1074030</td>\n",
       "      <td>2021-07-22 00:02:07</td>\n",
       "      <td>3918</td>\n",
       "      <td>6603</td>\n",
       "      <td>15.61</td>\n",
       "      <td>9676927</td>\n",
       "      <td>112</td>\n",
       "      <td>0</td>\n",
       "      <td>0</td>\n",
       "      <td>0</td>\n",
       "      <td>...</td>\n",
       "      <td>49.386364</td>\n",
       "      <td>39.0</td>\n",
       "      <td>49.860513</td>\n",
       "      <td>2.0</td>\n",
       "      <td>0.0</td>\n",
       "      <td>3.0</td>\n",
       "      <td>0.0</td>\n",
       "      <td>22.0</td>\n",
       "      <td>0.000000</td>\n",
       "      <td>0.270245</td>\n",
       "    </tr>\n",
       "  </tbody>\n",
       "</table>\n",
       "<p>5 rows × 24 columns</p>\n",
       "</div>"
      ],
      "text/plain": [
       "         TRANSACTION_ID         TX_DATETIME CUSTOMER_ID TERMINAL_ID   \n",
       "1074026         1074026 2021-07-22 00:00:22        1391        2530  \\\n",
       "1074027         1074027 2021-07-22 00:01:18        4616        4831   \n",
       "1074028         1074028 2021-07-22 00:01:36        2833        3893   \n",
       "1074029         1074029 2021-07-22 00:01:55        1714        5745   \n",
       "1074030         1074030 2021-07-22 00:02:07        3918        6603   \n",
       "\n",
       "         TX_AMOUNT TX_TIME_SECONDS TX_TIME_DAYS  TX_FRAUD  TX_FRAUD_SCENARIO   \n",
       "1074026      21.48         9676822          112         0                  0  \\\n",
       "1074027      45.46         9676878          112         0                  0   \n",
       "1074028      24.85         9676896          112         0                  0   \n",
       "1074029      66.48         9676915          112         0                  0   \n",
       "1074030      15.61         9676927          112         0                  0   \n",
       "\n",
       "         TX_DURING_WEEKEND  ...  CUSTOMER_ID_AVG_AMOUNT_7DAY_WINDOW   \n",
       "1074026                  0  ...                           17.546250  \\\n",
       "1074027                  0  ...                           46.297857   \n",
       "1074028                  0  ...                           18.486250   \n",
       "1074029                  0  ...                           34.326923   \n",
       "1074030                  0  ...                           49.386364   \n",
       "\n",
       "         CUSTOMER_ID_NB_TX_30DAY_WINDOW  CUSTOMER_ID_AVG_AMOUNT_30DAY_WINDOW   \n",
       "1074026                           125.0                            17.751680  \\\n",
       "1074027                            32.0                            51.623750   \n",
       "1074028                            92.0                            19.409674   \n",
       "1074029                            67.0                            33.681940   \n",
       "1074030                            39.0                            49.860513   \n",
       "\n",
       "         TERMINAL_ID_NB_TX_1DAY_WINDOW  TERMINAL_ID_RISK_1DAY_WINDOW   \n",
       "1074026                            0.0                           0.0  \\\n",
       "1074027                            2.0                           0.0   \n",
       "1074028                            0.0                           0.0   \n",
       "1074029                            3.0                           0.0   \n",
       "1074030                            2.0                           0.0   \n",
       "\n",
       "         TERMINAL_ID_NB_TX_7DAY_WINDOW  TERMINAL_ID_RISK_7DAY_WINDOW   \n",
       "1074026                            2.0                           0.0  \\\n",
       "1074027                            7.0                           0.0   \n",
       "1074028                            9.0                           0.0   \n",
       "1074029                            6.0                           0.0   \n",
       "1074030                            3.0                           0.0   \n",
       "\n",
       "         TERMINAL_ID_NB_TX_30DAY_WINDOW  TERMINAL_ID_RISK_30DAY_WINDOW   \n",
       "1074026                            28.0                       0.000000  \\\n",
       "1074027                            39.0                       0.025641   \n",
       "1074028                            45.0                       0.000000   \n",
       "1074029                            23.0                       0.000000   \n",
       "1074030                            22.0                       0.000000   \n",
       "\n",
       "         TX_FRAUD_PREDICTED  \n",
       "1074026            0.371648  \n",
       "1074027            0.294023  \n",
       "1074028            0.345834  \n",
       "1074029            0.272570  \n",
       "1074030            0.270245  \n",
       "\n",
       "[5 rows x 24 columns]"
      ]
     },
     "execution_count": 37,
     "metadata": {},
     "output_type": "execute_result"
    }
   ],
   "source": [
    "filtered_test['TX_FRAUD_PREDICTED']=model_and_predictions_dictionary['predictions_test']\n",
    "filtered_test.head()"
   ]
  },
  {
   "cell_type": "markdown",
   "id": "d5578ea2-03f1-4ff1-8295-04b4e84548c1",
   "metadata": {},
   "source": [
    "## 4.3 Model Evaluation\n",
    "\n",
    "- The Card Precision top is the most pragmatic and interpretable measure. It takes into account the fact that investigators can only check a maximum of potentially fraudulent cards per day. It is computed by ranking, for every day in the test set, the most fraudulent transactions, and selecting the cards whose transactions have the highest fraud probabilities. The precision (proportion of actual compromised cards out of predicted compromised cards) is then computed for each day.The Card Precision top is the average of these daily precisions. The number \n",
    " will be set to (that is, it is assumed that only 100 cards can be checked every day).\n",
    "\n",
    "- The Average Precision is a proxy for the Card Precision top that integrates precisions for all possible values. \n",
    "\n",
    "- The AUC ROC is an alternative measure to the Average Precision, which gives more importance to scores obtained with higher values. It is less relevant in practice since the performances that matter most are those for low values. We however also report it since it is the most widely used performance metric for fraud detection in the literature. "
   ]
  },
  {
   "cell_type": "code",
   "execution_count": 38,
   "id": "cad11122-b02f-4249-87e5-570b132aeaa4",
   "metadata": {},
   "outputs": [],
   "source": [
    "from sklearn.metrics import roc_auc_score, average_precision_score"
   ]
  },
  {
   "cell_type": "code",
   "execution_count": 39,
   "id": "c369adb7-37a9-4b70-97b3-6382d35bcf08",
   "metadata": {},
   "outputs": [],
   "source": [
    "def card_precision_top_k_day(df_day,top_k):\n",
    "    \n",
    "    # This takes the max of the predictions AND the max of label TX_FRAUD for each CUSTOMER_ID, \n",
    "    # and sorts by decreasing order of fraudulent prediction\n",
    "    df_day = df_day.groupby('CUSTOMER_ID').max().sort_values(by=\"predictions\", ascending=False).reset_index(drop=False)\n",
    "            \n",
    "    # Get the top k most suspicious cards\n",
    "    df_day_top_k=df_day.head(top_k)\n",
    "    list_detected_compromised_cards=list(df_day_top_k[df_day_top_k.TX_FRAUD==1].CUSTOMER_ID)\n",
    "    \n",
    "    # Compute precision top k\n",
    "    card_precision_top_k = len(list_detected_compromised_cards) / top_k\n",
    "    \n",
    "    return list_detected_compromised_cards, card_precision_top_k\n",
    "\n",
    "def card_precision_top_k(predictions_df, top_k, remove_detected_compromised_cards=True):\n",
    "\n",
    "    # Sort days by increasing order\n",
    "    list_days=list(predictions_df['TX_TIME_DAYS'].unique())\n",
    "    list_days.sort()\n",
    "    \n",
    "    # At first, the list of detected compromised cards is empty\n",
    "    list_detected_compromised_cards = []\n",
    "    \n",
    "    card_precision_top_k_per_day_list = []\n",
    "    nb_compromised_cards_per_day = []\n",
    "    \n",
    "    # For each day, compute precision top k\n",
    "    for day in list_days:\n",
    "        \n",
    "        df_day = predictions_df[predictions_df['TX_TIME_DAYS']==day]\n",
    "        df_day = df_day[['predictions', 'CUSTOMER_ID', 'TX_FRAUD']]\n",
    "        \n",
    "        # Let us remove detected compromised cards from the set of daily transactions\n",
    "        df_day = df_day[df_day.CUSTOMER_ID.isin(list_detected_compromised_cards)==False]\n",
    "        \n",
    "        nb_compromised_cards_per_day.append(len(df_day[df_day.TX_FRAUD==1].CUSTOMER_ID.unique()))\n",
    "        \n",
    "        detected_compromised_cards, card_precision_top_k = card_precision_top_k_day(df_day,top_k)\n",
    "        \n",
    "        card_precision_top_k_per_day_list.append(card_precision_top_k)\n",
    "        \n",
    "        # Let us update the list of detected compromised cards\n",
    "        if remove_detected_compromised_cards:\n",
    "            list_detected_compromised_cards.extend(detected_compromised_cards)\n",
    "        \n",
    "    # Compute the mean\n",
    "    mean_card_precision_top_k = np.array(card_precision_top_k_per_day_list).mean()\n",
    "    \n",
    "    # Returns precision top k per day as a list, and resulting mean\n",
    "    return nb_compromised_cards_per_day,card_precision_top_k_per_day_list,mean_card_precision_top_k\n",
    "\n",
    "def performance_assessment(predictions_df, output_feature='TX_FRAUD', \n",
    "                           prediction_feature='predictions', top_k_list=[100],\n",
    "                           rounded=True):\n",
    "    \n",
    "    AUC_ROC = roc_auc_score(predictions_df[output_feature], predictions_df[prediction_feature])\n",
    "    AP = average_precision_score(predictions_df[output_feature], predictions_df[prediction_feature])\n",
    "    \n",
    "    performances = pd.DataFrame([[AUC_ROC, AP]], \n",
    "                           columns=['AUC ROC','Average precision'])\n",
    "    \n",
    "    for top_k in top_k_list:\n",
    "    \n",
    "        _, _, mean_card_precision_top_k = card_precision_top_k(predictions_df, top_k)\n",
    "        performances['Card Precision@'+str(top_k)]=mean_card_precision_top_k\n",
    "        \n",
    "    if rounded:\n",
    "        performances = performances.round(3)\n",
    "    \n",
    "    return performances"
   ]
  },
  {
   "cell_type": "markdown",
   "id": "d91fea35-29cd-4292-b6c2-a3019d1a3874",
   "metadata": {},
   "source": [
    "Next, we calculate the performance for the IForest in terms of AUC ROC, Average Precision (AP), and Card Precision top 100 (CP@100)."
   ]
  },
  {
   "cell_type": "code",
   "execution_count": 40,
   "id": "f9384729-dc71-4889-a376-a3f87ef87953",
   "metadata": {},
   "outputs": [
    {
     "data": {
      "text/html": [
       "<div>\n",
       "<style scoped>\n",
       "    .dataframe tbody tr th:only-of-type {\n",
       "        vertical-align: middle;\n",
       "    }\n",
       "\n",
       "    .dataframe tbody tr th {\n",
       "        vertical-align: top;\n",
       "    }\n",
       "\n",
       "    .dataframe thead th {\n",
       "        text-align: right;\n",
       "    }\n",
       "</style>\n",
       "<table border=\"1\" class=\"dataframe\">\n",
       "  <thead>\n",
       "    <tr style=\"text-align: right;\">\n",
       "      <th></th>\n",
       "      <th>AUC ROC</th>\n",
       "      <th>Average precision</th>\n",
       "      <th>Card Precision@100</th>\n",
       "    </tr>\n",
       "  </thead>\n",
       "  <tbody>\n",
       "    <tr>\n",
       "      <th>0</th>\n",
       "      <td>0.757</td>\n",
       "      <td>0.202</td>\n",
       "      <td>0.17</td>\n",
       "    </tr>\n",
       "  </tbody>\n",
       "</table>\n",
       "</div>"
      ],
      "text/plain": [
       "   AUC ROC  Average precision  Card Precision@100\n",
       "0    0.757              0.202                0.17"
      ]
     },
     "execution_count": 40,
     "metadata": {},
     "output_type": "execute_result"
    }
   ],
   "source": [
    "predictions_df=filtered_test\n",
    "predictions_df['predictions']=model_and_predictions_dictionary['predictions_test']\n",
    "    \n",
    "performance_assessment(predictions_df, top_k_list=[100])"
   ]
  },
  {
   "cell_type": "markdown",
   "id": "79a86323-a768-43c0-a6d9-f13b50050fe3",
   "metadata": {},
   "source": [
    "Let's take a look at the performancde of a random model, that is the probailities of the predictions are set to 0.5"
   ]
  },
  {
   "cell_type": "code",
   "execution_count": 41,
   "id": "f2ccdb33-55ff-48be-8f32-e4bb7c68f1c3",
   "metadata": {},
   "outputs": [
    {
     "data": {
      "text/html": [
       "<div>\n",
       "<style scoped>\n",
       "    .dataframe tbody tr th:only-of-type {\n",
       "        vertical-align: middle;\n",
       "    }\n",
       "\n",
       "    .dataframe tbody tr th {\n",
       "        vertical-align: top;\n",
       "    }\n",
       "\n",
       "    .dataframe thead th {\n",
       "        text-align: right;\n",
       "    }\n",
       "</style>\n",
       "<table border=\"1\" class=\"dataframe\">\n",
       "  <thead>\n",
       "    <tr style=\"text-align: right;\">\n",
       "      <th></th>\n",
       "      <th>AUC ROC</th>\n",
       "      <th>Average precision</th>\n",
       "      <th>Card Precision@100</th>\n",
       "    </tr>\n",
       "  </thead>\n",
       "  <tbody>\n",
       "    <tr>\n",
       "      <th>0</th>\n",
       "      <td>0.5</td>\n",
       "      <td>0.006</td>\n",
       "      <td>0.011</td>\n",
       "    </tr>\n",
       "  </tbody>\n",
       "</table>\n",
       "</div>"
      ],
      "text/plain": [
       "   AUC ROC  Average precision  Card Precision@100\n",
       "0      0.5              0.006               0.011"
      ]
     },
     "execution_count": 41,
     "metadata": {},
     "output_type": "execute_result"
    }
   ],
   "source": [
    "predictions_df['predictions']=0.5\n",
    "    \n",
    "performance_assessment(predictions_df, top_k_list=[100])"
   ]
  },
  {
   "cell_type": "markdown",
   "id": "6d92c0d3-1034-447e-97ab-92700a3c70ce",
   "metadata": {},
   "source": [
    "## 4.3 Performances of other Models"
   ]
  },
  {
   "cell_type": "code",
   "execution_count": 42,
   "id": "55bb4c16-66f6-49ea-99af-c001fc6b582c",
   "metadata": {},
   "outputs": [
    {
     "name": "stdout",
     "output_type": "stream",
     "text": [
      "Model Training... Done!\n",
      "Model Training... Done!\n",
      "Model Training... Done!\n",
      "Model Training... Done!\n"
     ]
    }
   ],
   "source": [
    "# Define pyOD models\n",
    "model_dictionary = {\n",
    "    'KNN':KNN(),\n",
    "    'LOF': LOF(),\n",
    "    'PCA': PCA(),\n",
    "    'IForest': IForest()\n",
    "    }\n",
    "\n",
    "fitted_models_and_predictions_dictionary={}\n",
    "\n",
    "for model_name in model_dictionary:\n",
    "    \n",
    "    model_and_predictions = train_model(model_dictionary[model_name], X_train.values, X_test.values, scale = True)\n",
    "                                                                                  \n",
    "    fitted_models_and_predictions_dictionary[model_name]=model_and_predictions"
   ]
  },
  {
   "cell_type": "markdown",
   "id": "8f6a8cb9-249c-4d79-8c0e-aadd1e4a2c30",
   "metadata": {},
   "source": [
    "- Assess the performances of the models using train and test data"
   ]
  },
  {
   "cell_type": "code",
   "execution_count": 43,
   "id": "404de670-bd87-4e39-a2cd-4337ef87a78e",
   "metadata": {},
   "outputs": [],
   "source": [
    "def performance_assessment_model_collection(fitted_models_and_predictions_dictionary, \n",
    "                                            transactions_df, \n",
    "                                            type_set='test',\n",
    "                                            top_k_list=[100]):\n",
    "\n",
    "    performances=pd.DataFrame() \n",
    "    \n",
    "    for classifier_name, model_and_predictions in fitted_models_and_predictions_dictionary.items():\n",
    "    \n",
    "        predictions_df=transactions_df\n",
    "            \n",
    "        predictions_df['predictions']=model_and_predictions['predictions_'+type_set]\n",
    "        \n",
    "        performances_model=performance_assessment(predictions_df, output_feature='TX_FRAUD', \n",
    "                                                   prediction_feature='predictions', top_k_list=top_k_list)\n",
    "        performances_model.index=[classifier_name]\n",
    "        \n",
    "        performances=performances._append(performances_model)\n",
    "        \n",
    "    return performances"
   ]
  },
  {
   "cell_type": "code",
   "execution_count": 44,
   "id": "3340bd09-8ace-4e8f-8d95-0e7c735d55a8",
   "metadata": {},
   "outputs": [
    {
     "data": {
      "text/html": [
       "<div>\n",
       "<style scoped>\n",
       "    .dataframe tbody tr th:only-of-type {\n",
       "        vertical-align: middle;\n",
       "    }\n",
       "\n",
       "    .dataframe tbody tr th {\n",
       "        vertical-align: top;\n",
       "    }\n",
       "\n",
       "    .dataframe thead th {\n",
       "        text-align: right;\n",
       "    }\n",
       "</style>\n",
       "<table border=\"1\" class=\"dataframe\">\n",
       "  <thead>\n",
       "    <tr style=\"text-align: right;\">\n",
       "      <th></th>\n",
       "      <th>AUC ROC</th>\n",
       "      <th>Average precision</th>\n",
       "      <th>Card Precision@100</th>\n",
       "    </tr>\n",
       "  </thead>\n",
       "  <tbody>\n",
       "    <tr>\n",
       "      <th>KNN</th>\n",
       "      <td>0.805</td>\n",
       "      <td>0.194</td>\n",
       "      <td>0.176</td>\n",
       "    </tr>\n",
       "    <tr>\n",
       "      <th>LOF</th>\n",
       "      <td>0.760</td>\n",
       "      <td>0.123</td>\n",
       "      <td>0.146</td>\n",
       "    </tr>\n",
       "    <tr>\n",
       "      <th>PCA</th>\n",
       "      <td>0.764</td>\n",
       "      <td>0.216</td>\n",
       "      <td>0.190</td>\n",
       "    </tr>\n",
       "    <tr>\n",
       "      <th>IForest</th>\n",
       "      <td>0.773</td>\n",
       "      <td>0.187</td>\n",
       "      <td>0.170</td>\n",
       "    </tr>\n",
       "  </tbody>\n",
       "</table>\n",
       "</div>"
      ],
      "text/plain": [
       "         AUC ROC  Average precision  Card Precision@100\n",
       "KNN        0.805              0.194               0.176\n",
       "LOF        0.760              0.123               0.146\n",
       "PCA        0.764              0.216               0.190\n",
       "IForest    0.773              0.187               0.170"
      ]
     },
     "execution_count": 44,
     "metadata": {},
     "output_type": "execute_result"
    }
   ],
   "source": [
    "# performances on test set\n",
    "df_performances=performance_assessment_model_collection(fitted_models_and_predictions_dictionary, filtered_test, \n",
    "                                                        type_set='test', \n",
    "                                                        top_k_list=[100])\n",
    "df_performances"
   ]
  },
  {
   "cell_type": "code",
   "execution_count": 45,
   "id": "8aa67811-dc14-4843-bec7-cc863e405c4f",
   "metadata": {},
   "outputs": [
    {
     "data": {
      "text/html": [
       "<div>\n",
       "<style scoped>\n",
       "    .dataframe tbody tr th:only-of-type {\n",
       "        vertical-align: middle;\n",
       "    }\n",
       "\n",
       "    .dataframe tbody tr th {\n",
       "        vertical-align: top;\n",
       "    }\n",
       "\n",
       "    .dataframe thead th {\n",
       "        text-align: right;\n",
       "    }\n",
       "</style>\n",
       "<table border=\"1\" class=\"dataframe\">\n",
       "  <thead>\n",
       "    <tr style=\"text-align: right;\">\n",
       "      <th></th>\n",
       "      <th>AUC ROC</th>\n",
       "      <th>Average precision</th>\n",
       "      <th>Card Precision@100</th>\n",
       "    </tr>\n",
       "  </thead>\n",
       "  <tbody>\n",
       "    <tr>\n",
       "      <th>KNN</th>\n",
       "      <td>0.856</td>\n",
       "      <td>0.272</td>\n",
       "      <td>0.239</td>\n",
       "    </tr>\n",
       "    <tr>\n",
       "      <th>LOF</th>\n",
       "      <td>0.792</td>\n",
       "      <td>0.176</td>\n",
       "      <td>0.240</td>\n",
       "    </tr>\n",
       "    <tr>\n",
       "      <th>PCA</th>\n",
       "      <td>0.840</td>\n",
       "      <td>0.312</td>\n",
       "      <td>0.309</td>\n",
       "    </tr>\n",
       "    <tr>\n",
       "      <th>IForest</th>\n",
       "      <td>0.842</td>\n",
       "      <td>0.273</td>\n",
       "      <td>0.289</td>\n",
       "    </tr>\n",
       "  </tbody>\n",
       "</table>\n",
       "</div>"
      ],
      "text/plain": [
       "         AUC ROC  Average precision  Card Precision@100\n",
       "KNN        0.856              0.272               0.239\n",
       "LOF        0.792              0.176               0.240\n",
       "PCA        0.840              0.312               0.309\n",
       "IForest    0.842              0.273               0.289"
      ]
     },
     "execution_count": 45,
     "metadata": {},
     "output_type": "execute_result"
    }
   ],
   "source": [
    "# performances on train set\n",
    "df_performances=performance_assessment_model_collection(fitted_models_and_predictions_dictionary, filtered_train, \n",
    "                                                        type_set='train', \n",
    "                                                        top_k_list=[100])\n",
    "df_performances"
   ]
  },
  {
   "cell_type": "markdown",
   "id": "cec3f882-9d9f-4af4-ac6a-be8cbb97d3b4",
   "metadata": {},
   "source": [
    "- Assess the execution times"
   ]
  },
  {
   "cell_type": "code",
   "execution_count": 48,
   "id": "5b4e198b-cd99-43b4-a171-cd0ba6c5635f",
   "metadata": {},
   "outputs": [],
   "source": [
    "def execution_times_model_collection(fitted_models_and_predictions_dictionary):\n",
    "    execution_times=pd.DataFrame() \n",
    "    \n",
    "    for classifier_name, model_and_predictions in fitted_models_and_predictions_dictionary.items():\n",
    "    \n",
    "        execution_times_model=pd.DataFrame() \n",
    "        execution_times_model['Training execution time']=[model_and_predictions['training_execution_time']]\n",
    "        execution_times_model['Prediction execution time']=[model_and_predictions['prediction_execution_time']]\n",
    "        execution_times_model.index=[classifier_name]\n",
    "        \n",
    "        execution_times=execution_times._append(execution_times_model)\n",
    "        \n",
    "    return execution_times"
   ]
  },
  {
   "cell_type": "code",
   "execution_count": 49,
   "id": "244e35cc-fa69-46f4-9d31-dcfb900bdf32",
   "metadata": {},
   "outputs": [
    {
     "data": {
      "text/html": [
       "<div>\n",
       "<style scoped>\n",
       "    .dataframe tbody tr th:only-of-type {\n",
       "        vertical-align: middle;\n",
       "    }\n",
       "\n",
       "    .dataframe tbody tr th {\n",
       "        vertical-align: top;\n",
       "    }\n",
       "\n",
       "    .dataframe thead th {\n",
       "        text-align: right;\n",
       "    }\n",
       "</style>\n",
       "<table border=\"1\" class=\"dataframe\">\n",
       "  <thead>\n",
       "    <tr style=\"text-align: right;\">\n",
       "      <th></th>\n",
       "      <th>Training execution time</th>\n",
       "      <th>Prediction execution time</th>\n",
       "    </tr>\n",
       "  </thead>\n",
       "  <tbody>\n",
       "    <tr>\n",
       "      <th>KNN</th>\n",
       "      <td>24.3367</td>\n",
       "      <td>11.3492</td>\n",
       "    </tr>\n",
       "    <tr>\n",
       "      <th>LOF</th>\n",
       "      <td>39.5441</td>\n",
       "      <td>15.3962</td>\n",
       "    </tr>\n",
       "    <tr>\n",
       "      <th>PCA</th>\n",
       "      <td>0.0465</td>\n",
       "      <td>0.0084</td>\n",
       "    </tr>\n",
       "    <tr>\n",
       "      <th>IForest</th>\n",
       "      <td>0.8363</td>\n",
       "      <td>0.1415</td>\n",
       "    </tr>\n",
       "  </tbody>\n",
       "</table>\n",
       "</div>"
      ],
      "text/plain": [
       "         Training execution time  Prediction execution time\n",
       "KNN                      24.3367                    11.3492\n",
       "LOF                      39.5441                    15.3962\n",
       "PCA                       0.0465                     0.0084\n",
       "IForest                   0.8363                     0.1415"
      ]
     },
     "execution_count": 49,
     "metadata": {},
     "output_type": "execute_result"
    }
   ],
   "source": [
    "# Execution times\n",
    "df_execution_times=execution_times_model_collection(fitted_models_and_predictions_dictionary)\n",
    "df_execution_times"
   ]
  },
  {
   "cell_type": "markdown",
   "id": "45971376-b328-4605-93df-6eb897eb933a",
   "metadata": {},
   "source": [
    "### Observations\n",
    "\n",
    "- All the models are ding better than random model in the sense that each model achieves a ROC AUC above 0.5 for the training and test data.\n",
    "- In terms of which model offer best performance depends on the performance metric we are considering. If we consider the average precision metric for the test data, PCA has a higher average precision then followed by KNN, IForest, and LOF. For the Card precision top_k metric, PCA has the highest card precision value, followed by KNN, IForest, and LOF in that order. For the performance on the test data, \n",
    "-  The training and prediction execution times for KNN and LOF are higher than PCA and IForest."
   ]
  },
  {
   "cell_type": "markdown",
   "id": "cc9f61a7-5b8c-49c5-81ca-b5d98ae0bb2d",
   "metadata": {},
   "source": [
    "# END"
   ]
  }
 ],
 "metadata": {
  "kernelspec": {
   "display_name": "Python 3 (ipykernel)",
   "language": "python",
   "name": "python3"
  },
  "language_info": {
   "codemirror_mode": {
    "name": "ipython",
    "version": 3
   },
   "file_extension": ".py",
   "mimetype": "text/x-python",
   "name": "python",
   "nbconvert_exporter": "python",
   "pygments_lexer": "ipython3",
   "version": "3.10.14"
  }
 },
 "nbformat": 4,
 "nbformat_minor": 5
}
