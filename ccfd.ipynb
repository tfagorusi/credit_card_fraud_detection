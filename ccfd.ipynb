{
 "cells": [
  {
   "cell_type": "code",
   "execution_count": 1,
   "id": "98438d0b-1611-41db-a289-1dc064420075",
   "metadata": {},
   "outputs": [],
   "source": [
    "# Necessary imports for this notebook\n",
    "import os\n",
    "\n",
    "import numpy as np\n",
    "import pandas as pd\n",
    "import datetime\n",
    "import time\n",
    "import random\n",
    "\n",
    "# For plotting\n",
    "%matplotlib inline\n",
    "\n",
    "import matplotlib.pyplot as plt\n",
    "import seaborn as sns\n",
    "\n",
    "# Import Unsupervised ML algorithms libraries\n",
    "from pyod.models.knn import KNN          # K nearest Neighbour\n",
    "from pyod.models.lof import LOF          # Local Outilier Factor\n",
    "from pyod.models.pca import PCA          # Principal Component Analysis\n",
    "from pyod.models.iforest import IForest  # Isolation Forest\n",
    "\n",
    "import ray\n",
    "import mlflow\n",
    "import pickle\n",
    "\n",
    "sns.set_style('darkgrid', {'axes.facecolor': '0.9'})\n",
    "pd.set_option('max_colwidth', None)\n"
   ]
  },
  {
   "cell_type": "code",
   "execution_count": 2,
   "id": "7d03f9ab-d4bf-41fa-b481-da59f1b235bf",
   "metadata": {
    "tags": []
   },
   "outputs": [],
   "source": [
    "# Initialize Ray\n",
    "#if ray.is_initialized():\n",
    "#    ray.shutdown()\n",
    "#ray.init(num_cpus = 8, num_gpus=0, resources = {\"special_hardware\":1, \"custom_label\":1})"
   ]
  },
  {
   "cell_type": "markdown",
   "id": "c88e7639-7f11-42e0-901a-4ad1288ec83e",
   "metadata": {},
   "source": [
    "# 1. Load Data"
   ]
  },
  {
   "cell_type": "code",
   "execution_count": 3,
   "id": "f9bc313e-7b67-4d3b-8c5d-5951554de060",
   "metadata": {},
   "outputs": [],
   "source": [
    "# Load a set of pickle files, put them together in a single DataFrame, and order them by time\n",
    "# It takes as input the folder DIR_INPUT where the files are stored, and the BEGIN_DATE and END_DATE\n",
    "def read_from_files(DIR_INPUT, BEGIN_DATE, END_DATE):\n",
    "    \n",
    "    files = [os.path.join(DIR_INPUT, f) for f in os.listdir(DIR_INPUT) if f>=BEGIN_DATE+'.pkl' and f<=END_DATE+'.pkl']\n",
    "\n",
    "    frames = []\n",
    "    for f in files:\n",
    "        df = pd.read_pickle(f)\n",
    "        frames.append(df)\n",
    "        del df\n",
    "    df_final = pd.concat(frames)\n",
    "    \n",
    "    df_final=df_final.sort_values('TRANSACTION_ID')\n",
    "    df_final.reset_index(drop=True,inplace=True)\n",
    "    #  Note: -1 are missing values for real world data \n",
    "    df_final=df_final.replace(-1,0)\n",
    "    \n",
    "    return df_final"
   ]
  },
  {
   "cell_type": "code",
   "execution_count": 4,
   "id": "207cd478-bf55-4018-b0e8-9f9cf7470a21",
   "metadata": {},
   "outputs": [
    {
     "name": "stdout",
     "output_type": "stream",
     "text": [
      "Load  files\n",
      "CPU times: user 623 ms, sys: 176 ms, total: 799 ms\n",
      "Wall time: 1.01 s\n",
      "1754155 transactions loaded, containing 14681 fraudulent transactions\n"
     ]
    }
   ],
   "source": [
    "DIR_INPUT='./simulated-data-raw-ccfd/' \n",
    "\n",
    "BEGIN_DATE = \"2021-04-01\"\n",
    "END_DATE = \"2021-09-30\"\n",
    "\n",
    "print(\"Load  files\")\n",
    "%time transactions_df=read_from_files(DIR_INPUT, BEGIN_DATE, END_DATE)\n",
    "print(\"{0} transactions loaded, containing {1} fraudulent transactions\".format(len(transactions_df),transactions_df.TX_FRAUD.sum()))"
   ]
  },
  {
   "cell_type": "code",
   "execution_count": 5,
   "id": "d049e809-7749-4bef-95c7-86e2509ad9b7",
   "metadata": {},
   "outputs": [
    {
     "data": {
      "text/html": [
       "<div>\n",
       "<style scoped>\n",
       "    .dataframe tbody tr th:only-of-type {\n",
       "        vertical-align: middle;\n",
       "    }\n",
       "\n",
       "    .dataframe tbody tr th {\n",
       "        vertical-align: top;\n",
       "    }\n",
       "\n",
       "    .dataframe thead th {\n",
       "        text-align: right;\n",
       "    }\n",
       "</style>\n",
       "<table border=\"1\" class=\"dataframe\">\n",
       "  <thead>\n",
       "    <tr style=\"text-align: right;\">\n",
       "      <th></th>\n",
       "      <th>TRANSACTION_ID</th>\n",
       "      <th>TX_DATETIME</th>\n",
       "      <th>CUSTOMER_ID</th>\n",
       "      <th>TERMINAL_ID</th>\n",
       "      <th>TX_AMOUNT</th>\n",
       "      <th>TX_TIME_SECONDS</th>\n",
       "      <th>TX_TIME_DAYS</th>\n",
       "      <th>TX_FRAUD</th>\n",
       "      <th>TX_FRAUD_SCENARIO</th>\n",
       "    </tr>\n",
       "  </thead>\n",
       "  <tbody>\n",
       "    <tr>\n",
       "      <th>0</th>\n",
       "      <td>0</td>\n",
       "      <td>2021-04-01 00:00:31</td>\n",
       "      <td>596</td>\n",
       "      <td>3156</td>\n",
       "      <td>57.16</td>\n",
       "      <td>31</td>\n",
       "      <td>0</td>\n",
       "      <td>0</td>\n",
       "      <td>0</td>\n",
       "    </tr>\n",
       "    <tr>\n",
       "      <th>1</th>\n",
       "      <td>1</td>\n",
       "      <td>2021-04-01 00:02:10</td>\n",
       "      <td>4961</td>\n",
       "      <td>3412</td>\n",
       "      <td>81.51</td>\n",
       "      <td>130</td>\n",
       "      <td>0</td>\n",
       "      <td>0</td>\n",
       "      <td>0</td>\n",
       "    </tr>\n",
       "    <tr>\n",
       "      <th>2</th>\n",
       "      <td>2</td>\n",
       "      <td>2021-04-01 00:07:56</td>\n",
       "      <td>2</td>\n",
       "      <td>1365</td>\n",
       "      <td>146.00</td>\n",
       "      <td>476</td>\n",
       "      <td>0</td>\n",
       "      <td>0</td>\n",
       "      <td>0</td>\n",
       "    </tr>\n",
       "    <tr>\n",
       "      <th>3</th>\n",
       "      <td>3</td>\n",
       "      <td>2021-04-01 00:09:29</td>\n",
       "      <td>4128</td>\n",
       "      <td>8737</td>\n",
       "      <td>64.49</td>\n",
       "      <td>569</td>\n",
       "      <td>0</td>\n",
       "      <td>0</td>\n",
       "      <td>0</td>\n",
       "    </tr>\n",
       "    <tr>\n",
       "      <th>4</th>\n",
       "      <td>4</td>\n",
       "      <td>2021-04-01 00:10:34</td>\n",
       "      <td>927</td>\n",
       "      <td>9906</td>\n",
       "      <td>50.99</td>\n",
       "      <td>634</td>\n",
       "      <td>0</td>\n",
       "      <td>0</td>\n",
       "      <td>0</td>\n",
       "    </tr>\n",
       "  </tbody>\n",
       "</table>\n",
       "</div>"
      ],
      "text/plain": [
       "   TRANSACTION_ID         TX_DATETIME CUSTOMER_ID TERMINAL_ID  TX_AMOUNT   \n",
       "0               0 2021-04-01 00:00:31         596        3156      57.16  \\\n",
       "1               1 2021-04-01 00:02:10        4961        3412      81.51   \n",
       "2               2 2021-04-01 00:07:56           2        1365     146.00   \n",
       "3               3 2021-04-01 00:09:29        4128        8737      64.49   \n",
       "4               4 2021-04-01 00:10:34         927        9906      50.99   \n",
       "\n",
       "  TX_TIME_SECONDS TX_TIME_DAYS  TX_FRAUD  TX_FRAUD_SCENARIO  \n",
       "0              31            0         0                  0  \n",
       "1             130            0         0                  0  \n",
       "2             476            0         0                  0  \n",
       "3             569            0         0                  0  \n",
       "4             634            0         0                  0  "
      ]
     },
     "execution_count": 5,
     "metadata": {},
     "output_type": "execute_result"
    }
   ],
   "source": [
    "transactions_df.head()"
   ]
  },
  {
   "cell_type": "markdown",
   "id": "6dedb7e8-25be-4b91-a672-64fa64afe830",
   "metadata": {},
   "source": [
    "# 2. EDA"
   ]
  },
  {
   "cell_type": "code",
   "execution_count": 6,
   "id": "a68f79be-f3d8-4e1a-b2d8-d7d3fe0ab872",
   "metadata": {},
   "outputs": [
    {
     "name": "stdout",
     "output_type": "stream",
     "text": [
      "<class 'pandas.core.frame.DataFrame'>\n",
      "RangeIndex: 1754155 entries, 0 to 1754154\n",
      "Data columns (total 9 columns):\n",
      " #   Column             Dtype         \n",
      "---  ------             -----         \n",
      " 0   TRANSACTION_ID     int64         \n",
      " 1   TX_DATETIME        datetime64[ns]\n",
      " 2   CUSTOMER_ID        object        \n",
      " 3   TERMINAL_ID        object        \n",
      " 4   TX_AMOUNT          float64       \n",
      " 5   TX_TIME_SECONDS    object        \n",
      " 6   TX_TIME_DAYS       object        \n",
      " 7   TX_FRAUD           int64         \n",
      " 8   TX_FRAUD_SCENARIO  int64         \n",
      "dtypes: datetime64[ns](1), float64(1), int64(3), object(4)\n",
      "memory usage: 120.4+ MB\n"
     ]
    }
   ],
   "source": [
    "transactions_df.info()"
   ]
  },
  {
   "cell_type": "markdown",
   "id": "dea74ced-a514-4bd6-bd95-064d81e6ad6f",
   "metadata": {},
   "source": [
    "Observations:\n",
    "- no missing values in the data,\n",
    "- the data columns data type are a mix of categorical and numerical features.\n",
    "-  We need to convert the `TX_DATETIME` to a datetime data type"
   ]
  },
  {
   "cell_type": "code",
   "execution_count": 7,
   "id": "403a245d-410b-4c59-9e84-99f75798053e",
   "metadata": {},
   "outputs": [],
   "source": [
    "# Convert 'TX_DATETIME' column to datetime format\n",
    "transactions_df['TX_DATETIME'] = pd.to_datetime(transactions_df['TX_DATETIME'])"
   ]
  },
  {
   "cell_type": "code",
   "execution_count": 8,
   "id": "5eef1b3b-b95a-4780-970d-9d33f025250f",
   "metadata": {},
   "outputs": [
    {
     "data": {
      "text/plain": [
       "dtype('<M8[ns]')"
      ]
     },
     "execution_count": 8,
     "metadata": {},
     "output_type": "execute_result"
    }
   ],
   "source": [
    "transactions_df['TX_DATETIME'].dtype"
   ]
  },
  {
   "cell_type": "code",
   "execution_count": 9,
   "id": "50cc5a5a-c398-428c-bef9-405e25576451",
   "metadata": {},
   "outputs": [
    {
     "data": {
      "text/plain": [
       "(1754155, 9)"
      ]
     },
     "execution_count": 9,
     "metadata": {},
     "output_type": "execute_result"
    }
   ],
   "source": [
    "transactions_df.shape"
   ]
  },
  {
   "cell_type": "markdown",
   "id": "7a2119aa-1b88-43ba-b3dd-eb35beb06a07",
   "metadata": {},
   "source": [
    "- check for duplicates"
   ]
  },
  {
   "cell_type": "code",
   "execution_count": 10,
   "id": "6333706b-a29e-4f6e-ba1a-5b741428b8cf",
   "metadata": {},
   "outputs": [
    {
     "name": "stdout",
     "output_type": "stream",
     "text": [
      "Number of duplicates: 0\n"
     ]
    }
   ],
   "source": [
    "#check data for duplicates\n",
    "duplicates = transactions_df[transactions_df.duplicated()]\n",
    "print(f\"Number of duplicates: {len(duplicates)}\")"
   ]
  },
  {
   "cell_type": "markdown",
   "id": "c7da65a9-664e-44bf-8cfa-9649a25d67ae",
   "metadata": {},
   "source": [
    "- Percentage of fraudulent transactions"
   ]
  },
  {
   "cell_type": "code",
   "execution_count": 11,
   "id": "500ea06e-7a22-4141-94c1-37ef6428a0f2",
   "metadata": {},
   "outputs": [
    {
     "name": "stdout",
     "output_type": "stream",
     "text": [
      "Percentage of fraudulent transactions: 0.8369 %\n"
     ]
    }
   ],
   "source": [
    "p = transactions_df.TX_FRAUD.mean()\n",
    "print(f\"Percentage of fraudulent transactions: {p*100:.4f} %\")"
   ]
  },
  {
   "cell_type": "markdown",
   "id": "7231ced4-2159-411b-8b14-12536bc578fc",
   "metadata": {},
   "source": [
    "- Number of fraudulent transactions:"
   ]
  },
  {
   "cell_type": "code",
   "execution_count": 12,
   "id": "6bef3086-a541-4076-a6ac-7eaa03905a53",
   "metadata": {},
   "outputs": [
    {
     "name": "stdout",
     "output_type": "stream",
     "text": [
      "Number of fraudulent transactions: 14681\n"
     ]
    }
   ],
   "source": [
    "n = transactions_df.TX_FRAUD.sum()\n",
    "print(f\"Number of fraudulent transactions: {n}\")"
   ]
  },
  {
   "cell_type": "markdown",
   "id": "8dc49cb9-1e23-4986-9fb4-ffeee53c13e0",
   "metadata": {},
   "source": [
    "- visualize the distribturion of some features"
   ]
  },
  {
   "cell_type": "code",
   "execution_count": 13,
   "id": "c5137ba2-5bf5-46c3-9954-6630912b2a52",
   "metadata": {
    "tags": []
   },
   "outputs": [
    {
     "data": {
      "text/plain": [
       "[(0, 1739474), (1, 14681)]"
      ]
     },
     "execution_count": 13,
     "metadata": {},
     "output_type": "execute_result"
    }
   ],
   "source": [
    "from collections import Counter\n",
    "\n",
    "# Most common tags\n",
    "all_tags = Counter(transactions_df['TX_FRAUD'])\n",
    "all_tags.most_common()"
   ]
  },
  {
   "cell_type": "markdown",
   "id": "89db8d58-6586-491c-b537-f09400ec1edf",
   "metadata": {},
   "source": [
    "We can then separate the tags and from their respective counts and plot them using"
   ]
  },
  {
   "cell_type": "code",
   "execution_count": 14,
   "id": "9321d01f-e8a0-4cdc-88b6-915adcc62b81",
   "metadata": {
    "tags": []
   },
   "outputs": [
    {
     "data": {
      "image/png": "[encoded data removed]",
      "text/plain": [
       "<Figure size 1000x300 with 1 Axes>"
      ]
     },
     "metadata": {},
     "output_type": "display_data"
    }
   ],
   "source": [
    "# Plot tag frequencies\n",
    "tags, tag_counts = zip(*all_tags.most_common())\n",
    "tags = ['NOT FRAUD', 'FRAUD']\n",
    "plt.figure(figsize=(10, 3))\n",
    "ax = sns.barplot(x=list(tags), y=list(tag_counts),)\n",
    "ax.set_xticklabels(tags, rotation=0, fontsize=8)\n",
    "plt.title(\"Tag Distribution\", fontsize=14)\n",
    "plt.ylabel(\"# of transactions\", fontsize=12)\n",
    "plt.show()\n"
   ]
  },
  {
   "cell_type": "code",
   "execution_count": 15,
   "id": "1fc03008-4148-4394-a31f-158e702aeb7d",
   "metadata": {},
   "outputs": [],
   "source": [
    "%%capture\n",
    "\n",
    "distribution_amount_times_fig, ax = plt.subplots(1, 2, figsize=(18,4))\n",
    "\n",
    "amount_val = transactions_df[transactions_df.TX_TIME_DAYS<10]['TX_AMOUNT'].sample(n=1000).values\n",
    "time_val = transactions_df[transactions_df.TX_TIME_DAYS<10]['TX_TIME_SECONDS'].sample(n=1000).values\n",
    "\n",
    "sns.distplot(amount_val, ax=ax[0], color='r', hist = True,kde = False)\n",
    "ax[0].set_title('Distribution of transaction amounts', fontsize=14)\n",
    "ax[0].set_xlim([min(amount_val), max(amount_val)])\n",
    "ax[0].set(xlabel = \"Amount\", ylabel=\"Number of transactions\")\n",
    "\n",
    "# We divide the time variables by 86400 to transform seconds to days in the plot\n",
    "sns.distplot(time_val/86400, ax=ax[1], color='b', bins = 100, hist = True, kde = False)\n",
    "ax[1].set_title('Distribution of transaction times', fontsize=14)\n",
    "ax[1].set_xlim([min(time_val/86400), max(time_val/86400)])\n",
    "ax[1].set_xticks(range(10))\n",
    "ax[1].set(xlabel = \"Time (days)\", ylabel=\"Number of transactions\")"
   ]
  },
  {
   "cell_type": "code",
   "execution_count": 16,
   "id": "f23e9edd-f0f6-40eb-86b5-8959e257f3fc",
   "metadata": {},
   "outputs": [
    {
     "data": {
      "image/png": "[encoded data removed]",
      "text/plain": [
       "<Figure size 1800x400 with 2 Axes>"
      ]
     },
     "execution_count": 16,
     "metadata": {},
     "output_type": "execute_result"
    }
   ],
   "source": [
    "distribution_amount_times_fig"
   ]
  },
  {
   "cell_type": "markdown",
   "id": "32ea0b6b-5e9b-4212-8077-ca1e6b9d42c6",
   "metadata": {},
   "source": [
    "# 3. Feature Engineering"
   ]
  },
  {
   "cell_type": "markdown",
   "id": "f5ef4335-4769-4bca-aa86-537d732100c5",
   "metadata": {},
   "source": [
    "ML algorithms typically require numerical and ordered features as inputs. Thus, since our data comprises non-numrical and categorical features, we have to deal with them. For this project, We'd design new features that are assumed to be relevant for credit card fraud detection using the following methods:\n",
    "\n",
    "- One-hot encoding\n",
    "- RFM (Recency, Frequncy, Monetary value)\n",
    "- Frequency (or Risk) Encoding"
   ]
  },
  {
   "cell_type": "markdown",
   "id": "9435bcd1-a021-41a9-828f-ffb5c74cce7d",
   "metadata": {},
   "source": [
    "## 3.1 Date and Time Transformation\n",
    "\n",
    "Here, we design two features:\n",
    "- First, we'd want to characterise a transaction whether occured during a weekday (0) or a weekend (1). This engineered feature will be called `TX_DURING_WEEKEND`\n",
    "- Second, we'd want to characterise a transaction whether occured during the day (0) or at night (1). This engineered feature will be called `TX_DURING_NIGHT`. Transactions are considered as night if the transaction occured between 0pm and 6am,  otherwise day."
   ]
  },
  {
   "cell_type": "code",
   "execution_count": 17,
   "id": "8c61d386-256e-4445-b0c1-a2c953e6b541",
   "metadata": {},
   "outputs": [],
   "source": [
    "# Function to transform transaction datetime to weekday or weekend\n",
    "def is_weekend(tx_datetime):\n",
    "    \n",
    "    # Transform date into weekday (0 is Monday, 6 is Sunday)\n",
    "    weekday = tx_datetime.weekday()\n",
    "    # Binary value: 0 if weekday, 1 if weekend\n",
    "    is_weekend = weekday>=5\n",
    "    \n",
    "    return int(is_weekend)"
   ]
  },
  {
   "cell_type": "markdown",
   "id": "e2d72c25-cb5e-451f-9bbb-557791ebe556",
   "metadata": {},
   "source": [
    "- compute `TX_DURING_WEEKEND` feature"
   ]
  },
  {
   "cell_type": "code",
   "execution_count": 18,
   "id": "d8ff8333-07af-4db2-9a94-608ec5db0ec1",
   "metadata": {},
   "outputs": [
    {
     "name": "stdout",
     "output_type": "stream",
     "text": [
      "CPU times: user 1.66 s, sys: 51.5 ms, total: 1.71 s\n",
      "Wall time: 1.71 s\n"
     ]
    }
   ],
   "source": [
    "%time transactions_df['TX_DURING_WEEKEND']=transactions_df.TX_DATETIME.apply(is_weekend)"
   ]
  },
  {
   "cell_type": "code",
   "execution_count": 19,
   "id": "2edc181f-7571-4b66-a5d9-75366c414f4c",
   "metadata": {},
   "outputs": [],
   "source": [
    "# Function to transform transaction datetime to night or day \n",
    "def is_night(tx_datetime):\n",
    "    \n",
    "    # Get the hour of the transaction\n",
    "    tx_hour = tx_datetime.hour\n",
    "    # Binary value: 1 if hour less than 6, and 0 otherwise\n",
    "    is_night = tx_hour<=6\n",
    "    \n",
    "    return int(is_night)"
   ]
  },
  {
   "cell_type": "markdown",
   "id": "44e45f6e-70d5-4afc-9828-d06c825af3da",
   "metadata": {},
   "source": [
    "- compute `TX_DURING_NIGHT` feature"
   ]
  },
  {
   "cell_type": "code",
   "execution_count": 20,
   "id": "fa70d2f7-da15-450d-81c3-8b62c6902b6d",
   "metadata": {},
   "outputs": [
    {
     "name": "stdout",
     "output_type": "stream",
     "text": [
      "CPU times: user 1.49 s, sys: 46.8 ms, total: 1.54 s\n",
      "Wall time: 1.54 s\n"
     ]
    }
   ],
   "source": [
    "%time transactions_df['TX_DURING_NIGHT']=transactions_df.TX_DATETIME.apply(is_night)"
   ]
  },
  {
   "cell_type": "markdown",
   "id": "0cf98856-5ea0-498a-96c1-dbde08ecc002",
   "metadata": {},
   "source": [
    "- Test to see if the new coumns were correctly computed"
   ]
  },
  {
   "cell_type": "code",
   "execution_count": 21,
   "id": "2630eec3-cb27-4df2-8e0e-0f8919514196",
   "metadata": {},
   "outputs": [
    {
     "data": {
      "text/html": [
       "<div>\n",
       "<style scoped>\n",
       "    .dataframe tbody tr th:only-of-type {\n",
       "        vertical-align: middle;\n",
       "    }\n",
       "\n",
       "    .dataframe tbody tr th {\n",
       "        vertical-align: top;\n",
       "    }\n",
       "\n",
       "    .dataframe thead th {\n",
       "        text-align: right;\n",
       "    }\n",
       "</style>\n",
       "<table border=\"1\" class=\"dataframe\">\n",
       "  <thead>\n",
       "    <tr style=\"text-align: right;\">\n",
       "      <th></th>\n",
       "      <th>TRANSACTION_ID</th>\n",
       "      <th>TX_DATETIME</th>\n",
       "      <th>CUSTOMER_ID</th>\n",
       "      <th>TERMINAL_ID</th>\n",
       "      <th>TX_AMOUNT</th>\n",
       "      <th>TX_TIME_SECONDS</th>\n",
       "      <th>TX_TIME_DAYS</th>\n",
       "      <th>TX_FRAUD</th>\n",
       "      <th>TX_FRAUD_SCENARIO</th>\n",
       "      <th>TX_DURING_WEEKEND</th>\n",
       "      <th>TX_DURING_NIGHT</th>\n",
       "    </tr>\n",
       "  </thead>\n",
       "  <tbody>\n",
       "    <tr>\n",
       "      <th>863006</th>\n",
       "      <td>863006</td>\n",
       "      <td>2021-06-30 00:00:26</td>\n",
       "      <td>1958</td>\n",
       "      <td>5160</td>\n",
       "      <td>120.20</td>\n",
       "      <td>7776026</td>\n",
       "      <td>90</td>\n",
       "      <td>0</td>\n",
       "      <td>0</td>\n",
       "      <td>0</td>\n",
       "      <td>1</td>\n",
       "    </tr>\n",
       "    <tr>\n",
       "      <th>863007</th>\n",
       "      <td>863007</td>\n",
       "      <td>2021-06-30 00:01:06</td>\n",
       "      <td>3300</td>\n",
       "      <td>7921</td>\n",
       "      <td>16.93</td>\n",
       "      <td>7776066</td>\n",
       "      <td>90</td>\n",
       "      <td>0</td>\n",
       "      <td>0</td>\n",
       "      <td>0</td>\n",
       "      <td>1</td>\n",
       "    </tr>\n",
       "    <tr>\n",
       "      <th>863008</th>\n",
       "      <td>863008</td>\n",
       "      <td>2021-06-30 00:02:57</td>\n",
       "      <td>2707</td>\n",
       "      <td>2630</td>\n",
       "      <td>58.73</td>\n",
       "      <td>7776177</td>\n",
       "      <td>90</td>\n",
       "      <td>0</td>\n",
       "      <td>0</td>\n",
       "      <td>0</td>\n",
       "      <td>1</td>\n",
       "    </tr>\n",
       "    <tr>\n",
       "      <th>863009</th>\n",
       "      <td>863009</td>\n",
       "      <td>2021-06-30 00:04:07</td>\n",
       "      <td>1186</td>\n",
       "      <td>9265</td>\n",
       "      <td>54.23</td>\n",
       "      <td>7776247</td>\n",
       "      <td>90</td>\n",
       "      <td>0</td>\n",
       "      <td>0</td>\n",
       "      <td>0</td>\n",
       "      <td>1</td>\n",
       "    </tr>\n",
       "    <tr>\n",
       "      <th>863010</th>\n",
       "      <td>863010</td>\n",
       "      <td>2021-06-30 00:04:52</td>\n",
       "      <td>3781</td>\n",
       "      <td>1038</td>\n",
       "      <td>83.74</td>\n",
       "      <td>7776292</td>\n",
       "      <td>90</td>\n",
       "      <td>0</td>\n",
       "      <td>0</td>\n",
       "      <td>0</td>\n",
       "      <td>1</td>\n",
       "    </tr>\n",
       "  </tbody>\n",
       "</table>\n",
       "</div>"
      ],
      "text/plain": [
       "        TRANSACTION_ID         TX_DATETIME CUSTOMER_ID TERMINAL_ID  TX_AMOUNT   \n",
       "863006          863006 2021-06-30 00:00:26        1958        5160     120.20  \\\n",
       "863007          863007 2021-06-30 00:01:06        3300        7921      16.93   \n",
       "863008          863008 2021-06-30 00:02:57        2707        2630      58.73   \n",
       "863009          863009 2021-06-30 00:04:07        1186        9265      54.23   \n",
       "863010          863010 2021-06-30 00:04:52        3781        1038      83.74   \n",
       "\n",
       "       TX_TIME_SECONDS TX_TIME_DAYS  TX_FRAUD  TX_FRAUD_SCENARIO   \n",
       "863006         7776026           90         0                  0  \\\n",
       "863007         7776066           90         0                  0   \n",
       "863008         7776177           90         0                  0   \n",
       "863009         7776247           90         0                  0   \n",
       "863010         7776292           90         0                  0   \n",
       "\n",
       "        TX_DURING_WEEKEND  TX_DURING_NIGHT  \n",
       "863006                  0                1  \n",
       "863007                  0                1  \n",
       "863008                  0                1  \n",
       "863009                  0                1  \n",
       "863010                  0                1  "
      ]
     },
     "execution_count": 21,
     "metadata": {},
     "output_type": "execute_result"
    }
   ],
   "source": [
    "transactions_df[transactions_df.TX_TIME_DAYS>=90].head()"
   ]
  },
  {
   "cell_type": "markdown",
   "id": "140d226e-c176-46fc-a964-2b0c98a497a1",
   "metadata": {},
   "source": [
    "## 3.2 Customer ID transformations\n",
    "\n",
    "In this case, we'd use the RFM (Recency, Frequency, Monetary Value) method, to compute two of the features over three time windows.\n",
    "\n",
    "- First feature is **the number of transaction that occurs within a time window (Frequency)**\n",
    "- Second feature is **the average amount spent in these transactions (Monetary Value)**\n",
    "\n",
    "The time windows will be set to 1 day, 7 days, and 30 days. Hence, our transfformation will generate six additional features. The `get_customer_spending_behaviour_features` will be used to compute these features"
   ]
  },
  {
   "cell_type": "code",
   "execution_count": 22,
   "id": "49a67760-bb41-4b2e-9182-05b6750a14a0",
   "metadata": {},
   "outputs": [],
   "source": [
    "def get_customer_spending_behaviour_features(customer_transactions, windows_size_in_days=[1,7,30]):\n",
    "    \n",
    "    # Let us first order transactions chronologically\n",
    "    customer_transactions=customer_transactions.sort_values('TX_DATETIME')\n",
    "    \n",
    "    # The transaction date and time is set as the index, which will allow the use of the rolling function \n",
    "    customer_transactions.index=customer_transactions.TX_DATETIME\n",
    "    \n",
    "    # For each window size\n",
    "    for window_size in windows_size_in_days:\n",
    "        \n",
    "        # Compute the sum of the transaction amounts and the number of transactions for the given window size\n",
    "        SUM_AMOUNT_TX_WINDOW=customer_transactions['TX_AMOUNT'].rolling(str(window_size)+'d').sum()\n",
    "        NB_TX_WINDOW=customer_transactions['TX_AMOUNT'].rolling(str(window_size)+'d').count()\n",
    "    \n",
    "        # Compute the average transaction amount for the given window size\n",
    "        # NB_TX_WINDOW is always >0 since current transaction is always included\n",
    "        AVG_AMOUNT_TX_WINDOW=SUM_AMOUNT_TX_WINDOW/NB_TX_WINDOW\n",
    "    \n",
    "        # Save feature values\n",
    "        customer_transactions['CUSTOMER_ID_NB_TX_'+str(window_size)+'DAY_WINDOW']=list(NB_TX_WINDOW)\n",
    "        customer_transactions['CUSTOMER_ID_AVG_AMOUNT_'+str(window_size)+'DAY_WINDOW']=list(AVG_AMOUNT_TX_WINDOW)\n",
    "    \n",
    "    # Reindex according to transaction IDs\n",
    "    customer_transactions.index=customer_transactions.TRANSACTION_ID\n",
    "        \n",
    "    # And return the dataframe with the new features\n",
    "    return customer_transactions"
   ]
  },
  {
   "cell_type": "markdown",
   "id": "6d39edf6-0fca-4ad1-9750-acd5142a2ecc",
   "metadata": {},
   "source": [
    "- As an example, compute the aggregates for the first customer"
   ]
  },
  {
   "cell_type": "code",
   "execution_count": 23,
   "id": "933faa1a-3157-4685-9ee7-33309b03d1eb",
   "metadata": {},
   "outputs": [
    {
     "data": {
      "text/html": [
       "<div>\n",
       "<style scoped>\n",
       "    .dataframe tbody tr th:only-of-type {\n",
       "        vertical-align: middle;\n",
       "    }\n",
       "\n",
       "    .dataframe tbody tr th {\n",
       "        vertical-align: top;\n",
       "    }\n",
       "\n",
       "    .dataframe thead th {\n",
       "        text-align: right;\n",
       "    }\n",
       "</style>\n",
       "<table border=\"1\" class=\"dataframe\">\n",
       "  <thead>\n",
       "    <tr style=\"text-align: right;\">\n",
       "      <th></th>\n",
       "      <th>TRANSACTION_ID</th>\n",
       "      <th>TX_DATETIME</th>\n",
       "      <th>CUSTOMER_ID</th>\n",
       "      <th>TERMINAL_ID</th>\n",
       "      <th>TX_AMOUNT</th>\n",
       "      <th>TX_TIME_SECONDS</th>\n",
       "      <th>TX_TIME_DAYS</th>\n",
       "      <th>TX_FRAUD</th>\n",
       "      <th>TX_FRAUD_SCENARIO</th>\n",
       "      <th>TX_DURING_WEEKEND</th>\n",
       "      <th>TX_DURING_NIGHT</th>\n",
       "      <th>CUSTOMER_ID_NB_TX_1DAY_WINDOW</th>\n",
       "      <th>CUSTOMER_ID_AVG_AMOUNT_1DAY_WINDOW</th>\n",
       "      <th>CUSTOMER_ID_NB_TX_7DAY_WINDOW</th>\n",
       "      <th>CUSTOMER_ID_AVG_AMOUNT_7DAY_WINDOW</th>\n",
       "      <th>CUSTOMER_ID_NB_TX_30DAY_WINDOW</th>\n",
       "      <th>CUSTOMER_ID_AVG_AMOUNT_30DAY_WINDOW</th>\n",
       "    </tr>\n",
       "    <tr>\n",
       "      <th>TRANSACTION_ID</th>\n",
       "      <th></th>\n",
       "      <th></th>\n",
       "      <th></th>\n",
       "      <th></th>\n",
       "      <th></th>\n",
       "      <th></th>\n",
       "      <th></th>\n",
       "      <th></th>\n",
       "      <th></th>\n",
       "      <th></th>\n",
       "      <th></th>\n",
       "      <th></th>\n",
       "      <th></th>\n",
       "      <th></th>\n",
       "      <th></th>\n",
       "      <th></th>\n",
       "      <th></th>\n",
       "    </tr>\n",
       "  </thead>\n",
       "  <tbody>\n",
       "    <tr>\n",
       "      <th>1758</th>\n",
       "      <td>1758</td>\n",
       "      <td>2021-04-01 07:19:05</td>\n",
       "      <td>0</td>\n",
       "      <td>6076</td>\n",
       "      <td>123.59</td>\n",
       "      <td>26345</td>\n",
       "      <td>0</td>\n",
       "      <td>0</td>\n",
       "      <td>0</td>\n",
       "      <td>0</td>\n",
       "      <td>0</td>\n",
       "      <td>1.0</td>\n",
       "      <td>123.590000</td>\n",
       "      <td>1.0</td>\n",
       "      <td>123.590000</td>\n",
       "      <td>1.0</td>\n",
       "      <td>123.590000</td>\n",
       "    </tr>\n",
       "    <tr>\n",
       "      <th>8275</th>\n",
       "      <td>8275</td>\n",
       "      <td>2021-04-01 18:00:16</td>\n",
       "      <td>0</td>\n",
       "      <td>858</td>\n",
       "      <td>77.34</td>\n",
       "      <td>64816</td>\n",
       "      <td>0</td>\n",
       "      <td>0</td>\n",
       "      <td>0</td>\n",
       "      <td>0</td>\n",
       "      <td>0</td>\n",
       "      <td>2.0</td>\n",
       "      <td>100.465000</td>\n",
       "      <td>2.0</td>\n",
       "      <td>100.465000</td>\n",
       "      <td>2.0</td>\n",
       "      <td>100.465000</td>\n",
       "    </tr>\n",
       "    <tr>\n",
       "      <th>8640</th>\n",
       "      <td>8640</td>\n",
       "      <td>2021-04-01 19:02:02</td>\n",
       "      <td>0</td>\n",
       "      <td>6698</td>\n",
       "      <td>46.51</td>\n",
       "      <td>68522</td>\n",
       "      <td>0</td>\n",
       "      <td>0</td>\n",
       "      <td>0</td>\n",
       "      <td>0</td>\n",
       "      <td>0</td>\n",
       "      <td>3.0</td>\n",
       "      <td>82.480000</td>\n",
       "      <td>3.0</td>\n",
       "      <td>82.480000</td>\n",
       "      <td>3.0</td>\n",
       "      <td>82.480000</td>\n",
       "    </tr>\n",
       "    <tr>\n",
       "      <th>12169</th>\n",
       "      <td>12169</td>\n",
       "      <td>2021-04-02 08:51:06</td>\n",
       "      <td>0</td>\n",
       "      <td>6569</td>\n",
       "      <td>54.72</td>\n",
       "      <td>118266</td>\n",
       "      <td>1</td>\n",
       "      <td>0</td>\n",
       "      <td>0</td>\n",
       "      <td>0</td>\n",
       "      <td>0</td>\n",
       "      <td>3.0</td>\n",
       "      <td>59.523333</td>\n",
       "      <td>4.0</td>\n",
       "      <td>75.540000</td>\n",
       "      <td>4.0</td>\n",
       "      <td>75.540000</td>\n",
       "    </tr>\n",
       "    <tr>\n",
       "      <th>15764</th>\n",
       "      <td>15764</td>\n",
       "      <td>2021-04-02 14:05:38</td>\n",
       "      <td>0</td>\n",
       "      <td>7707</td>\n",
       "      <td>63.30</td>\n",
       "      <td>137138</td>\n",
       "      <td>1</td>\n",
       "      <td>0</td>\n",
       "      <td>0</td>\n",
       "      <td>0</td>\n",
       "      <td>0</td>\n",
       "      <td>4.0</td>\n",
       "      <td>60.467500</td>\n",
       "      <td>5.0</td>\n",
       "      <td>73.092000</td>\n",
       "      <td>5.0</td>\n",
       "      <td>73.092000</td>\n",
       "    </tr>\n",
       "    <tr>\n",
       "      <th>...</th>\n",
       "      <td>...</td>\n",
       "      <td>...</td>\n",
       "      <td>...</td>\n",
       "      <td>...</td>\n",
       "      <td>...</td>\n",
       "      <td>...</td>\n",
       "      <td>...</td>\n",
       "      <td>...</td>\n",
       "      <td>...</td>\n",
       "      <td>...</td>\n",
       "      <td>...</td>\n",
       "      <td>...</td>\n",
       "      <td>...</td>\n",
       "      <td>...</td>\n",
       "      <td>...</td>\n",
       "      <td>...</td>\n",
       "      <td>...</td>\n",
       "    </tr>\n",
       "    <tr>\n",
       "      <th>1750390</th>\n",
       "      <td>1750390</td>\n",
       "      <td>2021-09-30 13:38:41</td>\n",
       "      <td>0</td>\n",
       "      <td>3096</td>\n",
       "      <td>38.23</td>\n",
       "      <td>15773921</td>\n",
       "      <td>182</td>\n",
       "      <td>0</td>\n",
       "      <td>0</td>\n",
       "      <td>0</td>\n",
       "      <td>0</td>\n",
       "      <td>5.0</td>\n",
       "      <td>64.388000</td>\n",
       "      <td>28.0</td>\n",
       "      <td>57.306429</td>\n",
       "      <td>89.0</td>\n",
       "      <td>63.097640</td>\n",
       "    </tr>\n",
       "    <tr>\n",
       "      <th>1750758</th>\n",
       "      <td>1750758</td>\n",
       "      <td>2021-09-30 14:10:21</td>\n",
       "      <td>0</td>\n",
       "      <td>9441</td>\n",
       "      <td>43.60</td>\n",
       "      <td>15775821</td>\n",
       "      <td>182</td>\n",
       "      <td>0</td>\n",
       "      <td>0</td>\n",
       "      <td>0</td>\n",
       "      <td>0</td>\n",
       "      <td>6.0</td>\n",
       "      <td>60.923333</td>\n",
       "      <td>29.0</td>\n",
       "      <td>56.833793</td>\n",
       "      <td>89.0</td>\n",
       "      <td>62.433933</td>\n",
       "    </tr>\n",
       "    <tr>\n",
       "      <th>1751039</th>\n",
       "      <td>1751039</td>\n",
       "      <td>2021-09-30 14:34:30</td>\n",
       "      <td>0</td>\n",
       "      <td>1138</td>\n",
       "      <td>69.69</td>\n",
       "      <td>15777270</td>\n",
       "      <td>182</td>\n",
       "      <td>0</td>\n",
       "      <td>0</td>\n",
       "      <td>0</td>\n",
       "      <td>0</td>\n",
       "      <td>7.0</td>\n",
       "      <td>62.175714</td>\n",
       "      <td>29.0</td>\n",
       "      <td>57.872414</td>\n",
       "      <td>90.0</td>\n",
       "      <td>62.514556</td>\n",
       "    </tr>\n",
       "    <tr>\n",
       "      <th>1751272</th>\n",
       "      <td>1751272</td>\n",
       "      <td>2021-09-30 14:54:59</td>\n",
       "      <td>0</td>\n",
       "      <td>9441</td>\n",
       "      <td>91.26</td>\n",
       "      <td>15778499</td>\n",
       "      <td>182</td>\n",
       "      <td>0</td>\n",
       "      <td>0</td>\n",
       "      <td>0</td>\n",
       "      <td>0</td>\n",
       "      <td>8.0</td>\n",
       "      <td>65.811250</td>\n",
       "      <td>30.0</td>\n",
       "      <td>58.985333</td>\n",
       "      <td>90.0</td>\n",
       "      <td>61.882333</td>\n",
       "    </tr>\n",
       "    <tr>\n",
       "      <th>1751455</th>\n",
       "      <td>1751455</td>\n",
       "      <td>2021-09-30 15:11:37</td>\n",
       "      <td>0</td>\n",
       "      <td>2746</td>\n",
       "      <td>27.90</td>\n",
       "      <td>15779497</td>\n",
       "      <td>182</td>\n",
       "      <td>0</td>\n",
       "      <td>0</td>\n",
       "      <td>0</td>\n",
       "      <td>0</td>\n",
       "      <td>9.0</td>\n",
       "      <td>61.598889</td>\n",
       "      <td>31.0</td>\n",
       "      <td>57.982581</td>\n",
       "      <td>91.0</td>\n",
       "      <td>61.508901</td>\n",
       "    </tr>\n",
       "  </tbody>\n",
       "</table>\n",
       "<p>384 rows × 17 columns</p>\n",
       "</div>"
      ],
      "text/plain": [
       "                TRANSACTION_ID         TX_DATETIME CUSTOMER_ID TERMINAL_ID   \n",
       "TRANSACTION_ID                                                               \n",
       "1758                      1758 2021-04-01 07:19:05           0        6076  \\\n",
       "8275                      8275 2021-04-01 18:00:16           0         858   \n",
       "8640                      8640 2021-04-01 19:02:02           0        6698   \n",
       "12169                    12169 2021-04-02 08:51:06           0        6569   \n",
       "15764                    15764 2021-04-02 14:05:38           0        7707   \n",
       "...                        ...                 ...         ...         ...   \n",
       "1750390                1750390 2021-09-30 13:38:41           0        3096   \n",
       "1750758                1750758 2021-09-30 14:10:21           0        9441   \n",
       "1751039                1751039 2021-09-30 14:34:30           0        1138   \n",
       "1751272                1751272 2021-09-30 14:54:59           0        9441   \n",
       "1751455                1751455 2021-09-30 15:11:37           0        2746   \n",
       "\n",
       "                TX_AMOUNT TX_TIME_SECONDS TX_TIME_DAYS  TX_FRAUD   \n",
       "TRANSACTION_ID                                                     \n",
       "1758               123.59           26345            0         0  \\\n",
       "8275                77.34           64816            0         0   \n",
       "8640                46.51           68522            0         0   \n",
       "12169               54.72          118266            1         0   \n",
       "15764               63.30          137138            1         0   \n",
       "...                   ...             ...          ...       ...   \n",
       "1750390             38.23        15773921          182         0   \n",
       "1750758             43.60        15775821          182         0   \n",
       "1751039             69.69        15777270          182         0   \n",
       "1751272             91.26        15778499          182         0   \n",
       "1751455             27.90        15779497          182         0   \n",
       "\n",
       "                TX_FRAUD_SCENARIO  TX_DURING_WEEKEND  TX_DURING_NIGHT   \n",
       "TRANSACTION_ID                                                          \n",
       "1758                            0                  0                0  \\\n",
       "8275                            0                  0                0   \n",
       "8640                            0                  0                0   \n",
       "12169                           0                  0                0   \n",
       "15764                           0                  0                0   \n",
       "...                           ...                ...              ...   \n",
       "1750390                         0                  0                0   \n",
       "1750758                         0                  0                0   \n",
       "1751039                         0                  0                0   \n",
       "1751272                         0                  0                0   \n",
       "1751455                         0                  0                0   \n",
       "\n",
       "                CUSTOMER_ID_NB_TX_1DAY_WINDOW   \n",
       "TRANSACTION_ID                                  \n",
       "1758                                      1.0  \\\n",
       "8275                                      2.0   \n",
       "8640                                      3.0   \n",
       "12169                                     3.0   \n",
       "15764                                     4.0   \n",
       "...                                       ...   \n",
       "1750390                                   5.0   \n",
       "1750758                                   6.0   \n",
       "1751039                                   7.0   \n",
       "1751272                                   8.0   \n",
       "1751455                                   9.0   \n",
       "\n",
       "                CUSTOMER_ID_AVG_AMOUNT_1DAY_WINDOW   \n",
       "TRANSACTION_ID                                       \n",
       "1758                                    123.590000  \\\n",
       "8275                                    100.465000   \n",
       "8640                                     82.480000   \n",
       "12169                                    59.523333   \n",
       "15764                                    60.467500   \n",
       "...                                            ...   \n",
       "1750390                                  64.388000   \n",
       "1750758                                  60.923333   \n",
       "1751039                                  62.175714   \n",
       "1751272                                  65.811250   \n",
       "1751455                                  61.598889   \n",
       "\n",
       "                CUSTOMER_ID_NB_TX_7DAY_WINDOW   \n",
       "TRANSACTION_ID                                  \n",
       "1758                                      1.0  \\\n",
       "8275                                      2.0   \n",
       "8640                                      3.0   \n",
       "12169                                     4.0   \n",
       "15764                                     5.0   \n",
       "...                                       ...   \n",
       "1750390                                  28.0   \n",
       "1750758                                  29.0   \n",
       "1751039                                  29.0   \n",
       "1751272                                  30.0   \n",
       "1751455                                  31.0   \n",
       "\n",
       "                CUSTOMER_ID_AVG_AMOUNT_7DAY_WINDOW   \n",
       "TRANSACTION_ID                                       \n",
       "1758                                    123.590000  \\\n",
       "8275                                    100.465000   \n",
       "8640                                     82.480000   \n",
       "12169                                    75.540000   \n",
       "15764                                    73.092000   \n",
       "...                                            ...   \n",
       "1750390                                  57.306429   \n",
       "1750758                                  56.833793   \n",
       "1751039                                  57.872414   \n",
       "1751272                                  58.985333   \n",
       "1751455                                  57.982581   \n",
       "\n",
       "                CUSTOMER_ID_NB_TX_30DAY_WINDOW   \n",
       "TRANSACTION_ID                                   \n",
       "1758                                       1.0  \\\n",
       "8275                                       2.0   \n",
       "8640                                       3.0   \n",
       "12169                                      4.0   \n",
       "15764                                      5.0   \n",
       "...                                        ...   \n",
       "1750390                                   89.0   \n",
       "1750758                                   89.0   \n",
       "1751039                                   90.0   \n",
       "1751272                                   90.0   \n",
       "1751455                                   91.0   \n",
       "\n",
       "                CUSTOMER_ID_AVG_AMOUNT_30DAY_WINDOW  \n",
       "TRANSACTION_ID                                       \n",
       "1758                                     123.590000  \n",
       "8275                                     100.465000  \n",
       "8640                                      82.480000  \n",
       "12169                                     75.540000  \n",
       "15764                                     73.092000  \n",
       "...                                             ...  \n",
       "1750390                                   63.097640  \n",
       "1750758                                   62.433933  \n",
       "1751039                                   62.514556  \n",
       "1751272                                   61.882333  \n",
       "1751455                                   61.508901  \n",
       "\n",
       "[384 rows x 17 columns]"
      ]
     },
     "execution_count": 23,
     "metadata": {},
     "output_type": "execute_result"
    }
   ],
   "source": [
    "spending_behaviour_customer_0=get_customer_spending_behaviour_features(transactions_df[transactions_df.CUSTOMER_ID==0])\n",
    "spending_behaviour_customer_0"
   ]
  },
  {
   "cell_type": "markdown",
   "id": "f85a4007-0a01-453c-9ac5-1fbb0d8ed316",
   "metadata": {},
   "source": [
    "- Now generate features for all customers"
   ]
  },
  {
   "cell_type": "code",
   "execution_count": 24,
   "id": "854ad9f2-b590-4083-abf2-baa4a891f92d",
   "metadata": {},
   "outputs": [
    {
     "name": "stdout",
     "output_type": "stream",
     "text": [
      "CPU times: user 9.6 s, sys: 189 ms, total: 9.79 s\n",
      "Wall time: 9.81 s\n"
     ]
    }
   ],
   "source": [
    "%time transactions_df=transactions_df.groupby('CUSTOMER_ID').apply(lambda x: get_customer_spending_behaviour_features(x, windows_size_in_days=[1,7,30]))\n",
    "transactions_df=transactions_df.sort_values('TX_DATETIME').reset_index(drop=True)"
   ]
  },
  {
   "cell_type": "code",
   "execution_count": 25,
   "id": "a6387840-08cd-4d5f-88a9-138a0bdd0491",
   "metadata": {},
   "outputs": [
    {
     "data": {
      "text/plain": [
       "(1754155, 17)"
      ]
     },
     "execution_count": 25,
     "metadata": {},
     "output_type": "execute_result"
    }
   ],
   "source": [
    "transactions_df.shape"
   ]
  },
  {
   "cell_type": "markdown",
   "id": "da7e1940-a1a7-457d-b384-d4fa356d777e",
   "metadata": {},
   "source": [
    "## 3.3 Terminal ID transformations\n",
    "\n",
    "In this case, the goal will be to extract a *risk* score. This assesses the exposure of a given terminal ID to fradulent transactions.\n",
    "\n",
    "The risk score will be defined as **the average number of fraudulaent transactions that occured on a terminal ID over a time window**\n",
    "\n",
    "`get_count_risk_rolling_window function` takes as inputs the DataFrame of transactions for a given terminal ID, the delay period, and a list of window sizes. In the first stage, the number of transactions and fraudulent transactions are computed for the delay period (NB_TX_DELAY and NB_FRAUD_DELAY). In the second stage, the number of transactions and fraudulent transactions are computed for each window size plus the delay period (NB_TX_DELAY_WINDOW and NB_FRAUD_DELAY_WINDOW). The number of transactions and fraudulent transactions that occurred for a given window size, shifted back by the delay period, is then obtained by simply computing the differences of the quantities obtained for the delay period, and the window size plus delay period:\n",
    "\n",
    "NB_FRAUD_WINDOW=NB_FRAUD_DELAY_WINDOW-NB_FRAUD_DELAY\n",
    "\n",
    "NB_TX_WINDOW=NB_TX_DELAY_WINDOW-NB_TX_DELAY\n",
    "\n",
    "To a first approximation, this delay period will be set to one week. The risk score is finally obtained by computing the proportion of fraudulent transactions for each window size (or 0 if no transaction occurred for the given window):\n",
    "\n",
    "RISK_WINDOW=NB_FRAUD_WINDOW/NB_TX_WINDOW"
   ]
  },
  {
   "cell_type": "code",
   "execution_count": 26,
   "id": "0372e851-0f22-4ca9-84be-d970061d2858",
   "metadata": {},
   "outputs": [],
   "source": [
    "def get_count_risk_rolling_window(terminal_transactions, delay_period=7, windows_size_in_days=[1,7,30], feature=\"TERMINAL_ID\"):\n",
    "    \n",
    "    terminal_transactions=terminal_transactions.sort_values('TX_DATETIME')\n",
    "    \n",
    "    terminal_transactions.index=terminal_transactions.TX_DATETIME\n",
    "    \n",
    "    NB_FRAUD_DELAY=terminal_transactions['TX_FRAUD'].rolling(str(delay_period)+'d').sum()\n",
    "    NB_TX_DELAY=terminal_transactions['TX_FRAUD'].rolling(str(delay_period)+'d').count()\n",
    "    \n",
    "    for window_size in windows_size_in_days:\n",
    "    \n",
    "        NB_FRAUD_DELAY_WINDOW=terminal_transactions['TX_FRAUD'].rolling(str(delay_period+window_size)+'d').sum()\n",
    "        NB_TX_DELAY_WINDOW=terminal_transactions['TX_FRAUD'].rolling(str(delay_period+window_size)+'d').count()\n",
    "    \n",
    "        NB_FRAUD_WINDOW=NB_FRAUD_DELAY_WINDOW-NB_FRAUD_DELAY\n",
    "        NB_TX_WINDOW=NB_TX_DELAY_WINDOW-NB_TX_DELAY\n",
    "    \n",
    "        RISK_WINDOW=NB_FRAUD_WINDOW/NB_TX_WINDOW\n",
    "        \n",
    "        terminal_transactions[feature+'_NB_TX_'+str(window_size)+'DAY_WINDOW']=list(NB_TX_WINDOW)\n",
    "        terminal_transactions[feature+'_RISK_'+str(window_size)+'DAY_WINDOW']=list(RISK_WINDOW)\n",
    "        \n",
    "    terminal_transactions.index=terminal_transactions.TRANSACTION_ID\n",
    "    \n",
    "    # Replace NA values with 0 (all undefined risk scores where NB_TX_WINDOW is 0) \n",
    "    terminal_transactions.fillna(0,inplace=True)\n",
    "    \n",
    "    return terminal_transactions"
   ]
  },
  {
   "cell_type": "code",
   "execution_count": 27,
   "id": "7416f5b4-a459-405e-9bc3-e1193518fd02",
   "metadata": {},
   "outputs": [
    {
     "name": "stdout",
     "output_type": "stream",
     "text": [
      "CPU times: user 21.4 s, sys: 527 ms, total: 21.9 s\n",
      "Wall time: 22.1 s\n"
     ]
    }
   ],
   "source": [
    "%time transactions_df=transactions_df.groupby('TERMINAL_ID').apply(lambda x: get_count_risk_rolling_window(x, delay_period=7, windows_size_in_days=[1,7,30], feature=\"TERMINAL_ID\"))\n",
    "transactions_df=transactions_df.sort_values('TX_DATETIME').reset_index(drop=True)"
   ]
  },
  {
   "cell_type": "code",
   "execution_count": 28,
   "id": "b5eae36b-c2dc-4aa9-93db-894a2656a584",
   "metadata": {},
   "outputs": [
    {
     "data": {
      "text/html": [
       "<div>\n",
       "<style scoped>\n",
       "    .dataframe tbody tr th:only-of-type {\n",
       "        vertical-align: middle;\n",
       "    }\n",
       "\n",
       "    .dataframe tbody tr th {\n",
       "        vertical-align: top;\n",
       "    }\n",
       "\n",
       "    .dataframe thead th {\n",
       "        text-align: right;\n",
       "    }\n",
       "</style>\n",
       "<table border=\"1\" class=\"dataframe\">\n",
       "  <thead>\n",
       "    <tr style=\"text-align: right;\">\n",
       "      <th></th>\n",
       "      <th>TRANSACTION_ID</th>\n",
       "      <th>TX_DATETIME</th>\n",
       "      <th>CUSTOMER_ID</th>\n",
       "      <th>TERMINAL_ID</th>\n",
       "      <th>TX_AMOUNT</th>\n",
       "      <th>TX_TIME_SECONDS</th>\n",
       "      <th>TX_TIME_DAYS</th>\n",
       "      <th>TX_FRAUD</th>\n",
       "      <th>TX_FRAUD_SCENARIO</th>\n",
       "      <th>TX_DURING_WEEKEND</th>\n",
       "      <th>...</th>\n",
       "      <th>CUSTOMER_ID_NB_TX_7DAY_WINDOW</th>\n",
       "      <th>CUSTOMER_ID_AVG_AMOUNT_7DAY_WINDOW</th>\n",
       "      <th>CUSTOMER_ID_NB_TX_30DAY_WINDOW</th>\n",
       "      <th>CUSTOMER_ID_AVG_AMOUNT_30DAY_WINDOW</th>\n",
       "      <th>TERMINAL_ID_NB_TX_1DAY_WINDOW</th>\n",
       "      <th>TERMINAL_ID_RISK_1DAY_WINDOW</th>\n",
       "      <th>TERMINAL_ID_NB_TX_7DAY_WINDOW</th>\n",
       "      <th>TERMINAL_ID_RISK_7DAY_WINDOW</th>\n",
       "      <th>TERMINAL_ID_NB_TX_30DAY_WINDOW</th>\n",
       "      <th>TERMINAL_ID_RISK_30DAY_WINDOW</th>\n",
       "    </tr>\n",
       "  </thead>\n",
       "  <tbody>\n",
       "    <tr>\n",
       "      <th>0</th>\n",
       "      <td>0</td>\n",
       "      <td>2021-04-01 00:00:31</td>\n",
       "      <td>596</td>\n",
       "      <td>3156</td>\n",
       "      <td>57.16</td>\n",
       "      <td>31</td>\n",
       "      <td>0</td>\n",
       "      <td>0</td>\n",
       "      <td>0</td>\n",
       "      <td>0</td>\n",
       "      <td>...</td>\n",
       "      <td>1.0</td>\n",
       "      <td>57.16</td>\n",
       "      <td>1.0</td>\n",
       "      <td>57.16</td>\n",
       "      <td>0.0</td>\n",
       "      <td>0.0</td>\n",
       "      <td>0.0</td>\n",
       "      <td>0.0</td>\n",
       "      <td>0.0</td>\n",
       "      <td>0.0</td>\n",
       "    </tr>\n",
       "    <tr>\n",
       "      <th>1</th>\n",
       "      <td>1</td>\n",
       "      <td>2021-04-01 00:02:10</td>\n",
       "      <td>4961</td>\n",
       "      <td>3412</td>\n",
       "      <td>81.51</td>\n",
       "      <td>130</td>\n",
       "      <td>0</td>\n",
       "      <td>0</td>\n",
       "      <td>0</td>\n",
       "      <td>0</td>\n",
       "      <td>...</td>\n",
       "      <td>1.0</td>\n",
       "      <td>81.51</td>\n",
       "      <td>1.0</td>\n",
       "      <td>81.51</td>\n",
       "      <td>0.0</td>\n",
       "      <td>0.0</td>\n",
       "      <td>0.0</td>\n",
       "      <td>0.0</td>\n",
       "      <td>0.0</td>\n",
       "      <td>0.0</td>\n",
       "    </tr>\n",
       "    <tr>\n",
       "      <th>2</th>\n",
       "      <td>2</td>\n",
       "      <td>2021-04-01 00:07:56</td>\n",
       "      <td>2</td>\n",
       "      <td>1365</td>\n",
       "      <td>146.00</td>\n",
       "      <td>476</td>\n",
       "      <td>0</td>\n",
       "      <td>0</td>\n",
       "      <td>0</td>\n",
       "      <td>0</td>\n",
       "      <td>...</td>\n",
       "      <td>1.0</td>\n",
       "      <td>146.00</td>\n",
       "      <td>1.0</td>\n",
       "      <td>146.00</td>\n",
       "      <td>0.0</td>\n",
       "      <td>0.0</td>\n",
       "      <td>0.0</td>\n",
       "      <td>0.0</td>\n",
       "      <td>0.0</td>\n",
       "      <td>0.0</td>\n",
       "    </tr>\n",
       "    <tr>\n",
       "      <th>3</th>\n",
       "      <td>3</td>\n",
       "      <td>2021-04-01 00:09:29</td>\n",
       "      <td>4128</td>\n",
       "      <td>8737</td>\n",
       "      <td>64.49</td>\n",
       "      <td>569</td>\n",
       "      <td>0</td>\n",
       "      <td>0</td>\n",
       "      <td>0</td>\n",
       "      <td>0</td>\n",
       "      <td>...</td>\n",
       "      <td>1.0</td>\n",
       "      <td>64.49</td>\n",
       "      <td>1.0</td>\n",
       "      <td>64.49</td>\n",
       "      <td>0.0</td>\n",
       "      <td>0.0</td>\n",
       "      <td>0.0</td>\n",
       "      <td>0.0</td>\n",
       "      <td>0.0</td>\n",
       "      <td>0.0</td>\n",
       "    </tr>\n",
       "    <tr>\n",
       "      <th>4</th>\n",
       "      <td>4</td>\n",
       "      <td>2021-04-01 00:10:34</td>\n",
       "      <td>927</td>\n",
       "      <td>9906</td>\n",
       "      <td>50.99</td>\n",
       "      <td>634</td>\n",
       "      <td>0</td>\n",
       "      <td>0</td>\n",
       "      <td>0</td>\n",
       "      <td>0</td>\n",
       "      <td>...</td>\n",
       "      <td>1.0</td>\n",
       "      <td>50.99</td>\n",
       "      <td>1.0</td>\n",
       "      <td>50.99</td>\n",
       "      <td>0.0</td>\n",
       "      <td>0.0</td>\n",
       "      <td>0.0</td>\n",
       "      <td>0.0</td>\n",
       "      <td>0.0</td>\n",
       "      <td>0.0</td>\n",
       "    </tr>\n",
       "  </tbody>\n",
       "</table>\n",
       "<p>5 rows × 23 columns</p>\n",
       "</div>"
      ],
      "text/plain": [
       "   TRANSACTION_ID         TX_DATETIME CUSTOMER_ID TERMINAL_ID  TX_AMOUNT   \n",
       "0               0 2021-04-01 00:00:31         596        3156      57.16  \\\n",
       "1               1 2021-04-01 00:02:10        4961        3412      81.51   \n",
       "2               2 2021-04-01 00:07:56           2        1365     146.00   \n",
       "3               3 2021-04-01 00:09:29        4128        8737      64.49   \n",
       "4               4 2021-04-01 00:10:34         927        9906      50.99   \n",
       "\n",
       "  TX_TIME_SECONDS TX_TIME_DAYS  TX_FRAUD  TX_FRAUD_SCENARIO   \n",
       "0              31            0         0                  0  \\\n",
       "1             130            0         0                  0   \n",
       "2             476            0         0                  0   \n",
       "3             569            0         0                  0   \n",
       "4             634            0         0                  0   \n",
       "\n",
       "   TX_DURING_WEEKEND  ...  CUSTOMER_ID_NB_TX_7DAY_WINDOW   \n",
       "0                  0  ...                            1.0  \\\n",
       "1                  0  ...                            1.0   \n",
       "2                  0  ...                            1.0   \n",
       "3                  0  ...                            1.0   \n",
       "4                  0  ...                            1.0   \n",
       "\n",
       "   CUSTOMER_ID_AVG_AMOUNT_7DAY_WINDOW  CUSTOMER_ID_NB_TX_30DAY_WINDOW   \n",
       "0                               57.16                             1.0  \\\n",
       "1                               81.51                             1.0   \n",
       "2                              146.00                             1.0   \n",
       "3                               64.49                             1.0   \n",
       "4                               50.99                             1.0   \n",
       "\n",
       "   CUSTOMER_ID_AVG_AMOUNT_30DAY_WINDOW  TERMINAL_ID_NB_TX_1DAY_WINDOW   \n",
       "0                                57.16                            0.0  \\\n",
       "1                                81.51                            0.0   \n",
       "2                               146.00                            0.0   \n",
       "3                                64.49                            0.0   \n",
       "4                                50.99                            0.0   \n",
       "\n",
       "   TERMINAL_ID_RISK_1DAY_WINDOW  TERMINAL_ID_NB_TX_7DAY_WINDOW   \n",
       "0                           0.0                            0.0  \\\n",
       "1                           0.0                            0.0   \n",
       "2                           0.0                            0.0   \n",
       "3                           0.0                            0.0   \n",
       "4                           0.0                            0.0   \n",
       "\n",
       "   TERMINAL_ID_RISK_7DAY_WINDOW  TERMINAL_ID_NB_TX_30DAY_WINDOW   \n",
       "0                           0.0                             0.0  \\\n",
       "1                           0.0                             0.0   \n",
       "2                           0.0                             0.0   \n",
       "3                           0.0                             0.0   \n",
       "4                           0.0                             0.0   \n",
       "\n",
       "   TERMINAL_ID_RISK_30DAY_WINDOW  \n",
       "0                            0.0  \n",
       "1                            0.0  \n",
       "2                            0.0  \n",
       "3                            0.0  \n",
       "4                            0.0  \n",
       "\n",
       "[5 rows x 23 columns]"
      ]
     },
     "execution_count": 28,
     "metadata": {},
     "output_type": "execute_result"
    }
   ],
   "source": [
    "transactions_df.head()"
   ]
  },
  {
   "cell_type": "markdown",
   "id": "904c6075-a25c-473c-9c62-a804f246c275",
   "metadata": {},
   "source": [
    "# 4. Model Training"
   ]
  },
  {
   "cell_type": "markdown",
   "id": "bb6d5338-b76e-4934-836a-eaff4eb4ad42",
   "metadata": {},
   "source": [
    "## 4.1 Split data into train and test set"
   ]
  },
  {
   "cell_type": "code",
   "execution_count": 29,
   "id": "4db59f3a-30e5-4676-b3ab-939ac4cfec1e",
   "metadata": {},
   "outputs": [],
   "source": [
    "def get_train_test_set(transactions_df,\n",
    "                       start_date_training,\n",
    "                       delta_train=7,delta_delay=7,delta_test=7):\n",
    "    \n",
    "    # Get the training set data\n",
    "    train_df = transactions_df[(transactions_df.TX_DATETIME>=start_date_training) &\n",
    "                               (transactions_df.TX_DATETIME<start_date_training+datetime.timedelta(days=delta_train))]\n",
    "    \n",
    "    # Get the test set data\n",
    "    test_df = []\n",
    "    \n",
    "    # Note: Cards known to be compromised after the delay period are removed from the test set\n",
    "    # That is, for each test day, all frauds known at (test_day-delay_period) are removed\n",
    "    \n",
    "    # First, get known defrauded customers from the training set\n",
    "    known_defrauded_customers = set(train_df[train_df.TX_FRAUD==1].CUSTOMER_ID)\n",
    "    \n",
    "    # Get the relative starting day of training set (easier than TX_DATETIME to collect test data)\n",
    "    start_tx_time_days_training = train_df.TX_TIME_DAYS.min()\n",
    "    \n",
    "    # Then, for each day of the test set\n",
    "    for day in range(delta_test):\n",
    "    \n",
    "        # Get test data for that day\n",
    "        test_df_day = transactions_df[transactions_df.TX_TIME_DAYS==start_tx_time_days_training+\n",
    "                                                                    delta_train+delta_delay+\n",
    "                                                                    day]\n",
    "        \n",
    "        # Compromised cards from that test day, minus the delay period, are added to the pool of known defrauded customers\n",
    "        test_df_day_delay_period = transactions_df[transactions_df.TX_TIME_DAYS==start_tx_time_days_training+\n",
    "                                                                                delta_train+\n",
    "                                                                                day-1]\n",
    "        \n",
    "        new_defrauded_customers = set(test_df_day_delay_period[test_df_day_delay_period.TX_FRAUD==1].CUSTOMER_ID)\n",
    "        known_defrauded_customers = known_defrauded_customers.union(new_defrauded_customers)\n",
    "        \n",
    "        test_df_day = test_df_day[~test_df_day.CUSTOMER_ID.isin(known_defrauded_customers)]\n",
    "        \n",
    "        test_df.append(test_df_day)\n",
    "        \n",
    "    test_df = pd.concat(test_df)\n",
    "    \n",
    "    # Sort data sets by ascending order of transaction ID\n",
    "    train_df=train_df.sort_values('TRANSACTION_ID')\n",
    "    test_df=test_df.sort_values('TRANSACTION_ID')\n",
    "    \n",
    "    return (train_df, test_df)"
   ]
  },
  {
   "cell_type": "markdown",
   "id": "faf3e4b5-480c-45a6-93ea-048b66a7842b",
   "metadata": {},
   "source": [
    "- To reduce computation load, we can use a sample of the data. For example, we could use 14 days transactions from 2021-06-14 to the 2021-06-27 for the training set, and from the 2021-07-05 to the 2021-07-11 (7 days) for the test set. The test data is taken just 7 days after the training data to account for the delay period."
   ]
  },
  {
   "cell_type": "code",
   "execution_count": 30,
   "id": "e4042e41-56f8-435c-9f23-af43ecc950ef",
   "metadata": {},
   "outputs": [],
   "source": [
    "# Define the start date for train data\n",
    "train_start_date = datetime.datetime.strptime(\"2021-06-14\", \"%Y-%m-%d\")\n",
    "filtered_train, filtered_test=get_train_test_set(transactions_df,train_start_date,\n",
    "                                       delta_train=14,delta_delay=7,delta_test=7)"
   ]
  },
  {
   "cell_type": "code",
   "execution_count": 31,
   "id": "bf740fe1-6293-42ff-9534-48e467b3356f",
   "metadata": {},
   "outputs": [
    {
     "data": {
      "text/plain": [
       "(134141, 23)"
      ]
     },
     "execution_count": 31,
     "metadata": {},
     "output_type": "execute_result"
    }
   ],
   "source": [
    "filtered_train.shape"
   ]
  },
  {
   "cell_type": "code",
   "execution_count": 32,
   "id": "cbe81ae5-0569-4df9-bbe0-eed4f8af95da",
   "metadata": {},
   "outputs": [
    {
     "data": {
      "text/plain": [
       "(1196, 23)"
      ]
     },
     "execution_count": 32,
     "metadata": {},
     "output_type": "execute_result"
    }
   ],
   "source": [
    "filtered_train[filtered_train.TX_FRAUD==1].shape"
   ]
  },
  {
   "cell_type": "code",
   "execution_count": 33,
   "id": "78a81021-6b8d-4151-8424-ca0012d5e5ca",
   "metadata": {},
   "outputs": [
    {
     "data": {
      "text/plain": [
       "(53062, 23)"
      ]
     },
     "execution_count": 33,
     "metadata": {},
     "output_type": "execute_result"
    }
   ],
   "source": [
    "filtered_test.shape"
   ]
  },
  {
   "cell_type": "code",
   "execution_count": 34,
   "id": "8e684d7e-d6e2-4b3b-89f9-b55d44756601",
   "metadata": {},
   "outputs": [
    {
     "data": {
      "text/plain": [
       "(358, 23)"
      ]
     },
     "execution_count": 34,
     "metadata": {},
     "output_type": "execute_result"
    }
   ],
   "source": [
    "filtered_test[filtered_test.TX_FRAUD==1].shape"
   ]
  },
  {
   "cell_type": "code",
   "execution_count": 35,
   "id": "d7d04da3-e0f4-4c87-b83e-d7aa8604094e",
   "metadata": {},
   "outputs": [
    {
     "data": {
      "text/plain": [
       "0.008830828160281395"
      ]
     },
     "execution_count": 35,
     "metadata": {},
     "output_type": "execute_result"
    }
   ],
   "source": [
    "1185/134189"
   ]
  },
  {
   "cell_type": "markdown",
   "id": "a4fb95a9-f775-462a-969c-9d20bd445ce2",
   "metadata": {},
   "source": [
    "- The train set contains 134189 transactions, among which 1185 are fraudulent. That is about 0.88% fraudulent transactions. Thus, the class balance for non-fraudulent and fraudulent transactions is preserved.\n",
    "- Next, we define the output and input features for our model."
   ]
  },
  {
   "cell_type": "code",
   "execution_count": 36,
   "id": "c5207cf8-3fd0-4638-a13b-0ef5d571a5e7",
   "metadata": {},
   "outputs": [],
   "source": [
    "output_feature=\"TX_FRAUD\"\n",
    "\n",
    "input_features=['TX_AMOUNT','TX_DURING_WEEKEND', 'TX_DURING_NIGHT', 'CUSTOMER_ID_NB_TX_1DAY_WINDOW',\n",
    "       'CUSTOMER_ID_AVG_AMOUNT_1DAY_WINDOW', 'CUSTOMER_ID_NB_TX_7DAY_WINDOW',\n",
    "       'CUSTOMER_ID_AVG_AMOUNT_7DAY_WINDOW', 'CUSTOMER_ID_NB_TX_30DAY_WINDOW',\n",
    "       'CUSTOMER_ID_AVG_AMOUNT_30DAY_WINDOW', 'TERMINAL_ID_NB_TX_1DAY_WINDOW',\n",
    "       'TERMINAL_ID_RISK_1DAY_WINDOW', 'TERMINAL_ID_NB_TX_7DAY_WINDOW',\n",
    "       'TERMINAL_ID_RISK_7DAY_WINDOW', 'TERMINAL_ID_NB_TX_30DAY_WINDOW',\n",
    "       'TERMINAL_ID_RISK_30DAY_WINDOW']"
   ]
  },
  {
   "cell_type": "code",
   "execution_count": 37,
   "id": "0d75ba2c-8c06-4c99-9457-28b70fe04f41",
   "metadata": {},
   "outputs": [],
   "source": [
    "X_train = filtered_train[input_features]\n",
    "y_train = filtered_train[output_feature]\n",
    "\n",
    "X_test = filtered_test[input_features]\n",
    "y_test = filtered_test[output_feature]"
   ]
  },
  {
   "cell_type": "markdown",
   "id": "1d6ce4f8-ba8b-4143-b925-a702b1a010d1",
   "metadata": {},
   "source": [
    "## 4.2 Train Baseline Model using Unsupervised pyOD anomaly detectors"
   ]
  },
  {
   "cell_type": "code",
   "execution_count": 38,
   "id": "45129c63-1b44-4f93-810e-6ebe0ff573f0",
   "metadata": {},
   "outputs": [],
   "source": [
    "from sklearn.preprocessing import RobustScaler, StandardScaler, MinMaxScaler\n",
    "from sklearn.metrics import roc_auc_score, accuracy_score\n",
    "from sklearn.pipeline import Pipeline\n",
    "\n",
    "def train_model(model,train,test):\n",
    "    \n",
    "    # Create a pipeline with scaling and model instance\n",
    "    pipeline = Pipeline([\n",
    "        ('scaler', RobustScaler()),\n",
    "        ('model', model)\n",
    "    ])\n",
    "        \n",
    "    \n",
    "    # Train model\n",
    "    start_time=time.time()\n",
    "    pipeline.fit(train) # -----> unsupervised training model\n",
    "    training_execution_time= round(time.time()-start_time,4)\n",
    "\n",
    "    # Predict anomalies on the test set\n",
    "    start_time=time.time()\n",
    "    predictions_test= pipeline.predict_proba(test, method = 'linear')[:,1] # probability of outlier [:,1] & normal [:,0]\n",
    "    prediction_execution_time= round(time.time()-start_time,4)\n",
    "\n",
    "    predictions_train = pipeline.predict_proba(train, method = 'linear')[:,1]\n",
    "    \n",
    "\n",
    "    # store results \n",
    "    model_and_predictions_dictionary = {'model': pipeline,\n",
    "                                    'predictions_test': predictions_test,\n",
    "                                    'predictions_train': predictions_train,\n",
    "                                    'training_execution_time': training_execution_time,\n",
    "                                    'prediction_execution_time': prediction_execution_time\n",
    "                                   }\n",
    "    print(f\"Model Training... Done!\")\n",
    "    return model_and_predictions_dictionary \n",
    "    "
   ]
  },
  {
   "cell_type": "code",
   "execution_count": 39,
   "id": "41706ab2-f5ce-4cd4-a987-5c1ff3fe5d2f",
   "metadata": {},
   "outputs": [
    {
     "name": "stdout",
     "output_type": "stream",
     "text": [
      "Model Training... Done!\n"
     ]
    }
   ],
   "source": [
    "# train an Isolation Forest classifier\n",
    "model = IForest()\n",
    "model_and_predictions_dictionary = train_model(model, X_train.values, X_test.values)"
   ]
  },
  {
   "cell_type": "markdown",
   "id": "3ec52980-f841-4931-8bd3-5f5d04a0dc94",
   "metadata": {},
   "source": [
    "- Let's take a look at the predictions for the first five transactions of the test data"
   ]
  },
  {
   "cell_type": "code",
   "execution_count": 40,
   "id": "9330b0db-9e55-4753-8a07-a1f08864f2c9",
   "metadata": {},
   "outputs": [
    {
     "data": {
      "text/html": [
       "<div>\n",
       "<style scoped>\n",
       "    .dataframe tbody tr th:only-of-type {\n",
       "        vertical-align: middle;\n",
       "    }\n",
       "\n",
       "    .dataframe tbody tr th {\n",
       "        vertical-align: top;\n",
       "    }\n",
       "\n",
       "    .dataframe thead th {\n",
       "        text-align: right;\n",
       "    }\n",
       "</style>\n",
       "<table border=\"1\" class=\"dataframe\">\n",
       "  <thead>\n",
       "    <tr style=\"text-align: right;\">\n",
       "      <th></th>\n",
       "      <th>TRANSACTION_ID</th>\n",
       "      <th>TX_DATETIME</th>\n",
       "      <th>CUSTOMER_ID</th>\n",
       "      <th>TERMINAL_ID</th>\n",
       "      <th>TX_AMOUNT</th>\n",
       "      <th>TX_TIME_SECONDS</th>\n",
       "      <th>TX_TIME_DAYS</th>\n",
       "      <th>TX_FRAUD</th>\n",
       "      <th>TX_FRAUD_SCENARIO</th>\n",
       "      <th>TX_DURING_WEEKEND</th>\n",
       "      <th>...</th>\n",
       "      <th>CUSTOMER_ID_AVG_AMOUNT_7DAY_WINDOW</th>\n",
       "      <th>CUSTOMER_ID_NB_TX_30DAY_WINDOW</th>\n",
       "      <th>CUSTOMER_ID_AVG_AMOUNT_30DAY_WINDOW</th>\n",
       "      <th>TERMINAL_ID_NB_TX_1DAY_WINDOW</th>\n",
       "      <th>TERMINAL_ID_RISK_1DAY_WINDOW</th>\n",
       "      <th>TERMINAL_ID_NB_TX_7DAY_WINDOW</th>\n",
       "      <th>TERMINAL_ID_RISK_7DAY_WINDOW</th>\n",
       "      <th>TERMINAL_ID_NB_TX_30DAY_WINDOW</th>\n",
       "      <th>TERMINAL_ID_RISK_30DAY_WINDOW</th>\n",
       "      <th>TX_FRAUD_PREDICTED</th>\n",
       "    </tr>\n",
       "  </thead>\n",
       "  <tbody>\n",
       "    <tr>\n",
       "      <th>911319</th>\n",
       "      <td>911319</td>\n",
       "      <td>2021-07-05 00:01:07</td>\n",
       "      <td>2965</td>\n",
       "      <td>4210</td>\n",
       "      <td>10.29</td>\n",
       "      <td>8208067</td>\n",
       "      <td>95</td>\n",
       "      <td>0</td>\n",
       "      <td>0</td>\n",
       "      <td>0</td>\n",
       "      <td>...</td>\n",
       "      <td>57.173750</td>\n",
       "      <td>91.0</td>\n",
       "      <td>57.401538</td>\n",
       "      <td>1.0</td>\n",
       "      <td>0.0</td>\n",
       "      <td>7.0</td>\n",
       "      <td>0.0</td>\n",
       "      <td>32.0</td>\n",
       "      <td>0.0</td>\n",
       "      <td>0.210105</td>\n",
       "    </tr>\n",
       "    <tr>\n",
       "      <th>911320</th>\n",
       "      <td>911320</td>\n",
       "      <td>2021-07-05 00:01:14</td>\n",
       "      <td>738</td>\n",
       "      <td>4762</td>\n",
       "      <td>6.57</td>\n",
       "      <td>8208074</td>\n",
       "      <td>95</td>\n",
       "      <td>0</td>\n",
       "      <td>0</td>\n",
       "      <td>0</td>\n",
       "      <td>...</td>\n",
       "      <td>9.228824</td>\n",
       "      <td>65.0</td>\n",
       "      <td>9.412769</td>\n",
       "      <td>1.0</td>\n",
       "      <td>0.0</td>\n",
       "      <td>7.0</td>\n",
       "      <td>0.0</td>\n",
       "      <td>26.0</td>\n",
       "      <td>0.0</td>\n",
       "      <td>0.295509</td>\n",
       "    </tr>\n",
       "    <tr>\n",
       "      <th>911322</th>\n",
       "      <td>911322</td>\n",
       "      <td>2021-07-05 00:02:20</td>\n",
       "      <td>147</td>\n",
       "      <td>6044</td>\n",
       "      <td>79.77</td>\n",
       "      <td>8208140</td>\n",
       "      <td>95</td>\n",
       "      <td>0</td>\n",
       "      <td>0</td>\n",
       "      <td>0</td>\n",
       "      <td>...</td>\n",
       "      <td>77.242632</td>\n",
       "      <td>92.0</td>\n",
       "      <td>69.383696</td>\n",
       "      <td>1.0</td>\n",
       "      <td>0.0</td>\n",
       "      <td>4.0</td>\n",
       "      <td>0.0</td>\n",
       "      <td>33.0</td>\n",
       "      <td>0.0</td>\n",
       "      <td>0.243443</td>\n",
       "    </tr>\n",
       "    <tr>\n",
       "      <th>911323</th>\n",
       "      <td>911323</td>\n",
       "      <td>2021-07-05 00:03:22</td>\n",
       "      <td>4510</td>\n",
       "      <td>1692</td>\n",
       "      <td>85.68</td>\n",
       "      <td>8208202</td>\n",
       "      <td>95</td>\n",
       "      <td>0</td>\n",
       "      <td>0</td>\n",
       "      <td>0</td>\n",
       "      <td>...</td>\n",
       "      <td>50.376316</td>\n",
       "      <td>63.0</td>\n",
       "      <td>55.936032</td>\n",
       "      <td>0.0</td>\n",
       "      <td>0.0</td>\n",
       "      <td>5.0</td>\n",
       "      <td>0.0</td>\n",
       "      <td>21.0</td>\n",
       "      <td>0.0</td>\n",
       "      <td>0.294186</td>\n",
       "    </tr>\n",
       "    <tr>\n",
       "      <th>911324</th>\n",
       "      <td>911324</td>\n",
       "      <td>2021-07-05 00:03:22</td>\n",
       "      <td>1954</td>\n",
       "      <td>8176</td>\n",
       "      <td>13.13</td>\n",
       "      <td>8208202</td>\n",
       "      <td>95</td>\n",
       "      <td>0</td>\n",
       "      <td>0</td>\n",
       "      <td>0</td>\n",
       "      <td>...</td>\n",
       "      <td>20.190000</td>\n",
       "      <td>61.0</td>\n",
       "      <td>24.028033</td>\n",
       "      <td>0.0</td>\n",
       "      <td>0.0</td>\n",
       "      <td>5.0</td>\n",
       "      <td>0.0</td>\n",
       "      <td>35.0</td>\n",
       "      <td>0.0</td>\n",
       "      <td>0.268726</td>\n",
       "    </tr>\n",
       "  </tbody>\n",
       "</table>\n",
       "<p>5 rows × 24 columns</p>\n",
       "</div>"
      ],
      "text/plain": [
       "        TRANSACTION_ID         TX_DATETIME CUSTOMER_ID TERMINAL_ID  TX_AMOUNT   \n",
       "911319          911319 2021-07-05 00:01:07        2965        4210      10.29  \\\n",
       "911320          911320 2021-07-05 00:01:14         738        4762       6.57   \n",
       "911322          911322 2021-07-05 00:02:20         147        6044      79.77   \n",
       "911323          911323 2021-07-05 00:03:22        4510        1692      85.68   \n",
       "911324          911324 2021-07-05 00:03:22        1954        8176      13.13   \n",
       "\n",
       "       TX_TIME_SECONDS TX_TIME_DAYS  TX_FRAUD  TX_FRAUD_SCENARIO   \n",
       "911319         8208067           95         0                  0  \\\n",
       "911320         8208074           95         0                  0   \n",
       "911322         8208140           95         0                  0   \n",
       "911323         8208202           95         0                  0   \n",
       "911324         8208202           95         0                  0   \n",
       "\n",
       "        TX_DURING_WEEKEND  ...  CUSTOMER_ID_AVG_AMOUNT_7DAY_WINDOW   \n",
       "911319                  0  ...                           57.173750  \\\n",
       "911320                  0  ...                            9.228824   \n",
       "911322                  0  ...                           77.242632   \n",
       "911323                  0  ...                           50.376316   \n",
       "911324                  0  ...                           20.190000   \n",
       "\n",
       "        CUSTOMER_ID_NB_TX_30DAY_WINDOW  CUSTOMER_ID_AVG_AMOUNT_30DAY_WINDOW   \n",
       "911319                            91.0                            57.401538  \\\n",
       "911320                            65.0                             9.412769   \n",
       "911322                            92.0                            69.383696   \n",
       "911323                            63.0                            55.936032   \n",
       "911324                            61.0                            24.028033   \n",
       "\n",
       "        TERMINAL_ID_NB_TX_1DAY_WINDOW  TERMINAL_ID_RISK_1DAY_WINDOW   \n",
       "911319                            1.0                           0.0  \\\n",
       "911320                            1.0                           0.0   \n",
       "911322                            1.0                           0.0   \n",
       "911323                            0.0                           0.0   \n",
       "911324                            0.0                           0.0   \n",
       "\n",
       "        TERMINAL_ID_NB_TX_7DAY_WINDOW  TERMINAL_ID_RISK_7DAY_WINDOW   \n",
       "911319                            7.0                           0.0  \\\n",
       "911320                            7.0                           0.0   \n",
       "911322                            4.0                           0.0   \n",
       "911323                            5.0                           0.0   \n",
       "911324                            5.0                           0.0   \n",
       "\n",
       "        TERMINAL_ID_NB_TX_30DAY_WINDOW  TERMINAL_ID_RISK_30DAY_WINDOW   \n",
       "911319                            32.0                            0.0  \\\n",
       "911320                            26.0                            0.0   \n",
       "911322                            33.0                            0.0   \n",
       "911323                            21.0                            0.0   \n",
       "911324                            35.0                            0.0   \n",
       "\n",
       "        TX_FRAUD_PREDICTED  \n",
       "911319            0.210105  \n",
       "911320            0.295509  \n",
       "911322            0.243443  \n",
       "911323            0.294186  \n",
       "911324            0.268726  \n",
       "\n",
       "[5 rows x 24 columns]"
      ]
     },
     "execution_count": 40,
     "metadata": {},
     "output_type": "execute_result"
    }
   ],
   "source": [
    "filtered_test['TX_FRAUD_PREDICTED']=model_and_predictions_dictionary['predictions_test']\n",
    "filtered_test.head()"
   ]
  },
  {
   "cell_type": "markdown",
   "id": "d5578ea2-03f1-4ff1-8295-04b4e84548c1",
   "metadata": {},
   "source": [
    "## 4.3 Model Evaluation\n",
    "\n",
    "- The Card Precision top is the most pragmatic and interpretable measure. It takes into account the fact that investigators can only check a maximum of potentially fraudulent cards per day. It is computed by ranking, for every day in the test set, the most fraudulent transactions, and selecting the cards whose transactions have the highest fraud probabilities. The precision (proportion of actual compromised cards out of predicted compromised cards) is then computed for each day.The Card Precision top is the average of these daily precisions. The number \n",
    " will be set to (that is, it is assumed that only 100 cards can be checked every day).\n",
    "\n",
    "- The Average Precision is a proxy for the Card Precision top that integrates precisions for all possible values. \n",
    "\n",
    "- The AUC ROC is an alternative measure to the Average Precision, which gives more importance to scores obtained with higher values. It is less relevant in practice since the performances that matter most are those for low values. We however also report it since it is the most widely used performance metric for fraud detection in the literature. "
   ]
  },
  {
   "cell_type": "code",
   "execution_count": 41,
   "id": "cad11122-b02f-4249-87e5-570b132aeaa4",
   "metadata": {},
   "outputs": [],
   "source": [
    "from sklearn.metrics import roc_auc_score, average_precision_score"
   ]
  },
  {
   "cell_type": "code",
   "execution_count": 42,
   "id": "c369adb7-37a9-4b70-97b3-6382d35bcf08",
   "metadata": {},
   "outputs": [],
   "source": [
    "def card_precision_top_k_day(df_day,top_k):\n",
    "    \n",
    "    # This takes the max of the predictions AND the max of label TX_FRAUD for each CUSTOMER_ID, \n",
    "    # and sorts by decreasing order of fraudulent prediction\n",
    "    df_day = df_day.groupby('CUSTOMER_ID').max().sort_values(by=\"predictions\", ascending=False).reset_index(drop=False)\n",
    "            \n",
    "    # Get the top k most suspicious cards\n",
    "    df_day_top_k=df_day.head(top_k)\n",
    "    list_detected_compromised_cards=list(df_day_top_k[df_day_top_k.TX_FRAUD==1].CUSTOMER_ID)\n",
    "    \n",
    "    # Compute precision top k\n",
    "    card_precision_top_k = len(list_detected_compromised_cards) / top_k\n",
    "    \n",
    "    return list_detected_compromised_cards, card_precision_top_k\n",
    "\n",
    "def card_precision_top_k(predictions_df, top_k, remove_detected_compromised_cards=True):\n",
    "\n",
    "    # Sort days by increasing order\n",
    "    list_days=list(predictions_df['TX_TIME_DAYS'].unique())\n",
    "    list_days.sort()\n",
    "    \n",
    "    # At first, the list of detected compromised cards is empty\n",
    "    list_detected_compromised_cards = []\n",
    "    \n",
    "    card_precision_top_k_per_day_list = []\n",
    "    nb_compromised_cards_per_day = []\n",
    "    \n",
    "    # For each day, compute precision top k\n",
    "    for day in list_days:\n",
    "        \n",
    "        df_day = predictions_df[predictions_df['TX_TIME_DAYS']==day]\n",
    "        df_day = df_day[['predictions', 'CUSTOMER_ID', 'TX_FRAUD']]\n",
    "        \n",
    "        # Let us remove detected compromised cards from the set of daily transactions\n",
    "        df_day = df_day[df_day.CUSTOMER_ID.isin(list_detected_compromised_cards)==False]\n",
    "        \n",
    "        nb_compromised_cards_per_day.append(len(df_day[df_day.TX_FRAUD==1].CUSTOMER_ID.unique()))\n",
    "        \n",
    "        detected_compromised_cards, card_precision_top_k = card_precision_top_k_day(df_day,top_k)\n",
    "        \n",
    "        card_precision_top_k_per_day_list.append(card_precision_top_k)\n",
    "        \n",
    "        # Let us update the list of detected compromised cards\n",
    "        if remove_detected_compromised_cards:\n",
    "            list_detected_compromised_cards.extend(detected_compromised_cards)\n",
    "        \n",
    "    # Compute the mean\n",
    "    mean_card_precision_top_k = np.array(card_precision_top_k_per_day_list).mean()\n",
    "    \n",
    "    # Returns precision top k per day as a list, and resulting mean\n",
    "    return nb_compromised_cards_per_day,card_precision_top_k_per_day_list,mean_card_precision_top_k\n",
    "\n",
    "def performance_assessment(predictions_df, output_feature='TX_FRAUD', \n",
    "                           prediction_feature='predictions', top_k_list=[100],\n",
    "                           rounded=True):\n",
    "    \n",
    "    AUC_ROC = roc_auc_score(predictions_df[output_feature], predictions_df[prediction_feature])\n",
    "    AP = average_precision_score(predictions_df[output_feature], predictions_df[prediction_feature])\n",
    "    \n",
    "    performances = pd.DataFrame([[AUC_ROC, AP]], \n",
    "                           columns=['AUC ROC','Average precision'])\n",
    "    \n",
    "    for top_k in top_k_list:\n",
    "    \n",
    "        _, _, mean_card_precision_top_k = card_precision_top_k(predictions_df, top_k)\n",
    "        performances['Card Precision@'+str(top_k)]=mean_card_precision_top_k\n",
    "        \n",
    "    if rounded:\n",
    "        performances = performances.round(3)\n",
    "    \n",
    "    return performances"
   ]
  },
  {
   "cell_type": "markdown",
   "id": "d91fea35-29cd-4292-b6c2-a3019d1a3874",
   "metadata": {},
   "source": [
    "Next, we calculate the performance for the IForest in terms of AUC ROC, Average Precision (AP), and Card Precision top 100 (CP@100)."
   ]
  },
  {
   "cell_type": "code",
   "execution_count": 43,
   "id": "f9384729-dc71-4889-a376-a3f87ef87953",
   "metadata": {},
   "outputs": [
    {
     "data": {
      "text/html": [
       "<div>\n",
       "<style scoped>\n",
       "    .dataframe tbody tr th:only-of-type {\n",
       "        vertical-align: middle;\n",
       "    }\n",
       "\n",
       "    .dataframe tbody tr th {\n",
       "        vertical-align: top;\n",
       "    }\n",
       "\n",
       "    .dataframe thead th {\n",
       "        text-align: right;\n",
       "    }\n",
       "</style>\n",
       "<table border=\"1\" class=\"dataframe\">\n",
       "  <thead>\n",
       "    <tr style=\"text-align: right;\">\n",
       "      <th></th>\n",
       "      <th>AUC ROC</th>\n",
       "      <th>Average precision</th>\n",
       "      <th>Card Precision@100</th>\n",
       "    </tr>\n",
       "  </thead>\n",
       "  <tbody>\n",
       "    <tr>\n",
       "      <th>0</th>\n",
       "      <td>0.809</td>\n",
       "      <td>0.218</td>\n",
       "      <td>0.213</td>\n",
       "    </tr>\n",
       "  </tbody>\n",
       "</table>\n",
       "</div>"
      ],
      "text/plain": [
       "   AUC ROC  Average precision  Card Precision@100\n",
       "0    0.809              0.218               0.213"
      ]
     },
     "execution_count": 43,
     "metadata": {},
     "output_type": "execute_result"
    }
   ],
   "source": [
    "predictions_df=filtered_test\n",
    "predictions_df['predictions']=model_and_predictions_dictionary['predictions_test']\n",
    "    \n",
    "performance_assessment(predictions_df, top_k_list=[100])"
   ]
  },
  {
   "cell_type": "markdown",
   "id": "79a86323-a768-43c0-a6d9-f13b50050fe3",
   "metadata": {},
   "source": [
    "Let's take a look at the performance of a random model, that is the probailities of the predictions are set to 0.5"
   ]
  },
  {
   "cell_type": "code",
   "execution_count": 44,
   "id": "f2ccdb33-55ff-48be-8f32-e4bb7c68f1c3",
   "metadata": {},
   "outputs": [
    {
     "data": {
      "text/html": [
       "<div>\n",
       "<style scoped>\n",
       "    .dataframe tbody tr th:only-of-type {\n",
       "        vertical-align: middle;\n",
       "    }\n",
       "\n",
       "    .dataframe tbody tr th {\n",
       "        vertical-align: top;\n",
       "    }\n",
       "\n",
       "    .dataframe thead th {\n",
       "        text-align: right;\n",
       "    }\n",
       "</style>\n",
       "<table border=\"1\" class=\"dataframe\">\n",
       "  <thead>\n",
       "    <tr style=\"text-align: right;\">\n",
       "      <th></th>\n",
       "      <th>AUC ROC</th>\n",
       "      <th>Average precision</th>\n",
       "      <th>Card Precision@100</th>\n",
       "    </tr>\n",
       "  </thead>\n",
       "  <tbody>\n",
       "    <tr>\n",
       "      <th>0</th>\n",
       "      <td>0.5</td>\n",
       "      <td>0.007</td>\n",
       "      <td>0.01</td>\n",
       "    </tr>\n",
       "  </tbody>\n",
       "</table>\n",
       "</div>"
      ],
      "text/plain": [
       "   AUC ROC  Average precision  Card Precision@100\n",
       "0      0.5              0.007                0.01"
      ]
     },
     "execution_count": 44,
     "metadata": {},
     "output_type": "execute_result"
    }
   ],
   "source": [
    "predictions_df['predictions']=0.5\n",
    "    \n",
    "performance_assessment(predictions_df, top_k_list=[100])"
   ]
  },
  {
   "cell_type": "markdown",
   "id": "6d92c0d3-1034-447e-97ab-92700a3c70ce",
   "metadata": {},
   "source": [
    "## 4.3 Performances of other Models"
   ]
  },
  {
   "cell_type": "code",
   "execution_count": 45,
   "id": "55bb4c16-66f6-49ea-99af-c001fc6b582c",
   "metadata": {},
   "outputs": [
    {
     "name": "stdout",
     "output_type": "stream",
     "text": [
      "Model Training... Done!\n",
      "Model Training... Done!\n",
      "Model Training... Done!\n",
      "Model Training... Done!\n"
     ]
    }
   ],
   "source": [
    "# Define pyOD models\n",
    "model_dictionary = {\n",
    "    'KNN':KNN(),\n",
    "    'LOF': LOF(),\n",
    "    'PCA': PCA(),\n",
    "    'IForest': IForest()\n",
    "    }\n",
    "\n",
    "fitted_models_and_predictions_dictionary={}\n",
    "\n",
    "for model_name in model_dictionary:\n",
    "    \n",
    "    model_and_predictions = train_model(model_dictionary[model_name], X_train.values, X_test.values)\n",
    "                                                                                  \n",
    "    fitted_models_and_predictions_dictionary[model_name]=model_and_predictions"
   ]
  },
  {
   "cell_type": "markdown",
   "id": "ac20db75-79e8-47bf-a7de-c2f957b88e15",
   "metadata": {},
   "source": [
    "### 4.3.1 Experiment Tracking using MLFlow\n",
    "\n",
    "- In this section, we will initiate experiement tracking. This allows us manage all the different experiments and their components, such as parameters, metrics, models and other artifacts. Also, experiemnt tracking ebables us to organise all necessary components of a specific experiment, reproduce past results with ease using saved experiments, and log iterative improvements across time, data, ideas, teams etc"
   ]
  },
  {
   "cell_type": "code",
   "execution_count": 46,
   "id": "9f6e7704-6ca5-46f1-947f-6c810f1d66ff",
   "metadata": {
    "tags": []
   },
   "outputs": [],
   "source": [
    "# Define custom directory for storing MLflow results\n",
    "custom_mlflow_dir = \"./mlflow_experiment_logs\"\n",
    "os.makedirs(custom_mlflow_dir, exist_ok=True)\n",
    "\n",
    "# Set MLflow tracking URI to custom directory\n",
    "mlflow.set_tracking_uri(f\"file://{os.path.abspath(custom_mlflow_dir)}\")"
   ]
  },
  {
   "cell_type": "code",
   "execution_count": 47,
   "id": "b7186475-3148-47ab-adcf-9261efaa1bf4",
   "metadata": {},
   "outputs": [],
   "source": [
    "# check if an experiment name exists\n",
    "def experiment_exists(experiment_name):\n",
    "    # Get the list of all experiments\n",
    "    experiments = mlflow.search_experiments()\n",
    "\n",
    "    # Check if the experiment with the given name exists\n",
    "    for exp in experiments:\n",
    "        if exp.name == experiment_name:\n",
    "            return True\n",
    "    return False"
   ]
  },
  {
   "cell_type": "code",
   "execution_count": 48,
   "id": "ade5e74c-3a37-4937-be57-76ed8efceff7",
   "metadata": {},
   "outputs": [],
   "source": [
    "def track_experiment(model_name, model_and_predictions_dictionary, model_metric_df, type_set = \"test\",top_k=100):\n",
    "    # customize run name\n",
    "    run_name= f\"{model_name}_Model_Run_{type_set}\"\n",
    "    \n",
    "    # Start the MLflow experiment with customized run_name\n",
    "    with mlflow.start_run(run_name=run_name):\n",
    "\n",
    "        # Log experiment details\n",
    "        description = f\"{model_name} model with default hyperparameters.\"\n",
    "        mlflow.set_tag(\"description\", description )\n",
    "        mlflow.set_tag(\"developer\", \"X2D\")\n",
    "        mlflow.set_tag(\"algorithm\", model_name)\n",
    "\n",
    "\n",
    "        # Log model\n",
    "        mlflow.sklearn.log_model(model_and_predictions_dictionary[\"model\"], \"model\")\n",
    "\n",
    "        # Log Params\n",
    "        model = model_and_predictions_dictionary[\"model\"]\n",
    "        mlflow.log_params(model.get_params())\n",
    "        \n",
    "        # Log metrics\n",
    "        mlflow.log_metric(type_set+\"_AUC_ROC\", model_metric_df[\"AUC ROC\"].values[0])\n",
    "        mlflow.log_metric(type_set+\"_Average_precision\", model_metric_df[\"Average precision\"].values[0])\n",
    "        mlflow.log_metric(type_set+'_Card Precision_'+str(top_k), model_metric_df['Card Precision@'+str(top_k)].values[0])\n",
    "        \n",
    "\n",
    "        # Serialize the model_and_predictions_dictionary using pickle\n",
    "        #dict_path = \"model_and_predictions_dictionary_\"+model_name+\".pkl\"\n",
    "        #with open(dict_path, 'wb') as f:\n",
    "        #    pickle.dump(model_and_predictions_dictionary, f)\n",
    "\n",
    "        # log model artifacts --> model_and_predictions_dictionary\n",
    "        #mlflow.log_artifact(dict_path)\n"
   ]
  },
  {
   "cell_type": "markdown",
   "id": "8f6a8cb9-249c-4d79-8c0e-aadd1e4a2c30",
   "metadata": {},
   "source": [
    "### 4.3.2  Assess the performances of the models using train and test data"
   ]
  },
  {
   "cell_type": "code",
   "execution_count": 49,
   "id": "404de670-bd87-4e39-a2cd-4337ef87a78e",
   "metadata": {},
   "outputs": [],
   "source": [
    "def performance_assessment_model_collection(fitted_models_and_predictions_dictionary, \n",
    "                                            transactions_df, \n",
    "                                            type_set='test',\n",
    "                                            top_k_list=[100]):\n",
    "\n",
    "    performances=pd.DataFrame() \n",
    "    \n",
    "    for classifier_name, model_and_predictions in fitted_models_and_predictions_dictionary.items():\n",
    "    \n",
    "        predictions_df=transactions_df\n",
    "            \n",
    "        predictions_df['predictions']=model_and_predictions['predictions_'+type_set]\n",
    "        \n",
    "        performances_model=performance_assessment(predictions_df, output_feature='TX_FRAUD', \n",
    "                                                   prediction_feature='predictions', top_k_list=top_k_list)\n",
    "        performances_model.index=[classifier_name]\n",
    "        \n",
    "        # log each model experiment in MLFlow using test data\n",
    "        if type_set == 'test':          \n",
    "            track_experiment(classifier_name, model_and_predictions, performances_model, type_set = type_set)\n",
    "        \n",
    "        performances=performances._append(performances_model)\n",
    "        \n",
    "    return performances"
   ]
  },
  {
   "cell_type": "code",
   "execution_count": 50,
   "id": "3340bd09-8ace-4e8f-8d95-0e7c735d55a8",
   "metadata": {},
   "outputs": [
    {
     "name": "stderr",
     "output_type": "stream",
     "text": [
      "2024/08/16 04:25:03 INFO mlflow.tracking.fluent: Experiment with name 'Credit_Card_Fraud_Detection_Experiment' does not exist. Creating a new experiment.\n"
     ]
    }
   ],
   "source": [
    "# Set the experiment name to log performance assessment of the models\n",
    "experiment_name = \"Credit_Card_Fraud_Detection_Experiment\"\n",
    "\n",
    "# Set the created experiment\n",
    "if ~experiment_exists(experiment_name):\n",
    "    mlflow.set_experiment(experiment_name)\n"
   ]
  },
  {
   "cell_type": "code",
   "execution_count": 1,
   "id": "d75054e9-16f8-47a7-8cb6-26b0d55f49fd",
   "metadata": {
    "tags": []
   },
   "outputs": [],
   "source": [
    "# performances on test set\n",
    "df_performances=performance_assessment_model_collection(fitted_models_and_predictions_dictionary, filtered_test, \n",
    "                                                        type_set='test', \n",
    "                                                        top_k_list=[100])\n",
    "df_performances"
   ]
  },
  {
   "cell_type": "code",
   "execution_count": 52,
   "id": "8aa67811-dc14-4843-bec7-cc863e405c4f",
   "metadata": {},
   "outputs": [
    {
     "data": {
      "text/html": [
       "<div>\n",
       "<style scoped>\n",
       "    .dataframe tbody tr th:only-of-type {\n",
       "        vertical-align: middle;\n",
       "    }\n",
       "\n",
       "    .dataframe tbody tr th {\n",
       "        vertical-align: top;\n",
       "    }\n",
       "\n",
       "    .dataframe thead th {\n",
       "        text-align: right;\n",
       "    }\n",
       "</style>\n",
       "<table border=\"1\" class=\"dataframe\">\n",
       "  <thead>\n",
       "    <tr style=\"text-align: right;\">\n",
       "      <th></th>\n",
       "      <th>AUC ROC</th>\n",
       "      <th>Average precision</th>\n",
       "      <th>Card Precision@100</th>\n",
       "    </tr>\n",
       "  </thead>\n",
       "  <tbody>\n",
       "    <tr>\n",
       "      <th>KNN</th>\n",
       "      <td>0.873</td>\n",
       "      <td>0.266</td>\n",
       "      <td>0.239</td>\n",
       "    </tr>\n",
       "    <tr>\n",
       "      <th>LOF</th>\n",
       "      <td>0.803</td>\n",
       "      <td>0.177</td>\n",
       "      <td>0.241</td>\n",
       "    </tr>\n",
       "    <tr>\n",
       "      <th>PCA</th>\n",
       "      <td>0.855</td>\n",
       "      <td>0.333</td>\n",
       "      <td>0.357</td>\n",
       "    </tr>\n",
       "    <tr>\n",
       "      <th>IForest</th>\n",
       "      <td>0.855</td>\n",
       "      <td>0.334</td>\n",
       "      <td>0.346</td>\n",
       "    </tr>\n",
       "  </tbody>\n",
       "</table>\n",
       "</div>"
      ],
      "text/plain": [
       "         AUC ROC  Average precision  Card Precision@100\n",
       "KNN        0.873              0.266               0.239\n",
       "LOF        0.803              0.177               0.241\n",
       "PCA        0.855              0.333               0.357\n",
       "IForest    0.855              0.334               0.346"
      ]
     },
     "execution_count": 52,
     "metadata": {},
     "output_type": "execute_result"
    }
   ],
   "source": [
    "# performances on train set\n",
    "df_performances=performance_assessment_model_collection(fitted_models_and_predictions_dictionary, filtered_train, \n",
    "                                                        type_set='train', \n",
    "                                                        top_k_list=[100])\n",
    "df_performances"
   ]
  },
  {
   "cell_type": "markdown",
   "id": "20792330-2744-45ce-bd63-2643e3864ed7",
   "metadata": {},
   "source": [
    "- View the logged experiments on MLFlow UI"
   ]
  },
  {
   "cell_type": "code",
   "execution_count": null,
   "id": "5744f101-09c1-4c71-82d6-cc7595520661",
   "metadata": {
    "tags": []
   },
   "outputs": [],
   "source": [
    "mlflow.get_tracking_uri()"
   ]
  },
  {
   "cell_type": "code",
   "execution_count": 54,
   "id": "6de11d2e-7f5b-4250-af29-75e31e1dd117",
   "metadata": {},
   "outputs": [],
   "source": [
    "## view MLflow Dashboard\n",
    "#! mlflow ui --backend-store-uri {your_mlflow.get_tracking_uri()_output}"
   ]
  },
  {
   "cell_type": "markdown",
   "id": "cec3f882-9d9f-4af4-ac6a-be8cbb97d3b4",
   "metadata": {},
   "source": [
    "- Assess the execution times"
   ]
  },
  {
   "cell_type": "code",
   "execution_count": 55,
   "id": "5b4e198b-cd99-43b4-a171-cd0ba6c5635f",
   "metadata": {},
   "outputs": [],
   "source": [
    "def execution_times_model_collection(fitted_models_and_predictions_dictionary):\n",
    "    execution_times=pd.DataFrame() \n",
    "    \n",
    "    for classifier_name, model_and_predictions in fitted_models_and_predictions_dictionary.items():\n",
    "    \n",
    "        execution_times_model=pd.DataFrame() \n",
    "        execution_times_model['Training execution time']=[model_and_predictions['training_execution_time']]\n",
    "        execution_times_model['Prediction execution time']=[model_and_predictions['prediction_execution_time']]\n",
    "        execution_times_model.index=[classifier_name]\n",
    "        \n",
    "        execution_times=execution_times._append(execution_times_model)\n",
    "        \n",
    "    return execution_times"
   ]
  },
  {
   "cell_type": "code",
   "execution_count": 56,
   "id": "244e35cc-fa69-46f4-9d31-dcfb900bdf32",
   "metadata": {},
   "outputs": [
    {
     "data": {
      "text/html": [
       "<div>\n",
       "<style scoped>\n",
       "    .dataframe tbody tr th:only-of-type {\n",
       "        vertical-align: middle;\n",
       "    }\n",
       "\n",
       "    .dataframe tbody tr th {\n",
       "        vertical-align: top;\n",
       "    }\n",
       "\n",
       "    .dataframe thead th {\n",
       "        text-align: right;\n",
       "    }\n",
       "</style>\n",
       "<table border=\"1\" class=\"dataframe\">\n",
       "  <thead>\n",
       "    <tr style=\"text-align: right;\">\n",
       "      <th></th>\n",
       "      <th>Training execution time</th>\n",
       "      <th>Prediction execution time</th>\n",
       "    </tr>\n",
       "  </thead>\n",
       "  <tbody>\n",
       "    <tr>\n",
       "      <th>KNN</th>\n",
       "      <td>28.7504</td>\n",
       "      <td>12.9845</td>\n",
       "    </tr>\n",
       "    <tr>\n",
       "      <th>LOF</th>\n",
       "      <td>47.5296</td>\n",
       "      <td>18.1834</td>\n",
       "    </tr>\n",
       "    <tr>\n",
       "      <th>PCA</th>\n",
       "      <td>0.1043</td>\n",
       "      <td>0.0200</td>\n",
       "    </tr>\n",
       "    <tr>\n",
       "      <th>IForest</th>\n",
       "      <td>1.0661</td>\n",
       "      <td>0.1707</td>\n",
       "    </tr>\n",
       "  </tbody>\n",
       "</table>\n",
       "</div>"
      ],
      "text/plain": [
       "         Training execution time  Prediction execution time\n",
       "KNN                      28.7504                    12.9845\n",
       "LOF                      47.5296                    18.1834\n",
       "PCA                       0.1043                     0.0200\n",
       "IForest                   1.0661                     0.1707"
      ]
     },
     "execution_count": 56,
     "metadata": {},
     "output_type": "execute_result"
    }
   ],
   "source": [
    "# Execution times\n",
    "df_execution_times=execution_times_model_collection(fitted_models_and_predictions_dictionary)\n",
    "df_execution_times"
   ]
  },
  {
   "cell_type": "markdown",
   "id": "45971376-b328-4605-93df-6eb897eb933a",
   "metadata": {},
   "source": [
    "### Observations\n",
    "\n",
    "- All the models are doing better than random model in the sense that each model achieves a ROC AUC above 0.5 for the training and test data.\n",
    "- In terms of which model offer best performance depends on the performance metric we are considering. If we consider the average precision metric for the test data, PCA has a higher average precision then followed by KNN, IForest, and LOF. For the Card precision top_k metric, PCA has the highest card precision value, followed by KNN, IForest, and LOF in that order. For the performance on the test data, \n",
    "-  The training and prediction execution times for KNN and LOF are higher than PCA and IForest."
   ]
  },
  {
   "cell_type": "markdown",
   "id": "2dc17833-1f35-4219-9b50-7ea38f47d10b",
   "metadata": {},
   "source": [
    "# 4.5 Model Serving\n",
    "\n",
    "In this section, we'll be deploying the machine learning models we've developed, enabling us to make predictions on new, unseen data. Our goal is to serve these models in a way that is both scalable and robust, ensuring they can handle a high volume of requests (high throughput) and respond quickly to each request (low latency). To cover all bases, we'll implement both **batch inference (offline) and online inference (real-time)**, though we'll mainly focus on online inference in the subsequent lessons, as it is more suitable for our application - preventing fraud in real-time"
   ]
  },
  {
   "cell_type": "markdown",
   "id": "0dd1349e-0aa8-4e91-8540-2adf59b1cb7c",
   "metadata": {},
   "source": [
    "### 4.5.1 Batch (or Offline) Inference\n",
    "\n",
    "This is useful when we don't need to serve a model's prediction on input data as soon as the input data is received. For instance, our service can be utilized to generate predictions at the end of each day on the aggregated batches of content collected over the course of the day (or a specified time duration, e.g every hour). This approach can be more efficient than making predictions on each individual piece of content if low latency isn't a requirement. Also, it is easier to implement as it doesn't requrie real-time capabilities. \n",
    "\n",
    "On the otherhand, batch inference processes data in chunks, which means there’s a delay between when a transaction occurs and when it’s analyzed. This could result in fraud detection being delayed, potentially allowing fraudulent transactions to go through before they are flagged.\n",
    "\n",
    "For this example, we will:\n",
    "- Load the model and obtain batch inference (or predictions) on new transaction data accumulated over a period of time\n",
    "- Assign prediction labels to the transactions\n",
    "- Assess the performance\n",
    "- Log the batch inference predictions and performance metric results back to MLflow as artifacts\n",
    "\n",
    "In this scenario, we use the  **PCA model** for batch inference, since it seems to offer best results (both on training and test data) if we consider its performance in terms of **Average precision, Card Precision@100, Prediction execution time** in comparison to other models considered for this project. "
   ]
  },
  {
   "cell_type": "code",
   "execution_count": 57,
   "id": "08a279ad-e2d9-4bf8-9daf-10ae0f874448",
   "metadata": {
    "tags": []
   },
   "outputs": [],
   "source": [
    "# Specify the experiment name or ID\n",
    "experiment_name = experiment_name\n",
    "experiment = mlflow.get_experiment_by_name(experiment_name)\n",
    "experiment_id = experiment.experiment_id\n",
    "\n",
    "model_name = \"PCA\"\n",
    "# Search for the run by name\n",
    "run_name = f\"{model_name}_Model_Run_test\"\n",
    "runs = mlflow.search_runs(experiment_ids=[experiment_id], filter_string=f\"tags.mlflow.runName = '{run_name}'\")\n",
    "\n",
    "# Get the run ID\n",
    "pca_run_id = runs.iloc[0]['run_id']  # Assuming run_name is unique"
   ]
  },
  {
   "cell_type": "markdown",
   "id": "54c7ed27-6769-4439-beac-8261b0eb062d",
   "metadata": {},
   "source": [
    "#### - Load Model from MLflow and obtain batch predictions"
   ]
  },
  {
   "cell_type": "code",
   "execution_count": 58,
   "id": "3bac7787-e4fc-47b8-9fc9-49c066309d71",
   "metadata": {
    "tags": []
   },
   "outputs": [],
   "source": [
    "# Load the model from MLflow\n",
    "model_uri = f\"runs:/{pca_run_id}/model\"\n",
    "model = mlflow.sklearn.load_model(model_uri)"
   ]
  },
  {
   "cell_type": "code",
   "execution_count": 59,
   "id": "982e3ec3-78e8-49bc-bc68-42f5214c0d71",
   "metadata": {
    "tags": []
   },
   "outputs": [
    {
     "data": {
      "text/html": [
       "<style>#sk-container-id-1 {\n",
       "  /* Definition of color scheme common for light and dark mode */\n",
       "  --sklearn-color-text: black;\n",
       "  --sklearn-color-line: gray;\n",
       "  /* Definition of color scheme for unfitted estimators */\n",
       "  --sklearn-color-unfitted-level-0: #fff5e6;\n",
       "  --sklearn-color-unfitted-level-1: #f6e4d2;\n",
       "  --sklearn-color-unfitted-level-2: #ffe0b3;\n",
       "  --sklearn-color-unfitted-level-3: chocolate;\n",
       "  /* Definition of color scheme for fitted estimators */\n",
       "  --sklearn-color-fitted-level-0: #f0f8ff;\n",
       "  --sklearn-color-fitted-level-1: #d4ebff;\n",
       "  --sklearn-color-fitted-level-2: #b3dbfd;\n",
       "  --sklearn-color-fitted-level-3: cornflowerblue;\n",
       "\n",
       "  /* Specific color for light theme */\n",
       "  --sklearn-color-text-on-default-background: var(--sg-text-color, var(--theme-code-foreground, var(--jp-content-font-color1, black)));\n",
       "  --sklearn-color-background: var(--sg-background-color, var(--theme-background, var(--jp-layout-color0, white)));\n",
       "  --sklearn-color-border-box: var(--sg-text-color, var(--theme-code-foreground, var(--jp-content-font-color1, black)));\n",
       "  --sklearn-color-icon: #696969;\n",
       "\n",
       "  @media (prefers-color-scheme: dark) {\n",
       "    /* Redefinition of color scheme for dark theme */\n",
       "    --sklearn-color-text-on-default-background: var(--sg-text-color, var(--theme-code-foreground, var(--jp-content-font-color1, white)));\n",
       "    --sklearn-color-background: var(--sg-background-color, var(--theme-background, var(--jp-layout-color0, #111)));\n",
       "    --sklearn-color-border-box: var(--sg-text-color, var(--theme-code-foreground, var(--jp-content-font-color1, white)));\n",
       "    --sklearn-color-icon: #878787;\n",
       "  }\n",
       "}\n",
       "\n",
       "#sk-container-id-1 {\n",
       "  color: var(--sklearn-color-text);\n",
       "}\n",
       "\n",
       "#sk-container-id-1 pre {\n",
       "  padding: 0;\n",
       "}\n",
       "\n",
       "#sk-container-id-1 input.sk-hidden--visually {\n",
       "  border: 0;\n",
       "  clip: rect(1px 1px 1px 1px);\n",
       "  clip: rect(1px, 1px, 1px, 1px);\n",
       "  height: 1px;\n",
       "  margin: -1px;\n",
       "  overflow: hidden;\n",
       "  padding: 0;\n",
       "  position: absolute;\n",
       "  width: 1px;\n",
       "}\n",
       "\n",
       "#sk-container-id-1 div.sk-dashed-wrapped {\n",
       "  border: 1px dashed var(--sklearn-color-line);\n",
       "  margin: 0 0.4em 0.5em 0.4em;\n",
       "  box-sizing: border-box;\n",
       "  padding-bottom: 0.4em;\n",
       "  background-color: var(--sklearn-color-background);\n",
       "}\n",
       "\n",
       "#sk-container-id-1 div.sk-container {\n",
       "  /* jupyter's `normalize.less` sets `[hidden] { display: none; }`\n",
       "     but bootstrap.min.css set `[hidden] { display: none !important; }`\n",
       "     so we also need the `!important` here to be able to override the\n",
       "     default hidden behavior on the sphinx rendered scikit-learn.org.\n",
       "     See: https://github.com/scikit-learn/scikit-learn/issues/21755 */\n",
       "  display: inline-block !important;\n",
       "  position: relative;\n",
       "}\n",
       "\n",
       "#sk-container-id-1 div.sk-text-repr-fallback {\n",
       "  display: none;\n",
       "}\n",
       "\n",
       "div.sk-parallel-item,\n",
       "div.sk-serial,\n",
       "div.sk-item {\n",
       "  /* draw centered vertical line to link estimators */\n",
       "  background-image: linear-gradient(var(--sklearn-color-text-on-default-background), var(--sklearn-color-text-on-default-background));\n",
       "  background-size: 2px 100%;\n",
       "  background-repeat: no-repeat;\n",
       "  background-position: center center;\n",
       "}\n",
       "\n",
       "/* Parallel-specific style estimator block */\n",
       "\n",
       "#sk-container-id-1 div.sk-parallel-item::after {\n",
       "  content: \"\";\n",
       "  width: 100%;\n",
       "  border-bottom: 2px solid var(--sklearn-color-text-on-default-background);\n",
       "  flex-grow: 1;\n",
       "}\n",
       "\n",
       "#sk-container-id-1 div.sk-parallel {\n",
       "  display: flex;\n",
       "  align-items: stretch;\n",
       "  justify-content: center;\n",
       "  background-color: var(--sklearn-color-background);\n",
       "  position: relative;\n",
       "}\n",
       "\n",
       "#sk-container-id-1 div.sk-parallel-item {\n",
       "  display: flex;\n",
       "  flex-direction: column;\n",
       "}\n",
       "\n",
       "#sk-container-id-1 div.sk-parallel-item:first-child::after {\n",
       "  align-self: flex-end;\n",
       "  width: 50%;\n",
       "}\n",
       "\n",
       "#sk-container-id-1 div.sk-parallel-item:last-child::after {\n",
       "  align-self: flex-start;\n",
       "  width: 50%;\n",
       "}\n",
       "\n",
       "#sk-container-id-1 div.sk-parallel-item:only-child::after {\n",
       "  width: 0;\n",
       "}\n",
       "\n",
       "/* Serial-specific style estimator block */\n",
       "\n",
       "#sk-container-id-1 div.sk-serial {\n",
       "  display: flex;\n",
       "  flex-direction: column;\n",
       "  align-items: center;\n",
       "  background-color: var(--sklearn-color-background);\n",
       "  padding-right: 1em;\n",
       "  padding-left: 1em;\n",
       "}\n",
       "\n",
       "\n",
       "/* Toggleable style: style used for estimator/Pipeline/ColumnTransformer box that is\n",
       "clickable and can be expanded/collapsed.\n",
       "- Pipeline and ColumnTransformer use this feature and define the default style\n",
       "- Estimators will overwrite some part of the style using the `sk-estimator` class\n",
       "*/\n",
       "\n",
       "/* Pipeline and ColumnTransformer style (default) */\n",
       "\n",
       "#sk-container-id-1 div.sk-toggleable {\n",
       "  /* Default theme specific background. It is overwritten whether we have a\n",
       "  specific estimator or a Pipeline/ColumnTransformer */\n",
       "  background-color: var(--sklearn-color-background);\n",
       "}\n",
       "\n",
       "/* Toggleable label */\n",
       "#sk-container-id-1 label.sk-toggleable__label {\n",
       "  cursor: pointer;\n",
       "  display: block;\n",
       "  width: 100%;\n",
       "  margin-bottom: 0;\n",
       "  padding: 0.5em;\n",
       "  box-sizing: border-box;\n",
       "  text-align: center;\n",
       "}\n",
       "\n",
       "#sk-container-id-1 label.sk-toggleable__label-arrow:before {\n",
       "  /* Arrow on the left of the label */\n",
       "  content: \"▸\";\n",
       "  float: left;\n",
       "  margin-right: 0.25em;\n",
       "  color: var(--sklearn-color-icon);\n",
       "}\n",
       "\n",
       "#sk-container-id-1 label.sk-toggleable__label-arrow:hover:before {\n",
       "  color: var(--sklearn-color-text);\n",
       "}\n",
       "\n",
       "/* Toggleable content - dropdown */\n",
       "\n",
       "#sk-container-id-1 div.sk-toggleable__content {\n",
       "  max-height: 0;\n",
       "  max-width: 0;\n",
       "  overflow: hidden;\n",
       "  text-align: left;\n",
       "  /* unfitted */\n",
       "  background-color: var(--sklearn-color-unfitted-level-0);\n",
       "}\n",
       "\n",
       "#sk-container-id-1 div.sk-toggleable__content.fitted {\n",
       "  /* fitted */\n",
       "  background-color: var(--sklearn-color-fitted-level-0);\n",
       "}\n",
       "\n",
       "#sk-container-id-1 div.sk-toggleable__content pre {\n",
       "  margin: 0.2em;\n",
       "  border-radius: 0.25em;\n",
       "  color: var(--sklearn-color-text);\n",
       "  /* unfitted */\n",
       "  background-color: var(--sklearn-color-unfitted-level-0);\n",
       "}\n",
       "\n",
       "#sk-container-id-1 div.sk-toggleable__content.fitted pre {\n",
       "  /* unfitted */\n",
       "  background-color: var(--sklearn-color-fitted-level-0);\n",
       "}\n",
       "\n",
       "#sk-container-id-1 input.sk-toggleable__control:checked~div.sk-toggleable__content {\n",
       "  /* Expand drop-down */\n",
       "  max-height: 200px;\n",
       "  max-width: 100%;\n",
       "  overflow: auto;\n",
       "}\n",
       "\n",
       "#sk-container-id-1 input.sk-toggleable__control:checked~label.sk-toggleable__label-arrow:before {\n",
       "  content: \"▾\";\n",
       "}\n",
       "\n",
       "/* Pipeline/ColumnTransformer-specific style */\n",
       "\n",
       "#sk-container-id-1 div.sk-label input.sk-toggleable__control:checked~label.sk-toggleable__label {\n",
       "  color: var(--sklearn-color-text);\n",
       "  background-color: var(--sklearn-color-unfitted-level-2);\n",
       "}\n",
       "\n",
       "#sk-container-id-1 div.sk-label.fitted input.sk-toggleable__control:checked~label.sk-toggleable__label {\n",
       "  background-color: var(--sklearn-color-fitted-level-2);\n",
       "}\n",
       "\n",
       "/* Estimator-specific style */\n",
       "\n",
       "/* Colorize estimator box */\n",
       "#sk-container-id-1 div.sk-estimator input.sk-toggleable__control:checked~label.sk-toggleable__label {\n",
       "  /* unfitted */\n",
       "  background-color: var(--sklearn-color-unfitted-level-2);\n",
       "}\n",
       "\n",
       "#sk-container-id-1 div.sk-estimator.fitted input.sk-toggleable__control:checked~label.sk-toggleable__label {\n",
       "  /* fitted */\n",
       "  background-color: var(--sklearn-color-fitted-level-2);\n",
       "}\n",
       "\n",
       "#sk-container-id-1 div.sk-label label.sk-toggleable__label,\n",
       "#sk-container-id-1 div.sk-label label {\n",
       "  /* The background is the default theme color */\n",
       "  color: var(--sklearn-color-text-on-default-background);\n",
       "}\n",
       "\n",
       "/* On hover, darken the color of the background */\n",
       "#sk-container-id-1 div.sk-label:hover label.sk-toggleable__label {\n",
       "  color: var(--sklearn-color-text);\n",
       "  background-color: var(--sklearn-color-unfitted-level-2);\n",
       "}\n",
       "\n",
       "/* Label box, darken color on hover, fitted */\n",
       "#sk-container-id-1 div.sk-label.fitted:hover label.sk-toggleable__label.fitted {\n",
       "  color: var(--sklearn-color-text);\n",
       "  background-color: var(--sklearn-color-fitted-level-2);\n",
       "}\n",
       "\n",
       "/* Estimator label */\n",
       "\n",
       "#sk-container-id-1 div.sk-label label {\n",
       "  font-family: monospace;\n",
       "  font-weight: bold;\n",
       "  display: inline-block;\n",
       "  line-height: 1.2em;\n",
       "}\n",
       "\n",
       "#sk-container-id-1 div.sk-label-container {\n",
       "  text-align: center;\n",
       "}\n",
       "\n",
       "/* Estimator-specific */\n",
       "#sk-container-id-1 div.sk-estimator {\n",
       "  font-family: monospace;\n",
       "  border: 1px dotted var(--sklearn-color-border-box);\n",
       "  border-radius: 0.25em;\n",
       "  box-sizing: border-box;\n",
       "  margin-bottom: 0.5em;\n",
       "  /* unfitted */\n",
       "  background-color: var(--sklearn-color-unfitted-level-0);\n",
       "}\n",
       "\n",
       "#sk-container-id-1 div.sk-estimator.fitted {\n",
       "  /* fitted */\n",
       "  background-color: var(--sklearn-color-fitted-level-0);\n",
       "}\n",
       "\n",
       "/* on hover */\n",
       "#sk-container-id-1 div.sk-estimator:hover {\n",
       "  /* unfitted */\n",
       "  background-color: var(--sklearn-color-unfitted-level-2);\n",
       "}\n",
       "\n",
       "#sk-container-id-1 div.sk-estimator.fitted:hover {\n",
       "  /* fitted */\n",
       "  background-color: var(--sklearn-color-fitted-level-2);\n",
       "}\n",
       "\n",
       "/* Specification for estimator info (e.g. \"i\" and \"?\") */\n",
       "\n",
       "/* Common style for \"i\" and \"?\" */\n",
       "\n",
       ".sk-estimator-doc-link,\n",
       "a:link.sk-estimator-doc-link,\n",
       "a:visited.sk-estimator-doc-link {\n",
       "  float: right;\n",
       "  font-size: smaller;\n",
       "  line-height: 1em;\n",
       "  font-family: monospace;\n",
       "  background-color: var(--sklearn-color-background);\n",
       "  border-radius: 1em;\n",
       "  height: 1em;\n",
       "  width: 1em;\n",
       "  text-decoration: none !important;\n",
       "  margin-left: 1ex;\n",
       "  /* unfitted */\n",
       "  border: var(--sklearn-color-unfitted-level-1) 1pt solid;\n",
       "  color: var(--sklearn-color-unfitted-level-1);\n",
       "}\n",
       "\n",
       ".sk-estimator-doc-link.fitted,\n",
       "a:link.sk-estimator-doc-link.fitted,\n",
       "a:visited.sk-estimator-doc-link.fitted {\n",
       "  /* fitted */\n",
       "  border: var(--sklearn-color-fitted-level-1) 1pt solid;\n",
       "  color: var(--sklearn-color-fitted-level-1);\n",
       "}\n",
       "\n",
       "/* On hover */\n",
       "div.sk-estimator:hover .sk-estimator-doc-link:hover,\n",
       ".sk-estimator-doc-link:hover,\n",
       "div.sk-label-container:hover .sk-estimator-doc-link:hover,\n",
       ".sk-estimator-doc-link:hover {\n",
       "  /* unfitted */\n",
       "  background-color: var(--sklearn-color-unfitted-level-3);\n",
       "  color: var(--sklearn-color-background);\n",
       "  text-decoration: none;\n",
       "}\n",
       "\n",
       "div.sk-estimator.fitted:hover .sk-estimator-doc-link.fitted:hover,\n",
       ".sk-estimator-doc-link.fitted:hover,\n",
       "div.sk-label-container:hover .sk-estimator-doc-link.fitted:hover,\n",
       ".sk-estimator-doc-link.fitted:hover {\n",
       "  /* fitted */\n",
       "  background-color: var(--sklearn-color-fitted-level-3);\n",
       "  color: var(--sklearn-color-background);\n",
       "  text-decoration: none;\n",
       "}\n",
       "\n",
       "/* Span, style for the box shown on hovering the info icon */\n",
       ".sk-estimator-doc-link span {\n",
       "  display: none;\n",
       "  z-index: 9999;\n",
       "  position: relative;\n",
       "  font-weight: normal;\n",
       "  right: .2ex;\n",
       "  padding: .5ex;\n",
       "  margin: .5ex;\n",
       "  width: min-content;\n",
       "  min-width: 20ex;\n",
       "  max-width: 50ex;\n",
       "  color: var(--sklearn-color-text);\n",
       "  box-shadow: 2pt 2pt 4pt #999;\n",
       "  /* unfitted */\n",
       "  background: var(--sklearn-color-unfitted-level-0);\n",
       "  border: .5pt solid var(--sklearn-color-unfitted-level-3);\n",
       "}\n",
       "\n",
       ".sk-estimator-doc-link.fitted span {\n",
       "  /* fitted */\n",
       "  background: var(--sklearn-color-fitted-level-0);\n",
       "  border: var(--sklearn-color-fitted-level-3);\n",
       "}\n",
       "\n",
       ".sk-estimator-doc-link:hover span {\n",
       "  display: block;\n",
       "}\n",
       "\n",
       "/* \"?\"-specific style due to the `<a>` HTML tag */\n",
       "\n",
       "#sk-container-id-1 a.estimator_doc_link {\n",
       "  float: right;\n",
       "  font-size: 1rem;\n",
       "  line-height: 1em;\n",
       "  font-family: monospace;\n",
       "  background-color: var(--sklearn-color-background);\n",
       "  border-radius: 1rem;\n",
       "  height: 1rem;\n",
       "  width: 1rem;\n",
       "  text-decoration: none;\n",
       "  /* unfitted */\n",
       "  color: var(--sklearn-color-unfitted-level-1);\n",
       "  border: var(--sklearn-color-unfitted-level-1) 1pt solid;\n",
       "}\n",
       "\n",
       "#sk-container-id-1 a.estimator_doc_link.fitted {\n",
       "  /* fitted */\n",
       "  border: var(--sklearn-color-fitted-level-1) 1pt solid;\n",
       "  color: var(--sklearn-color-fitted-level-1);\n",
       "}\n",
       "\n",
       "/* On hover */\n",
       "#sk-container-id-1 a.estimator_doc_link:hover {\n",
       "  /* unfitted */\n",
       "  background-color: var(--sklearn-color-unfitted-level-3);\n",
       "  color: var(--sklearn-color-background);\n",
       "  text-decoration: none;\n",
       "}\n",
       "\n",
       "#sk-container-id-1 a.estimator_doc_link.fitted:hover {\n",
       "  /* fitted */\n",
       "  background-color: var(--sklearn-color-fitted-level-3);\n",
       "}\n",
       "</style><div id=\"sk-container-id-1\" class=\"sk-top-container\"><div class=\"sk-text-repr-fallback\"><pre>Pipeline(steps=[(&#x27;scaler&#x27;, RobustScaler()),\n",
       "                (&#x27;model&#x27;,\n",
       "                 PCA(contamination=0.1, copy=True, iterated_power=&#x27;auto&#x27;, n_components=None,\n",
       "  n_selected_components=None, random_state=None, standardization=True,\n",
       "  svd_solver=&#x27;auto&#x27;, tol=0.0, weighted=True, whiten=False))])</pre><b>In a Jupyter environment, please rerun this cell to show the HTML representation or trust the notebook. <br />On GitHub, the HTML representation is unable to render, please try loading this page with nbviewer.org.</b></div><div class=\"sk-container\" hidden><div class=\"sk-item sk-dashed-wrapped\"><div class=\"sk-label-container\"><div class=\"sk-label fitted sk-toggleable\"><input class=\"sk-toggleable__control sk-hidden--visually\" id=\"sk-estimator-id-1\" type=\"checkbox\" ><label for=\"sk-estimator-id-1\" class=\"sk-toggleable__label fitted sk-toggleable__label-arrow fitted\">&nbsp;&nbsp;Pipeline<a class=\"sk-estimator-doc-link fitted\" rel=\"noreferrer\" target=\"_blank\" href=\"https://scikit-learn.org/1.5/modules/generated/sklearn.pipeline.Pipeline.html\">?<span>Documentation for Pipeline</span></a><span class=\"sk-estimator-doc-link fitted\">i<span>Fitted</span></span></label><div class=\"sk-toggleable__content fitted\"><pre>Pipeline(steps=[(&#x27;scaler&#x27;, RobustScaler()),\n",
       "                (&#x27;model&#x27;,\n",
       "                 PCA(contamination=0.1, copy=True, iterated_power=&#x27;auto&#x27;, n_components=None,\n",
       "  n_selected_components=None, random_state=None, standardization=True,\n",
       "  svd_solver=&#x27;auto&#x27;, tol=0.0, weighted=True, whiten=False))])</pre></div> </div></div><div class=\"sk-serial\"><div class=\"sk-item\"><div class=\"sk-estimator fitted sk-toggleable\"><input class=\"sk-toggleable__control sk-hidden--visually\" id=\"sk-estimator-id-2\" type=\"checkbox\" ><label for=\"sk-estimator-id-2\" class=\"sk-toggleable__label fitted sk-toggleable__label-arrow fitted\">&nbsp;RobustScaler<a class=\"sk-estimator-doc-link fitted\" rel=\"noreferrer\" target=\"_blank\" href=\"https://scikit-learn.org/1.5/modules/generated/sklearn.preprocessing.RobustScaler.html\">?<span>Documentation for RobustScaler</span></a></label><div class=\"sk-toggleable__content fitted\"><pre>RobustScaler()</pre></div> </div></div><div class=\"sk-item\"><div class=\"sk-estimator fitted sk-toggleable\"><input class=\"sk-toggleable__control sk-hidden--visually\" id=\"sk-estimator-id-3\" type=\"checkbox\" ><label for=\"sk-estimator-id-3\" class=\"sk-toggleable__label fitted sk-toggleable__label-arrow fitted\">PCA</label><div class=\"sk-toggleable__content fitted\"><pre>PCA(contamination=0.1, copy=True, iterated_power=&#x27;auto&#x27;, n_components=None,\n",
       "  n_selected_components=None, random_state=None, standardization=True,\n",
       "  svd_solver=&#x27;auto&#x27;, tol=0.0, weighted=True, whiten=False)</pre></div> </div></div></div></div></div></div>"
      ],
      "text/plain": [
       "Pipeline(steps=[('scaler', RobustScaler()),\n",
       "                ('model',\n",
       "                 PCA(contamination=0.1, copy=True, iterated_power='auto', n_components=None,\n",
       "  n_selected_components=None, random_state=None, standardization=True,\n",
       "  svd_solver='auto', tol=0.0, weighted=True, whiten=False))])"
      ]
     },
     "execution_count": 59,
     "metadata": {},
     "output_type": "execute_result"
    }
   ],
   "source": [
    "model"
   ]
  },
  {
   "cell_type": "markdown",
   "id": "5485ea5a-86a4-402a-9837-5eee83eb942c",
   "metadata": {},
   "source": [
    "- Next, we'd get a batch of transactions to predict. Remember that the original data had transactions from BEGIN_DATE = *2021-04-01* to END_DATE = *2021-09-30*, and we used 14 days transactions from *2021-06-14* to the *2021-06-27* for the training set, and from the *2021-07-05* to the *2021-07-11* (7 days) for the test set. \n",
    "\n",
    "- For our batch data we'd collect transaction data for a specific duration set to 1 day. For the example, we'd use transaction data from *2021-09-06*. It means at the end of the day, we run the batch data through our model to obtain predictions."
   ]
  },
  {
   "cell_type": "code",
   "execution_count": 60,
   "id": "b3a81801-e6dc-452e-9494-97ea51d9854e",
   "metadata": {
    "tags": []
   },
   "outputs": [],
   "source": [
    "# get batch of transactions to predict\n",
    "batch_inference_start_period = datetime.datetime.strptime(\"2021-07-18\", \"%Y-%m-%d\")\n",
    "\n",
    "batch_data = transactions_df[(transactions_df.TX_DATETIME>=batch_inference_start_period) &\n",
    "                               (transactions_df.TX_DATETIME<batch_inference_start_period+datetime.timedelta(days=1))].copy()"
   ]
  },
  {
   "cell_type": "code",
   "execution_count": 61,
   "id": "7ef833b3-2e25-4e95-b872-4cadfe484965",
   "metadata": {
    "tags": []
   },
   "outputs": [
    {
     "data": {
      "text/plain": [
       "(9530, 23)"
      ]
     },
     "execution_count": 61,
     "metadata": {},
     "output_type": "execute_result"
    }
   ],
   "source": [
    "batch_data.shape"
   ]
  },
  {
   "cell_type": "code",
   "execution_count": 62,
   "id": "915d8c5c-ff5e-4fad-ace4-0fad82a8481c",
   "metadata": {
    "tags": []
   },
   "outputs": [],
   "source": [
    "# get batch predictions probabilities\n",
    "batch_predictions = model.predict_proba(batch_data[input_features].values, method = 'linear')[:,1] \n",
    "\n",
    "# Add predictions to the batch data\n",
    "batch_data['predictions'] = batch_predictions"
   ]
  },
  {
   "cell_type": "code",
   "execution_count": 63,
   "id": "ac6f11a2-e73c-4c9e-a52d-f8e2ca538f91",
   "metadata": {
    "tags": []
   },
   "outputs": [
    {
     "data": {
      "text/html": [
       "<div>\n",
       "<style scoped>\n",
       "    .dataframe tbody tr th:only-of-type {\n",
       "        vertical-align: middle;\n",
       "    }\n",
       "\n",
       "    .dataframe tbody tr th {\n",
       "        vertical-align: top;\n",
       "    }\n",
       "\n",
       "    .dataframe thead th {\n",
       "        text-align: right;\n",
       "    }\n",
       "</style>\n",
       "<table border=\"1\" class=\"dataframe\">\n",
       "  <thead>\n",
       "    <tr style=\"text-align: right;\">\n",
       "      <th></th>\n",
       "      <th>TRANSACTION_ID</th>\n",
       "      <th>TX_DATETIME</th>\n",
       "      <th>CUSTOMER_ID</th>\n",
       "      <th>TERMINAL_ID</th>\n",
       "      <th>TX_AMOUNT</th>\n",
       "      <th>TX_TIME_SECONDS</th>\n",
       "      <th>TX_TIME_DAYS</th>\n",
       "      <th>TX_FRAUD</th>\n",
       "      <th>TX_FRAUD_SCENARIO</th>\n",
       "      <th>TX_DURING_WEEKEND</th>\n",
       "      <th>...</th>\n",
       "      <th>CUSTOMER_ID_AVG_AMOUNT_7DAY_WINDOW</th>\n",
       "      <th>CUSTOMER_ID_NB_TX_30DAY_WINDOW</th>\n",
       "      <th>CUSTOMER_ID_AVG_AMOUNT_30DAY_WINDOW</th>\n",
       "      <th>TERMINAL_ID_NB_TX_1DAY_WINDOW</th>\n",
       "      <th>TERMINAL_ID_RISK_1DAY_WINDOW</th>\n",
       "      <th>TERMINAL_ID_NB_TX_7DAY_WINDOW</th>\n",
       "      <th>TERMINAL_ID_RISK_7DAY_WINDOW</th>\n",
       "      <th>TERMINAL_ID_NB_TX_30DAY_WINDOW</th>\n",
       "      <th>TERMINAL_ID_RISK_30DAY_WINDOW</th>\n",
       "      <th>predictions</th>\n",
       "    </tr>\n",
       "  </thead>\n",
       "  <tbody>\n",
       "    <tr>\n",
       "      <th>1035659</th>\n",
       "      <td>1035659</td>\n",
       "      <td>2021-07-18 00:02:58</td>\n",
       "      <td>4443</td>\n",
       "      <td>3222</td>\n",
       "      <td>44.67</td>\n",
       "      <td>9331378</td>\n",
       "      <td>108</td>\n",
       "      <td>0</td>\n",
       "      <td>0</td>\n",
       "      <td>1</td>\n",
       "      <td>...</td>\n",
       "      <td>45.249583</td>\n",
       "      <td>105.0</td>\n",
       "      <td>38.726667</td>\n",
       "      <td>2.0</td>\n",
       "      <td>0.0</td>\n",
       "      <td>14.0</td>\n",
       "      <td>0.0</td>\n",
       "      <td>51.0</td>\n",
       "      <td>0.019608</td>\n",
       "      <td>0.133447</td>\n",
       "    </tr>\n",
       "    <tr>\n",
       "      <th>1035660</th>\n",
       "      <td>1035660</td>\n",
       "      <td>2021-07-18 00:03:03</td>\n",
       "      <td>958</td>\n",
       "      <td>9190</td>\n",
       "      <td>40.38</td>\n",
       "      <td>9331383</td>\n",
       "      <td>108</td>\n",
       "      <td>0</td>\n",
       "      <td>0</td>\n",
       "      <td>1</td>\n",
       "      <td>...</td>\n",
       "      <td>53.401250</td>\n",
       "      <td>18.0</td>\n",
       "      <td>52.597222</td>\n",
       "      <td>1.0</td>\n",
       "      <td>0.0</td>\n",
       "      <td>5.0</td>\n",
       "      <td>0.0</td>\n",
       "      <td>23.0</td>\n",
       "      <td>0.000000</td>\n",
       "      <td>0.108189</td>\n",
       "    </tr>\n",
       "    <tr>\n",
       "      <th>1035661</th>\n",
       "      <td>1035661</td>\n",
       "      <td>2021-07-18 00:03:42</td>\n",
       "      <td>4658</td>\n",
       "      <td>7152</td>\n",
       "      <td>41.16</td>\n",
       "      <td>9331422</td>\n",
       "      <td>108</td>\n",
       "      <td>0</td>\n",
       "      <td>0</td>\n",
       "      <td>1</td>\n",
       "      <td>...</td>\n",
       "      <td>33.908636</td>\n",
       "      <td>92.0</td>\n",
       "      <td>32.705326</td>\n",
       "      <td>1.0</td>\n",
       "      <td>0.0</td>\n",
       "      <td>10.0</td>\n",
       "      <td>0.0</td>\n",
       "      <td>26.0</td>\n",
       "      <td>0.000000</td>\n",
       "      <td>0.074722</td>\n",
       "    </tr>\n",
       "    <tr>\n",
       "      <th>1035662</th>\n",
       "      <td>1035662</td>\n",
       "      <td>2021-07-18 00:06:33</td>\n",
       "      <td>474</td>\n",
       "      <td>4907</td>\n",
       "      <td>12.84</td>\n",
       "      <td>9331593</td>\n",
       "      <td>108</td>\n",
       "      <td>0</td>\n",
       "      <td>0</td>\n",
       "      <td>1</td>\n",
       "      <td>...</td>\n",
       "      <td>6.760870</td>\n",
       "      <td>78.0</td>\n",
       "      <td>7.736538</td>\n",
       "      <td>1.0</td>\n",
       "      <td>0.0</td>\n",
       "      <td>7.0</td>\n",
       "      <td>0.0</td>\n",
       "      <td>33.0</td>\n",
       "      <td>0.000000</td>\n",
       "      <td>0.101643</td>\n",
       "    </tr>\n",
       "    <tr>\n",
       "      <th>1035663</th>\n",
       "      <td>1035663</td>\n",
       "      <td>2021-07-18 00:06:49</td>\n",
       "      <td>1264</td>\n",
       "      <td>303</td>\n",
       "      <td>171.85</td>\n",
       "      <td>9331609</td>\n",
       "      <td>108</td>\n",
       "      <td>0</td>\n",
       "      <td>0</td>\n",
       "      <td>1</td>\n",
       "      <td>...</td>\n",
       "      <td>99.882500</td>\n",
       "      <td>72.0</td>\n",
       "      <td>91.405556</td>\n",
       "      <td>0.0</td>\n",
       "      <td>0.0</td>\n",
       "      <td>6.0</td>\n",
       "      <td>0.0</td>\n",
       "      <td>24.0</td>\n",
       "      <td>0.000000</td>\n",
       "      <td>0.154761</td>\n",
       "    </tr>\n",
       "  </tbody>\n",
       "</table>\n",
       "<p>5 rows × 24 columns</p>\n",
       "</div>"
      ],
      "text/plain": [
       "         TRANSACTION_ID         TX_DATETIME CUSTOMER_ID TERMINAL_ID   \n",
       "1035659         1035659 2021-07-18 00:02:58        4443        3222  \\\n",
       "1035660         1035660 2021-07-18 00:03:03         958        9190   \n",
       "1035661         1035661 2021-07-18 00:03:42        4658        7152   \n",
       "1035662         1035662 2021-07-18 00:06:33         474        4907   \n",
       "1035663         1035663 2021-07-18 00:06:49        1264         303   \n",
       "\n",
       "         TX_AMOUNT TX_TIME_SECONDS TX_TIME_DAYS  TX_FRAUD  TX_FRAUD_SCENARIO   \n",
       "1035659      44.67         9331378          108         0                  0  \\\n",
       "1035660      40.38         9331383          108         0                  0   \n",
       "1035661      41.16         9331422          108         0                  0   \n",
       "1035662      12.84         9331593          108         0                  0   \n",
       "1035663     171.85         9331609          108         0                  0   \n",
       "\n",
       "         TX_DURING_WEEKEND  ...  CUSTOMER_ID_AVG_AMOUNT_7DAY_WINDOW   \n",
       "1035659                  1  ...                           45.249583  \\\n",
       "1035660                  1  ...                           53.401250   \n",
       "1035661                  1  ...                           33.908636   \n",
       "1035662                  1  ...                            6.760870   \n",
       "1035663                  1  ...                           99.882500   \n",
       "\n",
       "         CUSTOMER_ID_NB_TX_30DAY_WINDOW  CUSTOMER_ID_AVG_AMOUNT_30DAY_WINDOW   \n",
       "1035659                           105.0                            38.726667  \\\n",
       "1035660                            18.0                            52.597222   \n",
       "1035661                            92.0                            32.705326   \n",
       "1035662                            78.0                             7.736538   \n",
       "1035663                            72.0                            91.405556   \n",
       "\n",
       "         TERMINAL_ID_NB_TX_1DAY_WINDOW  TERMINAL_ID_RISK_1DAY_WINDOW   \n",
       "1035659                            2.0                           0.0  \\\n",
       "1035660                            1.0                           0.0   \n",
       "1035661                            1.0                           0.0   \n",
       "1035662                            1.0                           0.0   \n",
       "1035663                            0.0                           0.0   \n",
       "\n",
       "         TERMINAL_ID_NB_TX_7DAY_WINDOW  TERMINAL_ID_RISK_7DAY_WINDOW   \n",
       "1035659                           14.0                           0.0  \\\n",
       "1035660                            5.0                           0.0   \n",
       "1035661                           10.0                           0.0   \n",
       "1035662                            7.0                           0.0   \n",
       "1035663                            6.0                           0.0   \n",
       "\n",
       "         TERMINAL_ID_NB_TX_30DAY_WINDOW  TERMINAL_ID_RISK_30DAY_WINDOW   \n",
       "1035659                            51.0                       0.019608  \\\n",
       "1035660                            23.0                       0.000000   \n",
       "1035661                            26.0                       0.000000   \n",
       "1035662                            33.0                       0.000000   \n",
       "1035663                            24.0                       0.000000   \n",
       "\n",
       "         predictions  \n",
       "1035659     0.133447  \n",
       "1035660     0.108189  \n",
       "1035661     0.074722  \n",
       "1035662     0.101643  \n",
       "1035663     0.154761  \n",
       "\n",
       "[5 rows x 24 columns]"
      ]
     },
     "execution_count": 63,
     "metadata": {},
     "output_type": "execute_result"
    }
   ],
   "source": [
    "batch_data.head()"
   ]
  },
  {
   "cell_type": "markdown",
   "id": "4a791151-f3ff-4d18-bf6b-6a76fa7940e0",
   "metadata": {},
   "source": [
    "#### - Assign labels to predictions\n",
    "\n",
    "- Now, we'd like to add the predicted class label. Since our dataset is highly imbalanced, we'd use the Precision Recall curve  because it focuses on how well the model identifies the rare fraudulent transactions without getting overwhelmed by the majority of non-fraudulent ones. We will also plot the AUC PR to find the optimal threshold"
   ]
  },
  {
   "cell_type": "code",
   "execution_count": 64,
   "id": "3276b506-9d8f-4a0a-9138-dd6142176643",
   "metadata": {
    "tags": []
   },
   "outputs": [
    {
     "data": {
      "text/plain": [
       "0.45984706927204366"
      ]
     },
     "execution_count": 64,
     "metadata": {},
     "output_type": "execute_result"
    }
   ],
   "source": [
    "from sklearn.metrics import precision_recall_curve, auc\n",
    "\n",
    "# Calculate the Precision-Recall curve\n",
    "precision, recall, thresholds = precision_recall_curve(batch_data['TX_FRAUD'], batch_data['predictions'])\n",
    "\n",
    "auc_pr = auc(recall,precision)\n",
    "auc_pr"
   ]
  },
  {
   "cell_type": "code",
   "execution_count": 65,
   "id": "64c11c71-8da7-405a-8b8f-be23b837c7a2",
   "metadata": {
    "tags": []
   },
   "outputs": [
    {
     "name": "stderr",
     "output_type": "stream",
     "text": [
      "/var/folders/wz/pmcl0g6d277fvthncyx363rm0000gn/T/ipykernel_44121/1026972748.py:2: RuntimeWarning: invalid value encountered in divide\n",
      "  f1_scores = 2 * (precision * recall) / (precision + recall)\n"
     ]
    },
    {
     "data": {
      "text/plain": [
       "0.5054573771609705"
      ]
     },
     "execution_count": 65,
     "metadata": {},
     "output_type": "execute_result"
    }
   ],
   "source": [
    "# Calculate F1 scores for each threshold\n",
    "f1_scores = 2 * (precision * recall) / (precision + recall)\n",
    "\n",
    "# Handle NaN values in F1 scores by filtering them out\n",
    "f1_scores = np.nan_to_num(f1_scores)\n",
    "\n",
    "# Determine the optimal threshold based on the highest F1 score\n",
    "optimal_idx = np.argmax(f1_scores)\n",
    "optimal_threshold = thresholds[optimal_idx]\n",
    "\n",
    "optimal_threshold"
   ]
  },
  {
   "cell_type": "code",
   "execution_count": 66,
   "id": "dbf57518-274f-41a0-9d79-89be1ae0eca7",
   "metadata": {
    "tags": []
   },
   "outputs": [
    {
     "data": {
      "image/png": "[encoded data removed]",
      "text/plain": [
       "<Figure size 1000x500 with 2 Axes>"
      ]
     },
     "metadata": {},
     "output_type": "display_data"
    }
   ],
   "source": [
    "# plot PR Curve and \n",
    "plt.figure(figsize=(10, 5))\n",
    "\n",
    "# Plot Precision-Recall curve\n",
    "plt.subplot(1, 2, 1)\n",
    "plt.plot(recall, precision, marker='.', label='Precision-Recall Curve')\n",
    "plt.xlabel('Recall')\n",
    "plt.ylabel('Precision')\n",
    "plt.title('Precision-Recall Curve')\n",
    "plt.legend()\n",
    "\n",
    "# Plot F1 scores against thresholds\n",
    "plt.subplot(1, 2, 2)\n",
    "plt.plot(thresholds, f1_scores[:-1], marker='.', label='F1 Score')\n",
    "plt.xlabel('Threshold')\n",
    "plt.ylabel('F1 Score')\n",
    "plt.title('F1 Score vs Threshold')\n",
    "plt.legend()\n",
    "\n",
    "plt.tight_layout()\n",
    "plt.show()"
   ]
  },
  {
   "cell_type": "code",
   "execution_count": 67,
   "id": "2c13e099-6883-4c8b-bd4a-04761b819e9e",
   "metadata": {
    "tags": []
   },
   "outputs": [],
   "source": [
    "# Classify using the optimal threshold--> any probability > optimal threshold is labelled '1' (fraud)\n",
    "batch_data['predictions_label']=(batch_data['predictions'] >= optimal_threshold).astype(int)"
   ]
  },
  {
   "cell_type": "code",
   "execution_count": 68,
   "id": "d90d7014-cd5f-4bc4-bb6a-9966e3282dbc",
   "metadata": {
    "tags": []
   },
   "outputs": [
    {
     "data": {
      "text/html": [
       "<div>\n",
       "<style scoped>\n",
       "    .dataframe tbody tr th:only-of-type {\n",
       "        vertical-align: middle;\n",
       "    }\n",
       "\n",
       "    .dataframe tbody tr th {\n",
       "        vertical-align: top;\n",
       "    }\n",
       "\n",
       "    .dataframe thead th {\n",
       "        text-align: right;\n",
       "    }\n",
       "</style>\n",
       "<table border=\"1\" class=\"dataframe\">\n",
       "  <thead>\n",
       "    <tr style=\"text-align: right;\">\n",
       "      <th></th>\n",
       "      <th>CUSTOMER_ID</th>\n",
       "      <th>TX_FRAUD</th>\n",
       "      <th>predictions</th>\n",
       "      <th>predictions_label</th>\n",
       "    </tr>\n",
       "  </thead>\n",
       "  <tbody>\n",
       "    <tr>\n",
       "      <th>1035709</th>\n",
       "      <td>2773</td>\n",
       "      <td>1</td>\n",
       "      <td>0.603063</td>\n",
       "      <td>1</td>\n",
       "    </tr>\n",
       "    <tr>\n",
       "      <th>1035748</th>\n",
       "      <td>1981</td>\n",
       "      <td>1</td>\n",
       "      <td>0.247228</td>\n",
       "      <td>0</td>\n",
       "    </tr>\n",
       "    <tr>\n",
       "      <th>1035810</th>\n",
       "      <td>3895</td>\n",
       "      <td>1</td>\n",
       "      <td>0.702551</td>\n",
       "      <td>1</td>\n",
       "    </tr>\n",
       "    <tr>\n",
       "      <th>1035869</th>\n",
       "      <td>349</td>\n",
       "      <td>1</td>\n",
       "      <td>0.612686</td>\n",
       "      <td>1</td>\n",
       "    </tr>\n",
       "    <tr>\n",
       "      <th>1035996</th>\n",
       "      <td>4073</td>\n",
       "      <td>1</td>\n",
       "      <td>0.087832</td>\n",
       "      <td>0</td>\n",
       "    </tr>\n",
       "    <tr>\n",
       "      <th>1036002</th>\n",
       "      <td>4791</td>\n",
       "      <td>1</td>\n",
       "      <td>0.722628</td>\n",
       "      <td>1</td>\n",
       "    </tr>\n",
       "    <tr>\n",
       "      <th>1036023</th>\n",
       "      <td>2090</td>\n",
       "      <td>1</td>\n",
       "      <td>0.221434</td>\n",
       "      <td>0</td>\n",
       "    </tr>\n",
       "    <tr>\n",
       "      <th>1036438</th>\n",
       "      <td>2409</td>\n",
       "      <td>1</td>\n",
       "      <td>0.665373</td>\n",
       "      <td>1</td>\n",
       "    </tr>\n",
       "    <tr>\n",
       "      <th>1036491</th>\n",
       "      <td>1711</td>\n",
       "      <td>1</td>\n",
       "      <td>0.706667</td>\n",
       "      <td>1</td>\n",
       "    </tr>\n",
       "    <tr>\n",
       "      <th>1036577</th>\n",
       "      <td>4514</td>\n",
       "      <td>1</td>\n",
       "      <td>0.711669</td>\n",
       "      <td>1</td>\n",
       "    </tr>\n",
       "  </tbody>\n",
       "</table>\n",
       "</div>"
      ],
      "text/plain": [
       "        CUSTOMER_ID  TX_FRAUD  predictions  predictions_label\n",
       "1035709        2773         1     0.603063                  1\n",
       "1035748        1981         1     0.247228                  0\n",
       "1035810        3895         1     0.702551                  1\n",
       "1035869         349         1     0.612686                  1\n",
       "1035996        4073         1     0.087832                  0\n",
       "1036002        4791         1     0.722628                  1\n",
       "1036023        2090         1     0.221434                  0\n",
       "1036438        2409         1     0.665373                  1\n",
       "1036491        1711         1     0.706667                  1\n",
       "1036577        4514         1     0.711669                  1"
      ]
     },
     "execution_count": 68,
     "metadata": {},
     "output_type": "execute_result"
    }
   ],
   "source": [
    "# check the prediction labels for the first 10 fraudulent transactions\n",
    "batch_data[batch_data['TX_FRAUD']==1][['CUSTOMER_ID', 'TX_FRAUD', 'predictions','predictions_label']].head(10)"
   ]
  },
  {
   "cell_type": "code",
   "execution_count": 69,
   "id": "f7379f10-1c76-41b4-a2ac-dc34fe9d21b5",
   "metadata": {
    "tags": []
   },
   "outputs": [
    {
     "data": {
      "text/html": [
       "<div>\n",
       "<style scoped>\n",
       "    .dataframe tbody tr th:only-of-type {\n",
       "        vertical-align: middle;\n",
       "    }\n",
       "\n",
       "    .dataframe tbody tr th {\n",
       "        vertical-align: top;\n",
       "    }\n",
       "\n",
       "    .dataframe thead th {\n",
       "        text-align: right;\n",
       "    }\n",
       "</style>\n",
       "<table border=\"1\" class=\"dataframe\">\n",
       "  <thead>\n",
       "    <tr style=\"text-align: right;\">\n",
       "      <th></th>\n",
       "      <th>AUC ROC</th>\n",
       "      <th>Average precision</th>\n",
       "      <th>Card Precision@100</th>\n",
       "    </tr>\n",
       "  </thead>\n",
       "  <tbody>\n",
       "    <tr>\n",
       "      <th>0</th>\n",
       "      <td>0.861</td>\n",
       "      <td>0.467</td>\n",
       "      <td>0.5</td>\n",
       "    </tr>\n",
       "  </tbody>\n",
       "</table>\n",
       "</div>"
      ],
      "text/plain": [
       "   AUC ROC  Average precision  Card Precision@100\n",
       "0    0.861              0.467                 0.5"
      ]
     },
     "execution_count": 69,
     "metadata": {},
     "output_type": "execute_result"
    }
   ],
   "source": [
    "# performances on batch data\n",
    "batch_assessment = performance_assessment(batch_data, top_k_list=[100])\n",
    "batch_assessment"
   ]
  },
  {
   "cell_type": "markdown",
   "id": "6d96bf81-51d4-4c16-81b2-6c9444643496",
   "metadata": {},
   "source": [
    "Our PCA model seems to do well on the batch data with CP@100 being 0.48, meaning that on average within the batch period, 48 compromised cards out of 100 most suspicious card were correctly identified by the prediction model. The number of compromised cards on that day, 2021-07-30 was 79."
   ]
  },
  {
   "cell_type": "code",
   "execution_count": 70,
   "id": "43b32e49-598f-4cb1-b1f5-17a3fcece2ac",
   "metadata": {
    "tags": []
   },
   "outputs": [
    {
     "data": {
      "text/plain": [
       "76"
      ]
     },
     "execution_count": 70,
     "metadata": {},
     "output_type": "execute_result"
    }
   ],
   "source": [
    "batch_data.groupby('CUSTOMER_ID').max().TX_FRAUD.sum()"
   ]
  },
  {
   "cell_type": "markdown",
   "id": "2a3082bd-ae4f-4d1a-88d4-5db06abd3916",
   "metadata": {},
   "source": [
    "Therefore, about 61% of the compromised cards were correctly detected. Also, the AUC ROC is above 0.5 meaning it is performing better than a random classifier"
   ]
  },
  {
   "cell_type": "markdown",
   "id": "bc3cb193-7dd2-448a-a489-020cb2b4e197",
   "metadata": {},
   "source": [
    "#### - Log batch Inference results to MLflow was artifacts"
   ]
  },
  {
   "cell_type": "code",
   "execution_count": 71,
   "id": "f14de638-ee1d-47ad-8106-2acbae0ecf31",
   "metadata": {
    "tags": []
   },
   "outputs": [],
   "source": [
    "# Log the Batch data as an artifact\n",
    "mlflow.start_run(run_id=pca_run_id)\n",
    "\n",
    "# Save predictions as a pickle file\n",
    "output_file = f\"{model_name}_batch_predictions.pkl\"\n",
    "with open(output_file, 'wb') as f:\n",
    "    pickle.dump(batch_data, f)\n",
    "\n",
    "# Log the CSV file as an artifact in the current run\n",
    "mlflow.log_artifact(output_file)\n",
    "\n",
    "# Log batch Inference Performance metrics\n",
    "mlflow.log_metric(\"batch_AUC_ROC\", batch_assessment[\"AUC ROC\"].values[0])\n",
    "mlflow.log_metric(\"batch_Average_precision\", batch_assessment[\"Average precision\"].values[0])\n",
    "mlflow.log_metric(\"batch_Card_Precision_100\", batch_assessment['Card Precision@100'].values[0])\n",
    "\n",
    "# End the run\n",
    "mlflow.end_run()"
   ]
  },
  {
   "cell_type": "markdown",
   "id": "cddf20b0-f6ea-4804-bbc4-7fedcd3565cc",
   "metadata": {},
   "source": [
    "### 4.5.2 Online Inference\n",
    "\n",
    "Although batch inference can be scaled effectively, many models require real-time serving to handle numerous incoming requests efficiently, maintaining high throughput and low latency. We prefer online inference over batch inference for our application because it allows us to promptly categorize transactions as it is received or submitted, enabling the investigators to discover fraudulent transactions more rapidly. This minimizes the potential losses by preventing fraud before it completes.\n",
    "\n",
    "In this section, we will\n",
    "\n",
    "- Set up FastAPI for Model Serving\n",
    "- Integrate MLflow model with FastAPI for real-time inference"
   ]
  },
  {
   "cell_type": "markdown",
   "id": "57d7e829-b2a6-4528-a157-c94527eb5bdf",
   "metadata": {},
   "source": [
    "#### - Set up FastAPI for Model Serving"
   ]
  },
  {
   "cell_type": "code",
   "execution_count": 72,
   "id": "619e84ad-eb2e-4b32-93fd-1970cbcf5d55",
   "metadata": {
    "tags": []
   },
   "outputs": [
    {
     "name": "stderr",
     "output_type": "stream",
     "text": [
      "INFO:     Started server process [44121]\n",
      "INFO:     Waiting for application startup.\n",
      "INFO:     Application startup complete.\n",
      "INFO:     Uvicorn running on http://0.0.0.0:8000 (Press CTRL+C to quit)\n"
     ]
    },
    {
     "name": "stdout",
     "output_type": "stream",
     "text": [
      "INFO:     127.0.0.1:58889 - \"POST /predict HTTP/1.1\" 200 OK\n"
     ]
    }
   ],
   "source": [
    "from fastapi import FastAPI, HTTPException\n",
    "from pydantic import BaseModel\n",
    "import nest_asyncio\n",
    "import uvicorn\n",
    "import logging\n",
    "\n",
    "\n",
    "nest_asyncio.apply()  # Patch the event loop\n",
    "\n",
    "# Define the FastAPI app\n",
    "app = FastAPI(\n",
    "    title=\"Credit Card Fraud Detector\",\n",
    "    description=\"Classify transactions as fraud (1) or not fraud (0).\",\n",
    "    version=\"0.1\")\n",
    "\n",
    "# Load the model\n",
    "model_uri = f\"runs:/{pca_run_id}/model\"\n",
    "model = mlflow.sklearn.load_model(model_uri)\n",
    "\n",
    "\n",
    "# Define input data schema\n",
    "class FraudDetectionInput(BaseModel):\n",
    "    features: list\n",
    "    \n",
    "#Define\n",
    "\n",
    "# Define the FastAPI app\n",
    "app = FastAPI()\n",
    "\n",
    "# Set up logging\n",
    "logging.basicConfig(filename='model_logs.log', level=logging.INFO, \n",
    "                    format='%(asctime)s:%(levelname)s:%(message)s')\n",
    "\n",
    "@app.post(\"/predict\")\n",
    "async def predict(input_data: FraudDetectionInput):\n",
    "    try:\n",
    "        features = np.array(input_data.features).reshape(1, -1)\n",
    "        prediction_prob = model.predict_proba(features, method = 'linear')[:,1] \n",
    "        \n",
    "        # assign label to prediction\n",
    "        threshold = 0.1\n",
    "        prediction_label= int(prediction_prob[0] >= threshold)\n",
    "        \n",
    "        # Log the input data, prediction, and probability\n",
    "        logging.info(f\"Data: {input_data}, Prediction: {int(prediction_label)}, Probability: {float(prediction_prob[0])}\")\n",
    "\n",
    "        \n",
    "        return {\"fraud_prediction_proba\": prediction_prob[0],\"fraud_prediction_label\": prediction_label}\n",
    "    except Exception as e:\n",
    "        raise HTTPException(status_code=500, detail=str(e))\n",
    "\n",
    "\n",
    "@app.get(\"/\")\n",
    "async def read_root():\n",
    "    return {\"message\": \"Credit Card Fraud Detection Model is running!\"}\n",
    "\n",
    "# Run the FastAPI server\n",
    "def run_app():\n",
    "    uvicorn.run(app, host=\"0.0.0.0\", port=8000)\n",
    "\n",
    "import threading\n",
    "threading.Thread(target=run_app).start()"
   ]
  },
  {
   "cell_type": "code",
   "execution_count": 73,
   "id": "c28d7e2d-e860-49ed-ba1b-25b7859cd734",
   "metadata": {
    "tags": []
   },
   "outputs": [],
   "source": [
    "# get a set of transactions for online inference\n",
    "online_inference_start_period = datetime.datetime.strptime(\"2021-07-26\", \"%Y-%m-%d\")\n",
    "\n",
    "online_data = transactions_df[(transactions_df.TX_DATETIME>=online_inference_start_period) &\n",
    "                               (transactions_df.TX_DATETIME<online_inference_start_period+datetime.timedelta(days=1))].copy()"
   ]
  },
  {
   "cell_type": "markdown",
   "id": "42d73031-bff5-411b-a883-a8b1b2dcfbf4",
   "metadata": {},
   "source": [
    "Since we are more interested in the fraudulent transactions, which occurs rarely in the dataset, we would create this function such that 80% of the time it chooses transactions that originally have been tagged as FRAUD. This data instance will be used for online inference."
   ]
  },
  {
   "cell_type": "code",
   "execution_count": 74,
   "id": "864e7d5d-409b-4568-85fb-e1980b00d829",
   "metadata": {
    "tags": []
   },
   "outputs": [],
   "source": [
    "def select_instance(df, target_column, target_value, target_ratio=0.5):\n",
    "    \"\"\"\n",
    "    Function to randomly select an instance from a DataFrame, with a higher probability of selecting \n",
    "    from the target class.\n",
    "    \n",
    "    Parameters:\n",
    "    df (pd.DataFrame): The input DataFrame.\n",
    "    target_column (str): The name of the target column.\n",
    "    target_value (any): The value in the target column to select 50% of the time.\n",
    "    target_ratio (float): The probability of selecting from the target class (default is 0.5).\n",
    "    \n",
    "    Returns:\n",
    "    pd.Series: A randomly selected instance from the DataFrame.\n",
    "    \"\"\"\n",
    "    \n",
    "    # Separate the DataFrame into the target class and the other class(es)\n",
    "    df_target = df[df[target_column] == target_value]\n",
    "    df_non_target = df[df[target_column] != target_value]\n",
    "    \n",
    "    # Decide whether to pick from the target class or the non-target class\n",
    "    if np.random.rand() < target_ratio:\n",
    "        # Select from the target class\n",
    "        selected_instance = df_target.sample(n=1, random_state=None)\n",
    "    else:\n",
    "        # Select from the non-target class\n",
    "        selected_instance = df_non_target.sample(n=1, random_state=None)\n",
    "    \n",
    "    return selected_instance.iloc[0]  # Return as a pandas Series"
   ]
  },
  {
   "cell_type": "code",
   "execution_count": 75,
   "id": "4cd94995-b523-4b97-bc7d-e82d0ed33acb",
   "metadata": {
    "tags": []
   },
   "outputs": [
    {
     "name": "stdout",
     "output_type": "stream",
     "text": [
      "True Label: 1\n",
      "{'fraud_prediction_proba': 0.21535378739243877, 'fraud_prediction_label': 1}\n"
     ]
    }
   ],
   "source": [
    "import requests\n",
    "\n",
    "# select an instance\n",
    "selected_instance = select_instance(online_data, target_column='TX_FRAUD', target_value=1, target_ratio=0.8)\n",
    "print(f\"True Label: {selected_instance['TX_FRAUD']}\")\n",
    "\n",
    "# Define input data\n",
    "input_data = selected_instance[input_features].values.astype(float)\n",
    "\n",
    "# Define the test data\n",
    "test_data = {\n",
    "    \"features\":input_data.tolist()  # Use the first instance of the test set\n",
    "}\n",
    "\n",
    "# Send a request to the FastAPI server\n",
    "response = requests.post(\"http://localhost:8000/predict\", json=test_data)\n",
    "\n",
    "# Print the response from the server\n",
    "print(response.json())"
   ]
  },
  {
   "cell_type": "markdown",
   "id": "cc9f61a7-5b8c-49c5-81ca-b5d98ae0bb2d",
   "metadata": {},
   "source": [
    "# END"
   ]
  }
 ],
 "metadata": {
  "kernelspec": {
   "display_name": "Python 3 (ipykernel)",
   "language": "python",
   "name": "python3"
  },
  "language_info": {
   "codemirror_mode": {
    "name": "ipython",
    "version": 3
   },
   "file_extension": ".py",
   "mimetype": "text/x-python",
   "name": "python",
   "nbconvert_exporter": "python",
   "pygments_lexer": "ipython3",
   "version": "3.10.14"
  }
 },
 "nbformat": 4,
 "nbformat_minor": 5
}
